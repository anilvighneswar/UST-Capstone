{
 "cells": [
  {
   "cell_type": "markdown",
   "metadata": {
    "application/vnd.databricks.v1+cell": {
     "cellMetadata": {},
     "inputWidgets": {},
     "nuid": "1881c49e-72aa-4929-bdfd-c31ea1b1e90e",
     "showTitle": false,
     "title": ""
    }
   },
   "source": [
    "### Reading Data from Azure Blob Storage"
   ]
  },
  {
   "cell_type": "code",
   "execution_count": null,
   "metadata": {
    "application/vnd.databricks.v1+cell": {
     "cellMetadata": {
      "byteLimit": 2048000,
      "rowLimit": 10000
     },
     "inputWidgets": {},
     "nuid": "c93f7ecc-df34-48a7-8c82-e83c9b1337c4",
     "showTitle": false,
     "title": ""
    }
   },
   "outputs": [],
   "source": [
    "%python\n",
    "spark.conf.set(f\"fs.azure.account.key.cs0storage0acc.blob.core.windows.net\", '<accountkey>')\n"
   ]
  },
  {
   "cell_type": "code",
   "execution_count": null,
   "metadata": {
    "application/vnd.databricks.v1+cell": {
     "cellMetadata": {
      "byteLimit": 2048000,
      "rowLimit": 10000
     },
     "inputWidgets": {},
     "nuid": "7f89349d-195f-4acb-b60a-c28c36bad218",
     "showTitle": false,
     "title": ""
    }
   },
   "outputs": [
    {
     "data": {
      "text/html": [
       "<div>\n",
       "<style scoped>\n",
       "    .dataframe tbody tr th:only-of-type {\n",
       "        vertical-align: middle;\n",
       "    }\n",
       "\n",
       "    .dataframe tbody tr th {\n",
       "        vertical-align: top;\n",
       "    }\n",
       "\n",
       "    .dataframe thead th {\n",
       "        text-align: right;\n",
       "    }\n",
       "</style>\n",
       "<table border=\"1\" class=\"dataframe\">\n",
       "  <thead>\n",
       "    <tr style=\"text-align: right;\">\n",
       "      <th></th>\n",
       "      <th>store_id</th>\n",
       "      <th>product_id</th>\n",
       "      <th>date</th>\n",
       "      <th>sales</th>\n",
       "      <th>revenue</th>\n",
       "      <th>stock</th>\n",
       "      <th>price</th>\n",
       "      <th>promo_type_1</th>\n",
       "      <th>day_id</th>\n",
       "      <th>month_id</th>\n",
       "      <th>...</th>\n",
       "      <th>product_width</th>\n",
       "      <th>cluster_id</th>\n",
       "      <th>hierarchy1_id</th>\n",
       "      <th>hierarchy2_id</th>\n",
       "      <th>hierarchy3_id</th>\n",
       "      <th>hierarchy4_id</th>\n",
       "      <th>hierarchy5_id</th>\n",
       "      <th>storetype_id</th>\n",
       "      <th>store_size</th>\n",
       "      <th>city_id</th>\n",
       "    </tr>\n",
       "  </thead>\n",
       "  <tbody>\n",
       "    <tr>\n",
       "      <th>0</th>\n",
       "      <td>S0006</td>\n",
       "      <td>P0004</td>\n",
       "      <td>2017-01-02</td>\n",
       "      <td>0.0</td>\n",
       "      <td>0.00</td>\n",
       "      <td>18.0</td>\n",
       "      <td>4.50</td>\n",
       "      <td>PR14</td>\n",
       "      <td>2</td>\n",
       "      <td>1</td>\n",
       "      <td>...</td>\n",
       "      <td>4.0</td>\n",
       "      <td>cluster_3</td>\n",
       "      <td>H03</td>\n",
       "      <td>H0314</td>\n",
       "      <td>H031405</td>\n",
       "      <td>H03140500</td>\n",
       "      <td>H0314050003</td>\n",
       "      <td>ST03</td>\n",
       "      <td>8</td>\n",
       "      <td>C024</td>\n",
       "    </tr>\n",
       "    <tr>\n",
       "      <th>1</th>\n",
       "      <td>S0013</td>\n",
       "      <td>P0005</td>\n",
       "      <td>2017-01-02</td>\n",
       "      <td>0.0</td>\n",
       "      <td>0.00</td>\n",
       "      <td>11.0</td>\n",
       "      <td>33.90</td>\n",
       "      <td>PR14</td>\n",
       "      <td>2</td>\n",
       "      <td>1</td>\n",
       "      <td>...</td>\n",
       "      <td>16.0</td>\n",
       "      <td>cluster_9</td>\n",
       "      <td>H03</td>\n",
       "      <td>H0312</td>\n",
       "      <td>H031211</td>\n",
       "      <td>H03121109</td>\n",
       "      <td>H0312110917</td>\n",
       "      <td>ST04</td>\n",
       "      <td>33</td>\n",
       "      <td>C026</td>\n",
       "    </tr>\n",
       "    <tr>\n",
       "      <th>2</th>\n",
       "      <td>S0026</td>\n",
       "      <td>P0005</td>\n",
       "      <td>2017-01-02</td>\n",
       "      <td>0.0</td>\n",
       "      <td>0.00</td>\n",
       "      <td>4.0</td>\n",
       "      <td>33.90</td>\n",
       "      <td>PR14</td>\n",
       "      <td>2</td>\n",
       "      <td>1</td>\n",
       "      <td>...</td>\n",
       "      <td>16.0</td>\n",
       "      <td>cluster_9</td>\n",
       "      <td>H03</td>\n",
       "      <td>H0312</td>\n",
       "      <td>H031211</td>\n",
       "      <td>H03121109</td>\n",
       "      <td>H0312110917</td>\n",
       "      <td>ST04</td>\n",
       "      <td>41</td>\n",
       "      <td>C014</td>\n",
       "    </tr>\n",
       "    <tr>\n",
       "      <th>3</th>\n",
       "      <td>S0013</td>\n",
       "      <td>P0001</td>\n",
       "      <td>2017-01-02</td>\n",
       "      <td>2.0</td>\n",
       "      <td>10.59</td>\n",
       "      <td>0.0</td>\n",
       "      <td>6.25</td>\n",
       "      <td>PR14</td>\n",
       "      <td>2</td>\n",
       "      <td>1</td>\n",
       "      <td>...</td>\n",
       "      <td>20.0</td>\n",
       "      <td>cluster_5</td>\n",
       "      <td>H01</td>\n",
       "      <td>H0105</td>\n",
       "      <td>H010501</td>\n",
       "      <td>H01050100</td>\n",
       "      <td>H0105010006</td>\n",
       "      <td>ST04</td>\n",
       "      <td>33</td>\n",
       "      <td>C026</td>\n",
       "    </tr>\n",
       "    <tr>\n",
       "      <th>4</th>\n",
       "      <td>S0104</td>\n",
       "      <td>P0005</td>\n",
       "      <td>2017-01-02</td>\n",
       "      <td>0.0</td>\n",
       "      <td>0.00</td>\n",
       "      <td>3.0</td>\n",
       "      <td>33.90</td>\n",
       "      <td>PR14</td>\n",
       "      <td>2</td>\n",
       "      <td>1</td>\n",
       "      <td>...</td>\n",
       "      <td>16.0</td>\n",
       "      <td>cluster_9</td>\n",
       "      <td>H03</td>\n",
       "      <td>H0312</td>\n",
       "      <td>H031211</td>\n",
       "      <td>H03121109</td>\n",
       "      <td>H0312110917</td>\n",
       "      <td>ST04</td>\n",
       "      <td>47</td>\n",
       "      <td>C002</td>\n",
       "    </tr>\n",
       "    <tr>\n",
       "      <th>...</th>\n",
       "      <td>...</td>\n",
       "      <td>...</td>\n",
       "      <td>...</td>\n",
       "      <td>...</td>\n",
       "      <td>...</td>\n",
       "      <td>...</td>\n",
       "      <td>...</td>\n",
       "      <td>...</td>\n",
       "      <td>...</td>\n",
       "      <td>...</td>\n",
       "      <td>...</td>\n",
       "      <td>...</td>\n",
       "      <td>...</td>\n",
       "      <td>...</td>\n",
       "      <td>...</td>\n",
       "      <td>...</td>\n",
       "      <td>...</td>\n",
       "      <td>...</td>\n",
       "      <td>...</td>\n",
       "      <td>...</td>\n",
       "      <td>...</td>\n",
       "    </tr>\n",
       "    <tr>\n",
       "      <th>2143515</th>\n",
       "      <td>S0141</td>\n",
       "      <td>P0099</td>\n",
       "      <td>2019-11-08</td>\n",
       "      <td>0.0</td>\n",
       "      <td>0.00</td>\n",
       "      <td>9.0</td>\n",
       "      <td>8.00</td>\n",
       "      <td>PR14</td>\n",
       "      <td>8</td>\n",
       "      <td>11</td>\n",
       "      <td>...</td>\n",
       "      <td>10.0</td>\n",
       "      <td>cluster_0</td>\n",
       "      <td>H03</td>\n",
       "      <td>H0313</td>\n",
       "      <td>H031302</td>\n",
       "      <td>H03130210</td>\n",
       "      <td>H0313021001</td>\n",
       "      <td>ST03</td>\n",
       "      <td>12</td>\n",
       "      <td>C005</td>\n",
       "    </tr>\n",
       "    <tr>\n",
       "      <th>2143516</th>\n",
       "      <td>S0020</td>\n",
       "      <td>P0100</td>\n",
       "      <td>2019-11-08</td>\n",
       "      <td>0.0</td>\n",
       "      <td>0.00</td>\n",
       "      <td>9.0</td>\n",
       "      <td>7.90</td>\n",
       "      <td>PR14</td>\n",
       "      <td>8</td>\n",
       "      <td>11</td>\n",
       "      <td>...</td>\n",
       "      <td>21.0</td>\n",
       "      <td>cluster_0</td>\n",
       "      <td>H03</td>\n",
       "      <td>H0313</td>\n",
       "      <td>H031307</td>\n",
       "      <td>H03130700</td>\n",
       "      <td>H0313070009</td>\n",
       "      <td>ST04</td>\n",
       "      <td>36</td>\n",
       "      <td>C014</td>\n",
       "    </tr>\n",
       "    <tr>\n",
       "      <th>2143517</th>\n",
       "      <td>S0050</td>\n",
       "      <td>P0078</td>\n",
       "      <td>2019-11-05</td>\n",
       "      <td>0.0</td>\n",
       "      <td>0.00</td>\n",
       "      <td>9.0</td>\n",
       "      <td>6.50</td>\n",
       "      <td>PR14</td>\n",
       "      <td>5</td>\n",
       "      <td>11</td>\n",
       "      <td>...</td>\n",
       "      <td>7.5</td>\n",
       "      <td>cluster_2</td>\n",
       "      <td>H00</td>\n",
       "      <td>H0003</td>\n",
       "      <td>H000312</td>\n",
       "      <td>H00031205</td>\n",
       "      <td>H0003120501</td>\n",
       "      <td>ST04</td>\n",
       "      <td>31</td>\n",
       "      <td>C014</td>\n",
       "    </tr>\n",
       "    <tr>\n",
       "      <th>2143518</th>\n",
       "      <td>S0050</td>\n",
       "      <td>P0100</td>\n",
       "      <td>2019-11-08</td>\n",
       "      <td>0.0</td>\n",
       "      <td>0.00</td>\n",
       "      <td>9.0</td>\n",
       "      <td>7.90</td>\n",
       "      <td>PR14</td>\n",
       "      <td>8</td>\n",
       "      <td>11</td>\n",
       "      <td>...</td>\n",
       "      <td>21.0</td>\n",
       "      <td>cluster_0</td>\n",
       "      <td>H03</td>\n",
       "      <td>H0313</td>\n",
       "      <td>H031307</td>\n",
       "      <td>H03130700</td>\n",
       "      <td>H0313070009</td>\n",
       "      <td>ST04</td>\n",
       "      <td>31</td>\n",
       "      <td>C014</td>\n",
       "    </tr>\n",
       "    <tr>\n",
       "      <th>2143519</th>\n",
       "      <td>S0102</td>\n",
       "      <td>P0100</td>\n",
       "      <td>2019-11-08</td>\n",
       "      <td>0.0</td>\n",
       "      <td>0.00</td>\n",
       "      <td>9.0</td>\n",
       "      <td>7.90</td>\n",
       "      <td>PR14</td>\n",
       "      <td>8</td>\n",
       "      <td>11</td>\n",
       "      <td>...</td>\n",
       "      <td>21.0</td>\n",
       "      <td>cluster_0</td>\n",
       "      <td>H03</td>\n",
       "      <td>H0313</td>\n",
       "      <td>H031307</td>\n",
       "      <td>H03130700</td>\n",
       "      <td>H0313070009</td>\n",
       "      <td>ST04</td>\n",
       "      <td>27</td>\n",
       "      <td>C018</td>\n",
       "    </tr>\n",
       "  </tbody>\n",
       "</table>\n",
       "<p>2143520 rows × 25 columns</p>\n",
       "</div>"
      ]
     },
     "metadata": {
      "application/vnd.databricks.v1+output": {
       "addedWidgets": {},
       "arguments": {},
       "data": "<div>\n<style scoped>\n    .dataframe tbody tr th:only-of-type {\n        vertical-align: middle;\n    }\n\n    .dataframe tbody tr th {\n        vertical-align: top;\n    }\n\n    .dataframe thead th {\n        text-align: right;\n    }\n</style>\n<table border=\"1\" class=\"dataframe\">\n  <thead>\n    <tr style=\"text-align: right;\">\n      <th></th>\n      <th>store_id</th>\n      <th>product_id</th>\n      <th>date</th>\n      <th>sales</th>\n      <th>revenue</th>\n      <th>stock</th>\n      <th>price</th>\n      <th>promo_type_1</th>\n      <th>day_id</th>\n      <th>month_id</th>\n      <th>...</th>\n      <th>product_width</th>\n      <th>cluster_id</th>\n      <th>hierarchy1_id</th>\n      <th>hierarchy2_id</th>\n      <th>hierarchy3_id</th>\n      <th>hierarchy4_id</th>\n      <th>hierarchy5_id</th>\n      <th>storetype_id</th>\n      <th>store_size</th>\n      <th>city_id</th>\n    </tr>\n  </thead>\n  <tbody>\n    <tr>\n      <th>0</th>\n      <td>S0006</td>\n      <td>P0004</td>\n      <td>2017-01-02</td>\n      <td>0.0</td>\n      <td>0.00</td>\n      <td>18.0</td>\n      <td>4.50</td>\n      <td>PR14</td>\n      <td>2</td>\n      <td>1</td>\n      <td>...</td>\n      <td>4.0</td>\n      <td>cluster_3</td>\n      <td>H03</td>\n      <td>H0314</td>\n      <td>H031405</td>\n      <td>H03140500</td>\n      <td>H0314050003</td>\n      <td>ST03</td>\n      <td>8</td>\n      <td>C024</td>\n    </tr>\n    <tr>\n      <th>1</th>\n      <td>S0013</td>\n      <td>P0005</td>\n      <td>2017-01-02</td>\n      <td>0.0</td>\n      <td>0.00</td>\n      <td>11.0</td>\n      <td>33.90</td>\n      <td>PR14</td>\n      <td>2</td>\n      <td>1</td>\n      <td>...</td>\n      <td>16.0</td>\n      <td>cluster_9</td>\n      <td>H03</td>\n      <td>H0312</td>\n      <td>H031211</td>\n      <td>H03121109</td>\n      <td>H0312110917</td>\n      <td>ST04</td>\n      <td>33</td>\n      <td>C026</td>\n    </tr>\n    <tr>\n      <th>2</th>\n      <td>S0026</td>\n      <td>P0005</td>\n      <td>2017-01-02</td>\n      <td>0.0</td>\n      <td>0.00</td>\n      <td>4.0</td>\n      <td>33.90</td>\n      <td>PR14</td>\n      <td>2</td>\n      <td>1</td>\n      <td>...</td>\n      <td>16.0</td>\n      <td>cluster_9</td>\n      <td>H03</td>\n      <td>H0312</td>\n      <td>H031211</td>\n      <td>H03121109</td>\n      <td>H0312110917</td>\n      <td>ST04</td>\n      <td>41</td>\n      <td>C014</td>\n    </tr>\n    <tr>\n      <th>3</th>\n      <td>S0013</td>\n      <td>P0001</td>\n      <td>2017-01-02</td>\n      <td>2.0</td>\n      <td>10.59</td>\n      <td>0.0</td>\n      <td>6.25</td>\n      <td>PR14</td>\n      <td>2</td>\n      <td>1</td>\n      <td>...</td>\n      <td>20.0</td>\n      <td>cluster_5</td>\n      <td>H01</td>\n      <td>H0105</td>\n      <td>H010501</td>\n      <td>H01050100</td>\n      <td>H0105010006</td>\n      <td>ST04</td>\n      <td>33</td>\n      <td>C026</td>\n    </tr>\n    <tr>\n      <th>4</th>\n      <td>S0104</td>\n      <td>P0005</td>\n      <td>2017-01-02</td>\n      <td>0.0</td>\n      <td>0.00</td>\n      <td>3.0</td>\n      <td>33.90</td>\n      <td>PR14</td>\n      <td>2</td>\n      <td>1</td>\n      <td>...</td>\n      <td>16.0</td>\n      <td>cluster_9</td>\n      <td>H03</td>\n      <td>H0312</td>\n      <td>H031211</td>\n      <td>H03121109</td>\n      <td>H0312110917</td>\n      <td>ST04</td>\n      <td>47</td>\n      <td>C002</td>\n    </tr>\n    <tr>\n      <th>...</th>\n      <td>...</td>\n      <td>...</td>\n      <td>...</td>\n      <td>...</td>\n      <td>...</td>\n      <td>...</td>\n      <td>...</td>\n      <td>...</td>\n      <td>...</td>\n      <td>...</td>\n      <td>...</td>\n      <td>...</td>\n      <td>...</td>\n      <td>...</td>\n      <td>...</td>\n      <td>...</td>\n      <td>...</td>\n      <td>...</td>\n      <td>...</td>\n      <td>...</td>\n      <td>...</td>\n    </tr>\n    <tr>\n      <th>2143515</th>\n      <td>S0141</td>\n      <td>P0099</td>\n      <td>2019-11-08</td>\n      <td>0.0</td>\n      <td>0.00</td>\n      <td>9.0</td>\n      <td>8.00</td>\n      <td>PR14</td>\n      <td>8</td>\n      <td>11</td>\n      <td>...</td>\n      <td>10.0</td>\n      <td>cluster_0</td>\n      <td>H03</td>\n      <td>H0313</td>\n      <td>H031302</td>\n      <td>H03130210</td>\n      <td>H0313021001</td>\n      <td>ST03</td>\n      <td>12</td>\n      <td>C005</td>\n    </tr>\n    <tr>\n      <th>2143516</th>\n      <td>S0020</td>\n      <td>P0100</td>\n      <td>2019-11-08</td>\n      <td>0.0</td>\n      <td>0.00</td>\n      <td>9.0</td>\n      <td>7.90</td>\n      <td>PR14</td>\n      <td>8</td>\n      <td>11</td>\n      <td>...</td>\n      <td>21.0</td>\n      <td>cluster_0</td>\n      <td>H03</td>\n      <td>H0313</td>\n      <td>H031307</td>\n      <td>H03130700</td>\n      <td>H0313070009</td>\n      <td>ST04</td>\n      <td>36</td>\n      <td>C014</td>\n    </tr>\n    <tr>\n      <th>2143517</th>\n      <td>S0050</td>\n      <td>P0078</td>\n      <td>2019-11-05</td>\n      <td>0.0</td>\n      <td>0.00</td>\n      <td>9.0</td>\n      <td>6.50</td>\n      <td>PR14</td>\n      <td>5</td>\n      <td>11</td>\n      <td>...</td>\n      <td>7.5</td>\n      <td>cluster_2</td>\n      <td>H00</td>\n      <td>H0003</td>\n      <td>H000312</td>\n      <td>H00031205</td>\n      <td>H0003120501</td>\n      <td>ST04</td>\n      <td>31</td>\n      <td>C014</td>\n    </tr>\n    <tr>\n      <th>2143518</th>\n      <td>S0050</td>\n      <td>P0100</td>\n      <td>2019-11-08</td>\n      <td>0.0</td>\n      <td>0.00</td>\n      <td>9.0</td>\n      <td>7.90</td>\n      <td>PR14</td>\n      <td>8</td>\n      <td>11</td>\n      <td>...</td>\n      <td>21.0</td>\n      <td>cluster_0</td>\n      <td>H03</td>\n      <td>H0313</td>\n      <td>H031307</td>\n      <td>H03130700</td>\n      <td>H0313070009</td>\n      <td>ST04</td>\n      <td>31</td>\n      <td>C014</td>\n    </tr>\n    <tr>\n      <th>2143519</th>\n      <td>S0102</td>\n      <td>P0100</td>\n      <td>2019-11-08</td>\n      <td>0.0</td>\n      <td>0.00</td>\n      <td>9.0</td>\n      <td>7.90</td>\n      <td>PR14</td>\n      <td>8</td>\n      <td>11</td>\n      <td>...</td>\n      <td>21.0</td>\n      <td>cluster_0</td>\n      <td>H03</td>\n      <td>H0313</td>\n      <td>H031307</td>\n      <td>H03130700</td>\n      <td>H0313070009</td>\n      <td>ST04</td>\n      <td>27</td>\n      <td>C018</td>\n    </tr>\n  </tbody>\n</table>\n<p>2143520 rows × 25 columns</p>\n</div>",
       "datasetInfos": [],
       "metadata": {},
       "removedWidgets": [],
       "textData": null,
       "type": "htmlSandbox"
      }
     },
     "output_type": "display_data"
    }
   ],
   "source": [
    "%python\n",
    "parquet_path = f\"wasbs://transformationoutput@cs0storage0acc.blob.core.windows.net/output.parquet\"\n",
    "df = spark.read.parquet(parquet_path)\n",
    "df.toPandas()"
   ]
  },
  {
   "cell_type": "markdown",
   "metadata": {
    "application/vnd.databricks.v1+cell": {
     "cellMetadata": {},
     "inputWidgets": {},
     "nuid": "313e27e9-6c82-4046-9282-86e0058a5e89",
     "showTitle": false,
     "title": ""
    }
   },
   "source": [
    "### Creating Materialized Views"
   ]
  },
  {
   "cell_type": "code",
   "execution_count": null,
   "metadata": {
    "application/vnd.databricks.v1+cell": {
     "cellMetadata": {
      "byteLimit": 2048000,
      "rowLimit": 10000
     },
     "inputWidgets": {},
     "nuid": "219c4ef6-29b4-4a8b-8c4a-168ba7d69690",
     "showTitle": false,
     "title": ""
    }
   },
   "outputs": [],
   "source": [
    "%python\n",
    "df.createOrReplaceTempView(\"overview\")"
   ]
  },
  {
   "cell_type": "code",
   "execution_count": null,
   "metadata": {
    "application/vnd.databricks.v1+cell": {
     "cellMetadata": {
      "byteLimit": 2048000,
      "rowLimit": 10000
     },
     "inputWidgets": {},
     "nuid": "231b6927-27e5-4cf7-9e22-9ed57c732c1c",
     "showTitle": false,
     "title": ""
    }
   },
   "outputs": [],
   "source": [
    "%python\n",
    "store_df = df.select(\n",
    "    \"store_id\",\n",
    "    \"storetype_id\",\n",
    "    \"store_size\",\n",
    "    \"city_id\"\n",
    ")\n",
    "store_df.createOrReplaceTempView(\"stores_view\")"
   ]
  },
  {
   "cell_type": "code",
   "execution_count": null,
   "metadata": {
    "application/vnd.databricks.v1+cell": {
     "cellMetadata": {
      "byteLimit": 2048000,
      "rowLimit": 10000
     },
     "inputWidgets": {},
     "nuid": "87d2b3c1-187c-4962-85b0-5f2ea6a1f5c6",
     "showTitle": false,
     "title": ""
    }
   },
   "outputs": [],
   "source": [
    "%python\n",
    "sales_view_df = df.select(\n",
    "    \"product_id\",\n",
    "    \"store_id\",\n",
    "    \"date\",\n",
    "    \"stock\",\n",
    "    \"sales\",\n",
    "    \"revenue\",\n",
    "    \"price\",\n",
    "    \"day_id\",\n",
    "    \"month_id\",\n",
    "    \"year_id\",\n",
    "    \"day_of_week\",\n",
    "    \"business_quarter\",\n",
    "    \"promo_type_1\"\n",
    ")\n",
    "\n",
    "sales_view_df.createOrReplaceTempView(\"sales_view\")"
   ]
  },
  {
   "cell_type": "markdown",
   "metadata": {
    "application/vnd.databricks.v1+cell": {
     "cellMetadata": {},
     "inputWidgets": {},
     "nuid": "c2bb2c72-ebbe-4c89-80b1-4bc06676bfab",
     "showTitle": false,
     "title": ""
    }
   },
   "source": [
    "### Total Products"
   ]
  },
  {
   "cell_type": "code",
   "execution_count": null,
   "metadata": {
    "application/vnd.databricks.v1+cell": {
     "cellMetadata": {
      "byteLimit": 2048000,
      "implicitDf": true,
      "rowLimit": 10000
     },
     "inputWidgets": {},
     "nuid": "ec9a56a9-3aca-49bc-8ff2-10719c708c57",
     "showTitle": false,
     "title": ""
    }
   },
   "outputs": [
    {
     "data": {
      "text/html": [
       "<style scoped>\n",
       "  .table-result-container {\n",
       "    max-height: 300px;\n",
       "    overflow: auto;\n",
       "  }\n",
       "  table, th, td {\n",
       "    border: 1px solid black;\n",
       "    border-collapse: collapse;\n",
       "  }\n",
       "  th, td {\n",
       "    padding: 5px;\n",
       "  }\n",
       "  th {\n",
       "    text-align: left;\n",
       "  }\n",
       "</style><div class='table-result-container'><table class='table-result'><thead style='background-color: white'><tr><th>product_count</th></tr></thead><tbody><tr><td>87</td></tr></tbody></table></div>"
      ]
     },
     "metadata": {
      "application/vnd.databricks.v1+output": {
       "addedWidgets": {},
       "aggData": [],
       "aggError": "",
       "aggOverflow": false,
       "aggSchema": [],
       "aggSeriesLimitReached": false,
       "aggType": "",
       "arguments": {},
       "columnCustomDisplayInfos": {},
       "data": [
        [
         87
        ]
       ],
       "datasetInfos": [],
       "dbfsResultPath": null,
       "isJsonSchema": true,
       "metadata": {
        "isDbfsCommandResult": false
       },
       "overflow": false,
       "plotOptions": {
        "customPlotOptions": {},
        "displayType": "table",
        "pivotAggregation": null,
        "pivotColumns": null,
        "xColumns": null,
        "yColumns": null
       },
       "removedWidgets": [],
       "schema": [
        {
         "metadata": "{}",
         "name": "product_count",
         "type": "\"long\""
        }
       ],
       "type": "table"
      }
     },
     "output_type": "display_data"
    },
    {
     "data": {
      "text/plain": [
       "Databricks visualization. Run in Databricks to view."
      ]
     },
     "metadata": {
      "application/vnd.databricks.v1.subcommand+json": {
       "baseErrorDetails": null,
       "bindings": {},
       "collapsed": false,
       "command": "SELECT \n    COUNT(DISTINCT product_id) AS product_count\nFROM sales_view;",
       "commandTitle": "Total Products",
       "commandType": "auto",
       "commandVersion": 0,
       "commentThread": [],
       "commentsVisible": false,
       "contentSha256Hex": null,
       "customPlotOptions": {
        "redashChart": [
         {
          "key": "type",
          "value": "COUNTER"
         },
         {
          "key": "options",
          "value": {
           "counterColName": "product_count",
           "counterLabel": "Total Products",
           "rowNumber": 1,
           "stringDecChar": ".",
           "stringDecimal": 0,
           "stringThouSep": ",",
           "targetRowNumber": 1,
           "tooltipFormat": "0,0.000"
          }
         }
        ]
       },
       "datasetPreviewNameToCmdIdMap": {},
       "diffDeletes": [],
       "diffInserts": [],
       "displayType": "redashChart",
       "error": null,
       "errorDetails": null,
       "errorSummary": null,
       "errorTraceType": null,
       "finishTime": 0,
       "globalVars": {},
       "guid": "",
       "height": "auto",
       "hideCommandCode": false,
       "hideCommandResult": false,
       "iPythonMetadata": null,
       "inputWidgets": {},
       "isLockedInExamMode": false,
       "latestUser": "a user",
       "latestUserId": null,
       "listResultMetadata": null,
       "metadata": {
        "byteLimit": 2048000,
        "rowLimit": 10000
       },
       "nuid": "d7f04888-a58e-4165-aaa5-edbdb65a1e17",
       "origId": 0,
       "parentHierarchy": [],
       "pivotAggregation": null,
       "pivotColumns": null,
       "position": 4,
       "resultDbfsErrorMessage": null,
       "resultDbfsStatus": "INLINED_IN_TREE",
       "results": null,
       "showCommandTitle": false,
       "startTime": 0,
       "state": "finished",
       "streamStates": {},
       "subcommandOptions": {},
       "submitTime": 0,
       "subtype": "tableResultSubCmd.visualization",
       "tableResultIndex": 0,
       "tableResultSettingsMap": null,
       "useConsistentColors": false,
       "version": "CommandV1",
       "width": "auto",
       "workflows": [],
       "xColumns": null,
       "yColumns": null
      }
     },
     "output_type": "display_data"
    }
   ],
   "source": [
    "%sql\n",
    "SELECT \n",
    "    COUNT(DISTINCT product_id) AS product_count\n",
    "FROM sales_view;"
   ]
  },
  {
   "cell_type": "markdown",
   "metadata": {
    "application/vnd.databricks.v1+cell": {
     "cellMetadata": {},
     "inputWidgets": {},
     "nuid": "94596a4d-2c44-477a-8a0d-533d14d9f167",
     "showTitle": false,
     "title": ""
    }
   },
   "source": [
    "### Total Stores"
   ]
  },
  {
   "cell_type": "code",
   "execution_count": null,
   "metadata": {
    "application/vnd.databricks.v1+cell": {
     "cellMetadata": {
      "byteLimit": 2048000,
      "rowLimit": 10000
     },
     "inputWidgets": {},
     "nuid": "5400baac-db83-4d36-9ced-c4193159a9e2",
     "showTitle": false,
     "title": ""
    }
   },
   "outputs": [
    {
     "data": {
      "text/html": [
       "<style scoped>\n",
       "  .table-result-container {\n",
       "    max-height: 300px;\n",
       "    overflow: auto;\n",
       "  }\n",
       "  table, th, td {\n",
       "    border: 1px solid black;\n",
       "    border-collapse: collapse;\n",
       "  }\n",
       "  th, td {\n",
       "    padding: 5px;\n",
       "  }\n",
       "  th {\n",
       "    text-align: left;\n",
       "  }\n",
       "</style><div class='table-result-container'><table class='table-result'><thead style='background-color: white'><tr><th>distinct_store_count</th></tr></thead><tbody><tr><td>144</td></tr></tbody></table></div>"
      ]
     },
     "metadata": {
      "application/vnd.databricks.v1+output": {
       "addedWidgets": {},
       "aggData": [],
       "aggError": "",
       "aggOverflow": false,
       "aggSchema": [],
       "aggSeriesLimitReached": false,
       "aggType": "",
       "arguments": {},
       "columnCustomDisplayInfos": {},
       "data": [
        [
         144
        ]
       ],
       "datasetInfos": [],
       "dbfsResultPath": null,
       "isJsonSchema": true,
       "metadata": {
        "isDbfsCommandResult": false
       },
       "overflow": false,
       "plotOptions": {
        "customPlotOptions": {},
        "displayType": "table",
        "pivotAggregation": null,
        "pivotColumns": null,
        "xColumns": null,
        "yColumns": null
       },
       "removedWidgets": [],
       "schema": [
        {
         "metadata": "{}",
         "name": "distinct_store_count",
         "type": "\"long\""
        }
       ],
       "type": "table"
      }
     },
     "output_type": "display_data"
    },
    {
     "data": {
      "text/plain": [
       "Databricks visualization. Run in Databricks to view."
      ]
     },
     "metadata": {
      "application/vnd.databricks.v1.subcommand+json": {
       "baseErrorDetails": null,
       "bindings": {},
       "collapsed": false,
       "command": "SELECT \n    COUNT(DISTINCT store_id) AS distinct_store_count\nFROM sales_view;",
       "commandTitle": "Total Stores",
       "commandType": "auto",
       "commandVersion": 0,
       "commentThread": [],
       "commentsVisible": false,
       "contentSha256Hex": null,
       "customPlotOptions": {
        "redashChart": [
         {
          "key": "type",
          "value": "COUNTER"
         },
         {
          "key": "options",
          "value": {
           "counterColName": "distinct_store_count",
           "counterLabel": "Total Stores",
           "rowNumber": 1,
           "stringDecChar": ".",
           "stringDecimal": 0,
           "stringThouSep": ",",
           "targetRowNumber": 1,
           "tooltipFormat": "0,0.000"
          }
         }
        ]
       },
       "datasetPreviewNameToCmdIdMap": {},
       "diffDeletes": [],
       "diffInserts": [],
       "displayType": "redashChart",
       "error": null,
       "errorDetails": null,
       "errorSummary": null,
       "errorTraceType": null,
       "finishTime": 0,
       "globalVars": {},
       "guid": "",
       "height": "auto",
       "hideCommandCode": false,
       "hideCommandResult": false,
       "iPythonMetadata": null,
       "inputWidgets": {},
       "isLockedInExamMode": false,
       "latestUser": "a user",
       "latestUserId": null,
       "listResultMetadata": null,
       "metadata": {
        "byteLimit": 2048000,
        "rowLimit": 10000
       },
       "nuid": "4b9a849b-760a-498b-83a9-48f202218433",
       "origId": 0,
       "parentHierarchy": [],
       "pivotAggregation": null,
       "pivotColumns": null,
       "position": 5,
       "resultDbfsErrorMessage": null,
       "resultDbfsStatus": "INLINED_IN_TREE",
       "results": null,
       "showCommandTitle": false,
       "startTime": 0,
       "state": "finished",
       "streamStates": {},
       "subcommandOptions": {},
       "submitTime": 0,
       "subtype": "tableResultSubCmd.visualization",
       "tableResultIndex": 0,
       "tableResultSettingsMap": null,
       "useConsistentColors": false,
       "version": "CommandV1",
       "width": "auto",
       "workflows": [],
       "xColumns": null,
       "yColumns": null
      }
     },
     "output_type": "display_data"
    }
   ],
   "source": [
    "%sql\n",
    "SELECT \n",
    "    COUNT(DISTINCT store_id) AS distinct_store_count\n",
    "FROM sales_view;"
   ]
  },
  {
   "cell_type": "markdown",
   "metadata": {
    "application/vnd.databricks.v1+cell": {
     "cellMetadata": {},
     "inputWidgets": {},
     "nuid": "5f1e2bcf-4b4c-4dcb-9a45-49baa02cdf03",
     "showTitle": false,
     "title": ""
    }
   },
   "source": [
    "### Total Revenue"
   ]
  },
  {
   "cell_type": "code",
   "execution_count": null,
   "metadata": {
    "application/vnd.databricks.v1+cell": {
     "cellMetadata": {
      "byteLimit": 2048000,
      "rowLimit": 10000
     },
     "inputWidgets": {},
     "nuid": "04b8398d-af14-461f-93b2-a105dd5b2682",
     "showTitle": false,
     "title": ""
    }
   },
   "outputs": [
    {
     "data": {
      "text/html": [
       "<style scoped>\n",
       "  .table-result-container {\n",
       "    max-height: 300px;\n",
       "    overflow: auto;\n",
       "  }\n",
       "  table, th, td {\n",
       "    border: 1px solid black;\n",
       "    border-collapse: collapse;\n",
       "  }\n",
       "  th, td {\n",
       "    padding: 5px;\n",
       "  }\n",
       "  th {\n",
       "    text-align: left;\n",
       "  }\n",
       "</style><div class='table-result-container'><table class='table-result'><thead style='background-color: white'><tr><th>total_revenue</th></tr></thead><tbody><tr><td>2888884.230000195</td></tr></tbody></table></div>"
      ]
     },
     "metadata": {
      "application/vnd.databricks.v1+output": {
       "addedWidgets": {},
       "aggData": [],
       "aggError": "",
       "aggOverflow": false,
       "aggSchema": [],
       "aggSeriesLimitReached": false,
       "aggType": "",
       "arguments": {},
       "columnCustomDisplayInfos": {},
       "data": [
        [
         2888884.230000195
        ]
       ],
       "datasetInfos": [],
       "dbfsResultPath": null,
       "isJsonSchema": true,
       "metadata": {
        "isDbfsCommandResult": false
       },
       "overflow": false,
       "plotOptions": {
        "customPlotOptions": {},
        "displayType": "table",
        "pivotAggregation": null,
        "pivotColumns": null,
        "xColumns": null,
        "yColumns": null
       },
       "removedWidgets": [],
       "schema": [
        {
         "metadata": "{}",
         "name": "total_revenue",
         "type": "\"double\""
        }
       ],
       "type": "table"
      }
     },
     "output_type": "display_data"
    },
    {
     "data": {
      "text/plain": [
       "Databricks visualization. Run in Databricks to view."
      ]
     },
     "metadata": {
      "application/vnd.databricks.v1.subcommand+json": {
       "baseErrorDetails": null,
       "bindings": {},
       "collapsed": false,
       "command": "SELECT \n    SUM(revenue) AS total_revenue\nFROM sales_view;",
       "commandTitle": "Total Revenue",
       "commandType": "auto",
       "commandVersion": 0,
       "commentThread": [],
       "commentsVisible": false,
       "contentSha256Hex": null,
       "customPlotOptions": {
        "redashChart": [
         {
          "key": "type",
          "value": "COUNTER"
         },
         {
          "key": "options",
          "value": {
           "counterColName": "total_revenue",
           "counterLabel": "Total Revenue",
           "rowNumber": 1,
           "stringDecChar": ".",
           "stringDecimal": 0,
           "stringPrefix": "₺",
           "stringSuffix": "",
           "stringThouSep": ",",
           "targetRowNumber": 1,
           "tooltipFormat": "0,0.000"
          }
         }
        ]
       },
       "datasetPreviewNameToCmdIdMap": {},
       "diffDeletes": [],
       "diffInserts": [],
       "displayType": "redashChart",
       "error": null,
       "errorDetails": null,
       "errorSummary": null,
       "errorTraceType": null,
       "finishTime": 0,
       "globalVars": {},
       "guid": "",
       "height": "auto",
       "hideCommandCode": false,
       "hideCommandResult": false,
       "iPythonMetadata": null,
       "inputWidgets": {},
       "isLockedInExamMode": false,
       "latestUser": "a user",
       "latestUserId": null,
       "listResultMetadata": null,
       "metadata": {
        "byteLimit": 2048000,
        "rowLimit": 10000
       },
       "nuid": "72999cf3-6733-4693-8aca-bb8001070099",
       "origId": 0,
       "parentHierarchy": [],
       "pivotAggregation": null,
       "pivotColumns": null,
       "position": 5.5,
       "resultDbfsErrorMessage": null,
       "resultDbfsStatus": "INLINED_IN_TREE",
       "results": null,
       "showCommandTitle": false,
       "startTime": 0,
       "state": "finished",
       "streamStates": {},
       "subcommandOptions": {},
       "submitTime": 0,
       "subtype": "tableResultSubCmd.visualization",
       "tableResultIndex": 0,
       "tableResultSettingsMap": null,
       "useConsistentColors": false,
       "version": "CommandV1",
       "width": "auto",
       "workflows": [],
       "xColumns": null,
       "yColumns": null
      }
     },
     "output_type": "display_data"
    }
   ],
   "source": [
    "%sql\n",
    "SELECT \n",
    "    SUM(revenue) AS total_revenue\n",
    "FROM sales_view;"
   ]
  },
  {
   "cell_type": "markdown",
   "metadata": {
    "application/vnd.databricks.v1+cell": {
     "cellMetadata": {},
     "inputWidgets": {},
     "nuid": "6c02640b-edf1-4446-a54b-6f6118e566b3",
     "showTitle": false,
     "title": ""
    }
   },
   "source": [
    "### Total Sales"
   ]
  },
  {
   "cell_type": "code",
   "execution_count": null,
   "metadata": {
    "application/vnd.databricks.v1+cell": {
     "cellMetadata": {
      "byteLimit": 2048000,
      "rowLimit": 10000
     },
     "inputWidgets": {},
     "nuid": "5b13d989-985a-4fc6-a418-e118596e8559",
     "showTitle": false,
     "title": ""
    }
   },
   "outputs": [
    {
     "data": {
      "text/html": [
       "<style scoped>\n",
       "  .table-result-container {\n",
       "    max-height: 300px;\n",
       "    overflow: auto;\n",
       "  }\n",
       "  table, th, td {\n",
       "    border: 1px solid black;\n",
       "    border-collapse: collapse;\n",
       "  }\n",
       "  th, td {\n",
       "    padding: 5px;\n",
       "  }\n",
       "  th {\n",
       "    text-align: left;\n",
       "  }\n",
       "</style><div class='table-result-container'><table class='table-result'><thead style='background-color: white'><tr><th>total_sales</th></tr></thead><tbody><tr><td>364381</td></tr></tbody></table></div>"
      ]
     },
     "metadata": {
      "application/vnd.databricks.v1+output": {
       "addedWidgets": {},
       "aggData": [],
       "aggError": "",
       "aggOverflow": false,
       "aggSchema": [],
       "aggSeriesLimitReached": false,
       "aggType": "",
       "arguments": {},
       "columnCustomDisplayInfos": {},
       "data": [
        [
         364381
        ]
       ],
       "datasetInfos": [],
       "dbfsResultPath": null,
       "isJsonSchema": true,
       "metadata": {
        "isDbfsCommandResult": false
       },
       "overflow": false,
       "plotOptions": {
        "customPlotOptions": {},
        "displayType": "table",
        "pivotAggregation": null,
        "pivotColumns": null,
        "xColumns": null,
        "yColumns": null
       },
       "removedWidgets": [],
       "schema": [
        {
         "metadata": "{}",
         "name": "total_sales",
         "type": "\"long\""
        }
       ],
       "type": "table"
      }
     },
     "output_type": "display_data"
    },
    {
     "data": {
      "text/plain": [
       "Databricks visualization. Run in Databricks to view."
      ]
     },
     "metadata": {
      "application/vnd.databricks.v1.subcommand+json": {
       "baseErrorDetails": null,
       "bindings": {},
       "collapsed": false,
       "command": "SELECT \n    COUNT(1) AS total_sales\nFROM sales_view WHERE revenue>0;",
       "commandTitle": "Visualization 1",
       "commandType": "auto",
       "commandVersion": 0,
       "commentThread": [],
       "commentsVisible": false,
       "contentSha256Hex": null,
       "customPlotOptions": {
        "redashChart": [
         {
          "key": "type",
          "value": "COUNTER"
         },
         {
          "key": "options",
          "value": {
           "counterColName": "total_sales",
           "counterLabel": "No. of  Orders",
           "rowNumber": 1,
           "stringDecChar": ".",
           "stringDecimal": 0,
           "stringThouSep": ",",
           "targetRowNumber": 1,
           "tooltipFormat": "0,0.000"
          }
         }
        ]
       },
       "datasetPreviewNameToCmdIdMap": {},
       "diffDeletes": [],
       "diffInserts": [],
       "displayType": "redashChart",
       "error": null,
       "errorDetails": null,
       "errorSummary": null,
       "errorTraceType": null,
       "finishTime": 0,
       "globalVars": {},
       "guid": "",
       "height": "auto",
       "hideCommandCode": false,
       "hideCommandResult": false,
       "iPythonMetadata": null,
       "inputWidgets": {},
       "isLockedInExamMode": false,
       "latestUser": "a user",
       "latestUserId": null,
       "listResultMetadata": null,
       "metadata": {
        "byteLimit": 2048000,
        "rowLimit": 10000
       },
       "nuid": "8ce5ad22-63dc-4566-8c97-d57765f6019f",
       "origId": 0,
       "parentHierarchy": [],
       "pivotAggregation": null,
       "pivotColumns": null,
       "position": 5.75,
       "resultDbfsErrorMessage": null,
       "resultDbfsStatus": "INLINED_IN_TREE",
       "results": null,
       "showCommandTitle": false,
       "startTime": 0,
       "state": "finished",
       "streamStates": {},
       "subcommandOptions": {},
       "submitTime": 0,
       "subtype": "tableResultSubCmd.visualization",
       "tableResultIndex": 0,
       "tableResultSettingsMap": null,
       "useConsistentColors": false,
       "version": "CommandV1",
       "width": "auto",
       "workflows": [],
       "xColumns": null,
       "yColumns": null
      }
     },
     "output_type": "display_data"
    }
   ],
   "source": [
    "%sql\n",
    "SELECT \n",
    "    COUNT(1) AS total_sales\n",
    "FROM sales_view WHERE revenue>0;"
   ]
  },
  {
   "cell_type": "markdown",
   "metadata": {
    "application/vnd.databricks.v1+cell": {
     "cellMetadata": {},
     "inputWidgets": {},
     "nuid": "034cb845-702d-4a76-9389-33093889540d",
     "showTitle": false,
     "title": ""
    }
   },
   "source": [
    "### Total Available Locations "
   ]
  },
  {
   "cell_type": "code",
   "execution_count": null,
   "metadata": {
    "application/vnd.databricks.v1+cell": {
     "cellMetadata": {
      "byteLimit": 2048000,
      "rowLimit": 10000
     },
     "inputWidgets": {},
     "nuid": "7f7534d7-c2ec-4e34-8856-4f92b9efc5a6",
     "showTitle": false,
     "title": ""
    }
   },
   "outputs": [
    {
     "data": {
      "text/html": [
       "<style scoped>\n",
       "  .table-result-container {\n",
       "    max-height: 300px;\n",
       "    overflow: auto;\n",
       "  }\n",
       "  table, th, td {\n",
       "    border: 1px solid black;\n",
       "    border-collapse: collapse;\n",
       "  }\n",
       "  th, td {\n",
       "    padding: 5px;\n",
       "  }\n",
       "  th {\n",
       "    text-align: left;\n",
       "  }\n",
       "</style><div class='table-result-container'><table class='table-result'><thead style='background-color: white'><tr><th>locations</th></tr></thead><tbody><tr><td>37</td></tr></tbody></table></div>"
      ]
     },
     "metadata": {
      "application/vnd.databricks.v1+output": {
       "addedWidgets": {},
       "aggData": [],
       "aggError": "",
       "aggOverflow": false,
       "aggSchema": [],
       "aggSeriesLimitReached": false,
       "aggType": "",
       "arguments": {},
       "columnCustomDisplayInfos": {},
       "data": [
        [
         37
        ]
       ],
       "datasetInfos": [],
       "dbfsResultPath": null,
       "isJsonSchema": true,
       "metadata": {
        "isDbfsCommandResult": false
       },
       "overflow": false,
       "plotOptions": {
        "customPlotOptions": {},
        "displayType": "table",
        "pivotAggregation": null,
        "pivotColumns": null,
        "xColumns": null,
        "yColumns": null
       },
       "removedWidgets": [],
       "schema": [
        {
         "metadata": "{}",
         "name": "locations",
         "type": "\"long\""
        }
       ],
       "type": "table"
      }
     },
     "output_type": "display_data"
    },
    {
     "data": {
      "text/plain": [
       "Databricks visualization. Run in Databricks to view."
      ]
     },
     "metadata": {
      "application/vnd.databricks.v1.subcommand+json": {
       "baseErrorDetails": null,
       "bindings": {},
       "collapsed": false,
       "command": "SELECT count(DISTINCT city_id) as locations FROM stores_view",
       "commandTitle": "Location count",
       "commandType": "auto",
       "commandVersion": 0,
       "commentThread": [],
       "commentsVisible": false,
       "contentSha256Hex": null,
       "customPlotOptions": {
        "redashChart": [
         {
          "key": "type",
          "value": "COUNTER"
         },
         {
          "key": "options",
          "value": {
           "counterColName": "locations",
           "counterLabel": "Locations",
           "rowNumber": 1,
           "stringDecChar": ".",
           "stringDecimal": 0,
           "stringThouSep": ",",
           "targetRowNumber": 1,
           "tooltipFormat": "0,0.000"
          }
         }
        ]
       },
       "datasetPreviewNameToCmdIdMap": {},
       "diffDeletes": [],
       "diffInserts": [],
       "displayType": "redashChart",
       "error": null,
       "errorDetails": null,
       "errorSummary": null,
       "errorTraceType": null,
       "finishTime": 0,
       "globalVars": {},
       "guid": "",
       "height": "auto",
       "hideCommandCode": false,
       "hideCommandResult": false,
       "iPythonMetadata": null,
       "inputWidgets": {},
       "isLockedInExamMode": false,
       "latestUser": "a user",
       "latestUserId": null,
       "listResultMetadata": null,
       "metadata": {
        "byteLimit": 2048000,
        "rowLimit": 10000
       },
       "nuid": "de33a0d6-eed0-47f4-9408-a0da970024cc",
       "origId": 0,
       "parentHierarchy": [],
       "pivotAggregation": null,
       "pivotColumns": null,
       "position": 1,
       "resultDbfsErrorMessage": null,
       "resultDbfsStatus": "INLINED_IN_TREE",
       "results": null,
       "showCommandTitle": false,
       "startTime": 0,
       "state": "finished",
       "streamStates": {},
       "subcommandOptions": {},
       "submitTime": 0,
       "subtype": "tableResultSubCmd.visualization",
       "tableResultIndex": 0,
       "tableResultSettingsMap": null,
       "useConsistentColors": false,
       "version": "CommandV1",
       "width": "auto",
       "workflows": [],
       "xColumns": null,
       "yColumns": null
      }
     },
     "output_type": "display_data"
    }
   ],
   "source": [
    "%sql\n",
    "SELECT count(DISTINCT city_id) as locations FROM stores_view"
   ]
  },
  {
   "cell_type": "markdown",
   "metadata": {
    "application/vnd.databricks.v1+cell": {
     "cellMetadata": {},
     "inputWidgets": {},
     "nuid": "3f45ecf0-ce5c-480c-b3f0-db6120e97345",
     "showTitle": false,
     "title": ""
    }
   },
   "source": [
    "### Top Products from Top Shops"
   ]
  },
  {
   "cell_type": "code",
   "execution_count": null,
   "metadata": {
    "application/vnd.databricks.v1+cell": {
     "cellMetadata": {
      "byteLimit": 2048000,
      "rowLimit": 10000
     },
     "inputWidgets": {},
     "nuid": "245b8d14-f4ca-44dd-8448-12845ca324c9",
     "showTitle": false,
     "title": ""
    }
   },
   "outputs": [
    {
     "data": {
      "text/html": [
       "<style scoped>\n",
       "  .table-result-container {\n",
       "    max-height: 300px;\n",
       "    overflow: auto;\n",
       "  }\n",
       "  table, th, td {\n",
       "    border: 1px solid black;\n",
       "    border-collapse: collapse;\n",
       "  }\n",
       "  th, td {\n",
       "    padding: 5px;\n",
       "  }\n",
       "  th {\n",
       "    text-align: left;\n",
       "  }\n",
       "</style><div class='table-result-container'><table class='table-result'><thead style='background-color: white'><tr><th>store_id</th><th>total_sales</th><th>total_revenue</th><th>product_id</th></tr></thead><tbody><tr><td>S0026</td><td>880.0</td><td>10484.360000000022</td><td>P0059</td></tr><tr><td>S0038</td><td>2438.0</td><td>9777.97999999997</td><td>P0035</td></tr><tr><td>S0085</td><td>852.0</td><td>9916.030000000015</td><td>P0059</td></tr></tbody></table></div>"
      ]
     },
     "metadata": {
      "application/vnd.databricks.v1+output": {
       "addedWidgets": {},
       "aggData": [],
       "aggError": "",
       "aggOverflow": false,
       "aggSchema": [],
       "aggSeriesLimitReached": false,
       "aggType": "",
       "arguments": {},
       "columnCustomDisplayInfos": {},
       "data": [
        [
         "S0026",
         880,
         10484.360000000022,
         "P0059"
        ],
        [
         "S0038",
         2438,
         9777.97999999997,
         "P0035"
        ],
        [
         "S0085",
         852,
         9916.030000000015,
         "P0059"
        ]
       ],
       "datasetInfos": [],
       "dbfsResultPath": null,
       "isJsonSchema": true,
       "metadata": {
        "isDbfsCommandResult": false
       },
       "overflow": false,
       "plotOptions": {
        "customPlotOptions": {},
        "displayType": "table",
        "pivotAggregation": null,
        "pivotColumns": null,
        "xColumns": null,
        "yColumns": null
       },
       "removedWidgets": [],
       "schema": [
        {
         "metadata": "{}",
         "name": "store_id",
         "type": "\"string\""
        },
        {
         "metadata": "{}",
         "name": "total_sales",
         "type": "\"double\""
        },
        {
         "metadata": "{}",
         "name": "total_revenue",
         "type": "\"double\""
        },
        {
         "metadata": "{}",
         "name": "product_id",
         "type": "\"string\""
        }
       ],
       "type": "table"
      }
     },
     "output_type": "display_data"
    },
    {
     "data": {
      "text/plain": [
       "Databricks visualization. Run in Databricks to view."
      ]
     },
     "metadata": {
      "application/vnd.databricks.v1.subcommand+json": {
       "baseErrorDetails": null,
       "bindings": {},
       "collapsed": false,
       "command": "WITH ShopRevenue AS (\n    SELECT \n        store_id,\n        SUM(revenue) AS total_revenue\n    FROM \n        sales_view\n    GROUP BY \n        store_id\n),\n\nTopShops AS (\n    SELECT \n        store_id,\n        total_revenue,\n        RANK() OVER (ORDER BY total_revenue DESC) AS shop_rank\n    FROM \n        ShopRevenue\n),\n\nRankedProducts AS (\n    SELECT \n        s.store_id,\n        p.product_id,\n        SUM(p.sales) AS total_sales,\n        SUM(p.revenue) AS total_revenue,\n        RANK() OVER (PARTITION BY s.store_id ORDER BY SUM(p.revenue) DESC) AS product_rank\n    FROM \n        sales_view p\n    JOIN \n        TopShops s ON p.store_id = s.store_id\n    WHERE \n        s.shop_rank <= 3\n    GROUP BY \n        s.store_id, p.product_id\n)\n\nSELECT \n    store_id,\n    total_sales,\n    total_revenue,\n    product_id\nFROM \n    RankedProducts\nWHERE \n    product_rank = 1\nORDER BY \n    store_id;\n\n",
       "commandTitle": "Top Shops",
       "commandType": "auto",
       "commandVersion": 0,
       "commentThread": [],
       "commentsVisible": false,
       "contentSha256Hex": null,
       "customPlotOptions": {
        "redashChart": [
         {
          "key": "type",
          "value": "TABLE"
         },
         {
          "key": "options",
          "value": {
           "columns": [
            {
             "alignContent": "left",
             "allowHTML": false,
             "allowSearch": false,
             "booleanValues": [
              "false",
              "true"
             ],
             "description": "",
             "displayAs": "number",
             "highlightLinks": false,
             "imageHeight": "",
             "imageTitleTemplate": "{{ @ }}",
             "imageUrlTemplate": "{{ @ }}",
             "imageWidth": "",
             "linkOpenInNewTab": true,
             "linkTextTemplate": "{{ @ }}",
             "linkTitleTemplate": "{{ @ }}",
             "linkUrlTemplate": "{{ @ }}",
             "name": "store_id",
             "order": 100000,
             "preserveWhitespace": false,
             "title": "StoreName",
             "type": "string",
             "useMonospaceFont": false,
             "visible": true
            },
            {
             "alignContent": "left",
             "allowHTML": false,
             "allowSearch": false,
             "booleanValues": [
              "false",
              "true"
             ],
             "displayAs": "number",
             "highlightLinks": false,
             "imageHeight": "",
             "imageTitleTemplate": "{{ @ }}",
             "imageUrlTemplate": "{{ @ }}",
             "imageWidth": "",
             "linkOpenInNewTab": true,
             "linkTextTemplate": "{{ @ }}",
             "linkTitleTemplate": "{{ @ }}",
             "linkUrlTemplate": "{{ @ }}",
             "name": "total_sales",
             "numberFormat": "0.0",
             "order": 100001,
             "preserveWhitespace": false,
             "title": "Sales",
             "type": "float",
             "useMonospaceFont": false,
             "visible": true
            },
            {
             "alignContent": "left",
             "allowHTML": false,
             "allowSearch": false,
             "booleanValues": [
              "false",
              "true"
             ],
             "displayAs": "number",
             "highlightLinks": false,
             "imageHeight": "",
             "imageTitleTemplate": "{{ @ }}",
             "imageUrlTemplate": "{{ @ }}",
             "imageWidth": "",
             "linkOpenInNewTab": true,
             "linkTextTemplate": "{{ @ }}",
             "linkTitleTemplate": "{{ @ }}",
             "linkUrlTemplate": "{{ @ }}",
             "name": "total_revenue",
             "numberFormat": "0.0",
             "order": 100002,
             "preserveWhitespace": false,
             "title": "Revenue",
             "type": "float",
             "useMonospaceFont": false,
             "visible": true
            },
            {
             "alignContent": "left",
             "allowHTML": false,
             "allowSearch": false,
             "booleanValues": [
              "false",
              "true"
             ],
             "displayAs": "string",
             "highlightLinks": false,
             "imageHeight": "",
             "imageTitleTemplate": "{{ @ }}",
             "imageUrlTemplate": "{{ @ }}",
             "imageWidth": "",
             "linkOpenInNewTab": true,
             "linkTextTemplate": "{{ @ }}",
             "linkTitleTemplate": "{{ @ }}",
             "linkUrlTemplate": "{{ @ }}",
             "name": "product_id",
             "order": 100003,
             "preserveWhitespace": false,
             "title": "Top Product",
             "type": "string",
             "useMonospaceFont": false,
             "visible": true
            }
           ],
           "condensed": false,
           "itemsPerPage": 5,
           "paginationSize": "default",
           "version": 2,
           "withRowNumber": false
          }
         }
        ]
       },
       "datasetPreviewNameToCmdIdMap": {},
       "diffDeletes": [],
       "diffInserts": [],
       "displayType": "redashChart",
       "error": null,
       "errorDetails": null,
       "errorSummary": null,
       "errorTraceType": null,
       "finishTime": 0,
       "globalVars": {},
       "guid": "",
       "height": "auto",
       "hideCommandCode": false,
       "hideCommandResult": false,
       "iPythonMetadata": null,
       "inputWidgets": {},
       "isLockedInExamMode": false,
       "latestUser": "a user",
       "latestUserId": null,
       "listResultMetadata": null,
       "metadata": {
        "byteLimit": 2048000,
        "rowLimit": 10000
       },
       "nuid": "e1561b7a-2343-4bbf-8798-1677ae42f1f6",
       "origId": 0,
       "parentHierarchy": [],
       "pivotAggregation": null,
       "pivotColumns": null,
       "position": 6,
       "resultDbfsErrorMessage": null,
       "resultDbfsStatus": "INLINED_IN_TREE",
       "results": null,
       "showCommandTitle": false,
       "startTime": 0,
       "state": "finished",
       "streamStates": {},
       "subcommandOptions": {},
       "submitTime": 0,
       "subtype": "tableResultSubCmd.visualization",
       "tableResultIndex": 0,
       "tableResultSettingsMap": null,
       "useConsistentColors": false,
       "version": "CommandV1",
       "width": "auto",
       "workflows": [],
       "xColumns": null,
       "yColumns": null
      }
     },
     "output_type": "display_data"
    }
   ],
   "source": [
    "%sql\n",
    "WITH ShopRevenue AS (\n",
    "    SELECT \n",
    "        store_id,\n",
    "        SUM(revenue) AS total_revenue\n",
    "    FROM \n",
    "        sales_view\n",
    "    GROUP BY \n",
    "        store_id\n",
    "),\n",
    "\n",
    "TopShops AS (\n",
    "    SELECT \n",
    "        store_id,\n",
    "        total_revenue,\n",
    "        RANK() OVER (ORDER BY total_revenue DESC) AS shop_rank\n",
    "    FROM \n",
    "        ShopRevenue\n",
    "),\n",
    "\n",
    "RankedProducts AS (\n",
    "    SELECT \n",
    "        s.store_id,\n",
    "        p.product_id,\n",
    "        SUM(p.sales) AS total_sales,\n",
    "        SUM(p.revenue) AS total_revenue,\n",
    "        RANK() OVER (PARTITION BY s.store_id ORDER BY SUM(p.revenue) DESC) AS product_rank\n",
    "    FROM \n",
    "        sales_view p\n",
    "    JOIN \n",
    "        TopShops s ON p.store_id = s.store_id\n",
    "    WHERE \n",
    "        s.shop_rank <= 3\n",
    "    GROUP BY \n",
    "        s.store_id, p.product_id\n",
    ")\n",
    "\n",
    "SELECT \n",
    "    store_id,\n",
    "    total_sales,\n",
    "    total_revenue,\n",
    "    product_id\n",
    "FROM \n",
    "    RankedProducts\n",
    "WHERE \n",
    "    product_rank = 1\n",
    "ORDER BY \n",
    "    store_id;\n",
    "\n"
   ]
  },
  {
   "cell_type": "markdown",
   "metadata": {
    "application/vnd.databricks.v1+cell": {
     "cellMetadata": {},
     "inputWidgets": {},
     "nuid": "f6e8e208-2121-4bc3-954a-a0b1148a4eb4",
     "showTitle": false,
     "title": ""
    }
   },
   "source": [
    "### Top Products"
   ]
  },
  {
   "cell_type": "code",
   "execution_count": null,
   "metadata": {
    "application/vnd.databricks.v1+cell": {
     "cellMetadata": {
      "byteLimit": 2048000,
      "rowLimit": 10000
     },
     "inputWidgets": {},
     "nuid": "8d545475-5df5-46fc-9124-19d3b3930528",
     "showTitle": false,
     "title": ""
    }
   },
   "outputs": [
    {
     "data": {
      "text/html": [
       "<style scoped>\n",
       "  .table-result-container {\n",
       "    max-height: 300px;\n",
       "    overflow: auto;\n",
       "  }\n",
       "  table, th, td {\n",
       "    border: 1px solid black;\n",
       "    border-collapse: collapse;\n",
       "  }\n",
       "  th, td {\n",
       "    padding: 5px;\n",
       "  }\n",
       "  th {\n",
       "    text-align: left;\n",
       "  }\n",
       "</style><div class='table-result-container'><table class='table-result'><thead style='background-color: white'><tr><th>product_id</th><th>total_sales</th></tr></thead><tbody><tr><td>P0051</td><td>236744.0</td></tr><tr><td>P0017</td><td>104069.0</td></tr><tr><td>P0035</td><td>55916.0</td></tr></tbody></table></div>"
      ]
     },
     "metadata": {
      "application/vnd.databricks.v1+output": {
       "addedWidgets": {},
       "aggData": [],
       "aggError": "",
       "aggOverflow": false,
       "aggSchema": [],
       "aggSeriesLimitReached": false,
       "aggType": "",
       "arguments": {},
       "columnCustomDisplayInfos": {},
       "data": [
        [
         "P0051",
         236744
        ],
        [
         "P0017",
         104069
        ],
        [
         "P0035",
         55916
        ]
       ],
       "datasetInfos": [],
       "dbfsResultPath": null,
       "isJsonSchema": true,
       "metadata": {
        "isDbfsCommandResult": false
       },
       "overflow": false,
       "plotOptions": {
        "customPlotOptions": {},
        "displayType": "table",
        "pivotAggregation": null,
        "pivotColumns": null,
        "xColumns": null,
        "yColumns": null
       },
       "removedWidgets": [],
       "schema": [
        {
         "metadata": "{}",
         "name": "product_id",
         "type": "\"string\""
        },
        {
         "metadata": "{}",
         "name": "total_sales",
         "type": "\"double\""
        }
       ],
       "type": "table"
      }
     },
     "output_type": "display_data"
    },
    {
     "data": {
      "text/plain": [
       "Databricks visualization. Run in Databricks to view."
      ]
     },
     "metadata": {
      "application/vnd.databricks.v1.subcommand+json": {
       "baseErrorDetails": null,
       "bindings": {},
       "collapsed": false,
       "command": "SELECT \n    product_id,\n    SUM(sales) AS total_sales\nFROM sales_view\nGROUP BY product_id\nORDER BY total_sales DESC\nLIMIT 3;\n",
       "commandTitle": "Top Products",
       "commandType": "auto",
       "commandVersion": 0,
       "commentThread": [],
       "commentsVisible": false,
       "contentSha256Hex": null,
       "customPlotOptions": {
        "redashChart": [
         {
          "key": "type",
          "value": "TABLE"
         },
         {
          "key": "options",
          "value": {
           "columns": [
            {
             "alignContent": "left",
             "allowHTML": false,
             "allowSearch": false,
             "booleanValues": [
              "false",
              "true"
             ],
             "displayAs": "number",
             "highlightLinks": false,
             "imageHeight": "",
             "imageTitleTemplate": "{{ @ }}",
             "imageUrlTemplate": "{{ @ }}",
             "imageWidth": "",
             "linkOpenInNewTab": true,
             "linkTextTemplate": "{{ @ }}",
             "linkTitleTemplate": "{{ @ }}",
             "linkUrlTemplate": "{{ @ }}",
             "name": "product_id",
             "order": 100000,
             "preserveWhitespace": false,
             "title": "Product",
             "type": "string",
             "useMonospaceFont": false,
             "visible": true
            },
            {
             "alignContent": "left",
             "allowHTML": false,
             "allowSearch": false,
             "booleanValues": [
              "false",
              "true"
             ],
             "displayAs": "number",
             "highlightLinks": false,
             "imageHeight": "",
             "imageTitleTemplate": "{{ @ }}",
             "imageUrlTemplate": "{{ @ }}",
             "imageWidth": "",
             "linkOpenInNewTab": true,
             "linkTextTemplate": "{{ @ }}",
             "linkTitleTemplate": "{{ @ }}",
             "linkUrlTemplate": "{{ @ }}",
             "name": "numofprod",
             "numberFormat": "0",
             "order": 100001,
             "preserveWhitespace": false,
             "title": "Quantity",
             "type": "integer",
             "useMonospaceFont": false,
             "visible": true
            },
            {
             "alignContent": "left",
             "allowHTML": false,
             "allowSearch": false,
             "booleanValues": [
              "false",
              "true"
             ],
             "cellFormat": {
              "default": {
               "foregroundColor": null
              },
              "rules": []
             },
             "displayAs": "number",
             "highlightLinks": false,
             "imageHeight": "",
             "imageTitleTemplate": "{{ @ }}",
             "imageUrlTemplate": "{{ @ }}",
             "imageWidth": "",
             "linkOpenInNewTab": true,
             "linkTextTemplate": "{{ @ }}",
             "linkTitleTemplate": "{{ @ }}",
             "linkUrlTemplate": "{{ @ }}",
             "name": "total_sales",
             "numberFormat": "0.00",
             "order": 100002,
             "preserveWhitespace": false,
             "title": "Sales",
             "type": "float",
             "useMonospaceFont": false,
             "visible": true
            }
           ],
           "condensed": false,
           "itemsPerPage": 5,
           "paginationSize": "default",
           "version": 2,
           "withRowNumber": false
          }
         }
        ]
       },
       "datasetPreviewNameToCmdIdMap": {},
       "diffDeletes": [],
       "diffInserts": [],
       "displayType": "redashChart",
       "error": null,
       "errorDetails": null,
       "errorSummary": null,
       "errorTraceType": null,
       "finishTime": 0,
       "globalVars": {},
       "guid": "",
       "height": "auto",
       "hideCommandCode": false,
       "hideCommandResult": false,
       "iPythonMetadata": null,
       "inputWidgets": {},
       "isLockedInExamMode": false,
       "latestUser": "a user",
       "latestUserId": null,
       "listResultMetadata": null,
       "metadata": {
        "byteLimit": 2048000,
        "rowLimit": 10000
       },
       "nuid": "554e10dd-fb5a-4a4b-81c6-a14e04b6b21b",
       "origId": 0,
       "parentHierarchy": [],
       "pivotAggregation": null,
       "pivotColumns": null,
       "position": 7,
       "resultDbfsErrorMessage": null,
       "resultDbfsStatus": "INLINED_IN_TREE",
       "results": null,
       "showCommandTitle": false,
       "startTime": 0,
       "state": "finished",
       "streamStates": {},
       "subcommandOptions": {},
       "submitTime": 0,
       "subtype": "tableResultSubCmd.visualization",
       "tableResultIndex": 0,
       "tableResultSettingsMap": null,
       "useConsistentColors": false,
       "version": "CommandV1",
       "width": "auto",
       "workflows": [],
       "xColumns": null,
       "yColumns": null
      }
     },
     "output_type": "display_data"
    }
   ],
   "source": [
    "%sql\n",
    "SELECT \n",
    "    product_id,\n",
    "    SUM(sales) AS total_sales\n",
    "FROM sales_view\n",
    "GROUP BY product_id\n",
    "ORDER BY total_sales DESC\n",
    "LIMIT 3;\n"
   ]
  },
  {
   "cell_type": "markdown",
   "metadata": {
    "application/vnd.databricks.v1+cell": {
     "cellMetadata": {},
     "inputWidgets": {},
     "nuid": "3b698ace-858f-48de-91ec-79b6351cd95f",
     "showTitle": false,
     "title": ""
    }
   },
   "source": [
    "### Revenue Performance over Time"
   ]
  },
  {
   "cell_type": "code",
   "execution_count": null,
   "metadata": {
    "application/vnd.databricks.v1+cell": {
     "cellMetadata": {
      "byteLimit": 2048000,
      "rowLimit": 10000
     },
     "inputWidgets": {},
     "nuid": "74eaf0df-0213-440b-8a20-0e68af50634d",
     "showTitle": false,
     "title": ""
    }
   },
   "outputs": [
    {
     "data": {
      "text/html": [
       "<style scoped>\n",
       "  .table-result-container {\n",
       "    max-height: 300px;\n",
       "    overflow: auto;\n",
       "  }\n",
       "  table, th, td {\n",
       "    border: 1px solid black;\n",
       "    border-collapse: collapse;\n",
       "  }\n",
       "  th, td {\n",
       "    padding: 5px;\n",
       "  }\n",
       "  th {\n",
       "    text-align: left;\n",
       "  }\n",
       "</style><div class='table-result-container'><table class='table-result'><thead style='background-color: white'><tr><th>timeline</th><th>total_revenue</th></tr></thead><tbody><tr><td>2017-01-01</td><td>53138.269999999815</td></tr><tr><td>2017-02-01</td><td>45948.85999999961</td></tr><tr><td>2017-03-01</td><td>67973.02999999955</td></tr><tr><td>2017-04-01</td><td>49404.91999999973</td></tr><tr><td>2017-05-01</td><td>44461.12999999973</td></tr><tr><td>2017-06-01</td><td>51762.90999999974</td></tr><tr><td>2017-07-01</td><td>52311.45999999974</td></tr><tr><td>2017-08-01</td><td>56155.4999999999</td></tr><tr><td>2017-09-01</td><td>55403.649999999776</td></tr><tr><td>2017-10-01</td><td>73642.63999999975</td></tr><tr><td>2017-11-01</td><td>56153.879999999896</td></tr><tr><td>2017-12-01</td><td>62891.6899999997</td></tr><tr><td>2018-01-01</td><td>56497.619999999755</td></tr><tr><td>2018-02-01</td><td>62986.309999999925</td></tr><tr><td>2018-03-01</td><td>67301.46999999994</td></tr><tr><td>2018-04-01</td><td>74084.43000000004</td></tr><tr><td>2018-05-01</td><td>148946.54000000138</td></tr><tr><td>2018-06-01</td><td>105344.59000000037</td></tr><tr><td>2018-07-01</td><td>96571.0800000006</td></tr><tr><td>2018-08-01</td><td>101187.05000000069</td></tr><tr><td>2018-09-01</td><td>99262.95000000056</td></tr><tr><td>2018-10-01</td><td>99066.6000000005</td></tr><tr><td>2018-11-01</td><td>75927.46000000049</td></tr><tr><td>2018-12-01</td><td>84771.79000000039</td></tr><tr><td>2019-01-01</td><td>100777.37000000033</td></tr><tr><td>2019-02-01</td><td>84426.57000000068</td></tr><tr><td>2019-03-01</td><td>96359.31000000078</td></tr><tr><td>2019-04-01</td><td>96052.74000000118</td></tr><tr><td>2019-05-01</td><td>120152.17999999989</td></tr><tr><td>2019-06-01</td><td>116145.15999999983</td></tr><tr><td>2019-07-01</td><td>135071.5499999992</td></tr><tr><td>2019-08-01</td><td>146042.29999999944</td></tr><tr><td>2019-09-01</td><td>125177.90999999967</td></tr><tr><td>2019-10-01</td><td>127483.30999999962</td></tr></tbody></table></div>"
      ]
     },
     "metadata": {
      "application/vnd.databricks.v1+output": {
       "addedWidgets": {},
       "aggData": [],
       "aggError": "",
       "aggOverflow": false,
       "aggSchema": [],
       "aggSeriesLimitReached": false,
       "aggType": "",
       "arguments": {},
       "columnCustomDisplayInfos": {},
       "data": [
        [
         "2017-01-01",
         53138.269999999815
        ],
        [
         "2017-02-01",
         45948.85999999961
        ],
        [
         "2017-03-01",
         67973.02999999955
        ],
        [
         "2017-04-01",
         49404.91999999973
        ],
        [
         "2017-05-01",
         44461.12999999973
        ],
        [
         "2017-06-01",
         51762.90999999974
        ],
        [
         "2017-07-01",
         52311.45999999974
        ],
        [
         "2017-08-01",
         56155.4999999999
        ],
        [
         "2017-09-01",
         55403.649999999776
        ],
        [
         "2017-10-01",
         73642.63999999975
        ],
        [
         "2017-11-01",
         56153.879999999896
        ],
        [
         "2017-12-01",
         62891.6899999997
        ],
        [
         "2018-01-01",
         56497.619999999755
        ],
        [
         "2018-02-01",
         62986.309999999925
        ],
        [
         "2018-03-01",
         67301.46999999994
        ],
        [
         "2018-04-01",
         74084.43000000004
        ],
        [
         "2018-05-01",
         148946.54000000138
        ],
        [
         "2018-06-01",
         105344.59000000037
        ],
        [
         "2018-07-01",
         96571.0800000006
        ],
        [
         "2018-08-01",
         101187.05000000069
        ],
        [
         "2018-09-01",
         99262.95000000056
        ],
        [
         "2018-10-01",
         99066.6000000005
        ],
        [
         "2018-11-01",
         75927.46000000049
        ],
        [
         "2018-12-01",
         84771.79000000039
        ],
        [
         "2019-01-01",
         100777.37000000033
        ],
        [
         "2019-02-01",
         84426.57000000068
        ],
        [
         "2019-03-01",
         96359.31000000078
        ],
        [
         "2019-04-01",
         96052.74000000118
        ],
        [
         "2019-05-01",
         120152.17999999989
        ],
        [
         "2019-06-01",
         116145.15999999983
        ],
        [
         "2019-07-01",
         135071.5499999992
        ],
        [
         "2019-08-01",
         146042.29999999944
        ],
        [
         "2019-09-01",
         125177.90999999967
        ],
        [
         "2019-10-01",
         127483.30999999962
        ]
       ],
       "datasetInfos": [],
       "dbfsResultPath": null,
       "isJsonSchema": true,
       "metadata": {
        "isDbfsCommandResult": false
       },
       "overflow": false,
       "plotOptions": {
        "customPlotOptions": {},
        "displayType": "table",
        "pivotAggregation": null,
        "pivotColumns": null,
        "xColumns": null,
        "yColumns": null
       },
       "removedWidgets": [],
       "schema": [
        {
         "metadata": "{}",
         "name": "timeline",
         "type": "\"date\""
        },
        {
         "metadata": "{}",
         "name": "total_revenue",
         "type": "\"double\""
        }
       ],
       "type": "table"
      }
     },
     "output_type": "display_data"
    },
    {
     "data": {
      "text/plain": [
       "Databricks visualization. Run in Databricks to view."
      ]
     },
     "metadata": {
      "application/vnd.databricks.v1.subcommand+json": {
       "baseErrorDetails": null,
       "bindings": {},
       "collapsed": false,
       "command": "%sql WITH q AS (SELECT \n    make_date(year_id, month_id, 1) AS timeline,\n    SUM(revenue) AS total_revenue\nFROM sales_view\nGROUP BY timeline\nHAVING SUM(revenue) > 0\nORDER BY timeline) SELECT `timeline`,SUM(`total_revenue`) `column_a1e5953086` FROM q GROUP BY `timeline`",
       "commandTitle": "revenue Perfomra",
       "commandType": "auto",
       "commandVersion": 0,
       "commentThread": [],
       "commentsVisible": false,
       "contentSha256Hex": null,
       "customPlotOptions": {
        "redashChart": [
         {
          "key": "type",
          "value": "CHART"
         },
         {
          "key": "options",
          "value": {
           "alignYAxesAtZero": true,
           "coefficient": 1,
           "columnConfigurationMap": {
            "x": {
             "column": "timeline",
             "id": "column_a1e59530100"
            },
            "y": [
             {
              "column": "total_revenue",
              "id": "column_a1e5953086",
              "transform": "SUM"
             }
            ]
           },
           "dateTimeFormat": "DD/MM/YYYY HH:mm",
           "direction": {
            "type": "counterclockwise"
           },
           "error_y": {
            "type": "data",
            "visible": true
           },
           "globalSeriesType": "line",
           "hideXAxis": false,
           "isAggregationOn": true,
           "legend": {
            "traceorder": "normal"
           },
           "missingValuesAsZero": false,
           "numberFormat": "0,0.[00000]",
           "percentFormat": "0[.]00%",
           "series": {
            "error_y": {
             "type": "data",
             "visible": true
            },
            "percentValues": false,
            "stacking": null
           },
           "seriesOptions": {
            "column_a1e5953086": {
             "color": "#EEECDA",
             "name": "total_revenue",
             "yAxis": 0
            }
           },
           "showDataLabels": false,
           "sizemode": "diameter",
           "sortX": true,
           "sortY": true,
           "swappedAxes": false,
           "textFormat": "",
           "useAggregationsUi": true,
           "valuesOptions": {},
           "version": 2,
           "xAxis": {
            "labels": {
             "enabled": true
            },
            "title": {
             "text": " "
            },
            "type": "-"
           },
           "yAxis": [
            {
             "title": {
              "text": "Total Revenue"
             },
             "type": "-"
            },
            {
             "opposite": true,
             "type": "-"
            }
           ]
          }
         }
        ]
       },
       "datasetPreviewNameToCmdIdMap": {},
       "diffDeletes": [],
       "diffInserts": [],
       "displayType": "redashChart",
       "error": null,
       "errorDetails": null,
       "errorSummary": null,
       "errorTraceType": null,
       "finishTime": 0,
       "globalVars": {},
       "guid": "",
       "height": "auto",
       "hideCommandCode": false,
       "hideCommandResult": false,
       "iPythonMetadata": null,
       "inputWidgets": {},
       "isLockedInExamMode": false,
       "latestUser": "a user",
       "latestUserId": null,
       "listResultMetadata": null,
       "metadata": {
        "byteLimit": 2048000,
        "rowLimit": 10000
       },
       "nuid": "905f572d-ce97-4027-ba54-bde3bea728c6",
       "origId": 0,
       "parentHierarchy": [],
       "pivotAggregation": null,
       "pivotColumns": null,
       "position": 1,
       "resultDbfsErrorMessage": null,
       "resultDbfsStatus": "INLINED_IN_TREE",
       "results": null,
       "showCommandTitle": false,
       "startTime": 0,
       "state": "finished",
       "streamStates": {},
       "subcommandOptions": {
        "queryPlan": {
         "groups": [
          {
           "column": "timeline",
           "type": "column"
          }
         ],
         "selects": [
          {
           "column": "timeline",
           "type": "column"
          },
          {
           "alias": "column_a1e5953086",
           "args": [
            {
             "column": "total_revenue",
             "type": "column"
            }
           ],
           "function": "SUM",
           "type": "function"
          }
         ]
        }
       },
       "submitTime": 0,
       "subtype": "tableResultSubCmd.visualization",
       "tableResultIndex": 0,
       "tableResultSettingsMap": null,
       "useConsistentColors": false,
       "version": "CommandV1",
       "width": "auto",
       "workflows": [],
       "xColumns": null,
       "yColumns": null
      }
     },
     "output_type": "display_data"
    }
   ],
   "source": [
    "%sql\n",
    "SELECT \n",
    "    make_date(year_id, month_id, 1) AS timeline,\n",
    "    SUM(revenue) AS total_revenue\n",
    "FROM sales_view\n",
    "GROUP BY timeline\n",
    "HAVING SUM(revenue) > 0\n",
    "ORDER BY timeline;"
   ]
  },
  {
   "cell_type": "markdown",
   "metadata": {
    "application/vnd.databricks.v1+cell": {
     "cellMetadata": {
      "byteLimit": 2048000,
      "rowLimit": 10000
     },
     "inputWidgets": {},
     "nuid": "73f8afe2-b5d7-4345-938d-1b2076b5ecd2",
     "showTitle": false,
     "title": ""
    }
   },
   "source": [
    "### Monthly Sales Performance of each year"
   ]
  },
  {
   "cell_type": "code",
   "execution_count": null,
   "metadata": {
    "application/vnd.databricks.v1+cell": {
     "cellMetadata": {
      "byteLimit": 2048000,
      "rowLimit": 10000
     },
     "inputWidgets": {},
     "nuid": "09f967b8-308c-458d-8ca8-4626fe0d2655",
     "showTitle": false,
     "title": ""
    }
   },
   "outputs": [
    {
     "data": {
      "text/html": [
       "<style scoped>\n",
       "  .table-result-container {\n",
       "    max-height: 300px;\n",
       "    overflow: auto;\n",
       "  }\n",
       "  table, th, td {\n",
       "    border: 1px solid black;\n",
       "    border-collapse: collapse;\n",
       "  }\n",
       "  th, td {\n",
       "    padding: 5px;\n",
       "  }\n",
       "  th {\n",
       "    text-align: left;\n",
       "  }\n",
       "</style><div class='table-result-container'><table class='table-result'><thead style='background-color: white'><tr><th>year_id</th><th>month_id</th><th>total_sales</th></tr></thead><tbody><tr><td>2017</td><td>1</td><td>26260.0</td></tr><tr><td>2017</td><td>2</td><td>24234.0</td></tr><tr><td>2017</td><td>3</td><td>29882.0</td></tr><tr><td>2017</td><td>4</td><td>22028.0</td></tr><tr><td>2017</td><td>5</td><td>17304.0</td></tr><tr><td>2017</td><td>6</td><td>19388.0</td></tr><tr><td>2017</td><td>7</td><td>19156.0</td></tr><tr><td>2017</td><td>8</td><td>21538.0</td></tr><tr><td>2017</td><td>9</td><td>20472.0</td></tr><tr><td>2017</td><td>10</td><td>23623.0</td></tr><tr><td>2017</td><td>11</td><td>20144.0</td></tr><tr><td>2017</td><td>12</td><td>22663.0</td></tr><tr><td>2018</td><td>1</td><td>19299.0</td></tr><tr><td>2018</td><td>2</td><td>20003.0</td></tr><tr><td>2018</td><td>3</td><td>24047.0</td></tr><tr><td>2018</td><td>4</td><td>21506.0</td></tr><tr><td>2018</td><td>5</td><td>44862.0</td></tr><tr><td>2018</td><td>6</td><td>27996.0</td></tr><tr><td>2018</td><td>7</td><td>27368.0</td></tr><tr><td>2018</td><td>8</td><td>27782.0</td></tr><tr><td>2018</td><td>9</td><td>26267.0</td></tr><tr><td>2018</td><td>10</td><td>23977.0</td></tr><tr><td>2018</td><td>11</td><td>18522.0</td></tr><tr><td>2018</td><td>12</td><td>22547.0</td></tr><tr><td>2019</td><td>1</td><td>21804.0</td></tr><tr><td>2019</td><td>2</td><td>24656.0</td></tr><tr><td>2019</td><td>3</td><td>25298.532</td></tr><tr><td>2019</td><td>4</td><td>22937.615999999998</td></tr><tr><td>2019</td><td>5</td><td>22109.626000000004</td></tr><tr><td>2019</td><td>6</td><td>20334.656</td></tr><tr><td>2019</td><td>7</td><td>20239.722</td></tr><tr><td>2019</td><td>8</td><td>18347.532</td></tr><tr><td>2019</td><td>9</td><td>15392.563999999998</td></tr><tr><td>2019</td><td>10</td><td>13652.931999999999</td></tr></tbody></table></div>"
      ]
     },
     "metadata": {
      "application/vnd.databricks.v1+output": {
       "addedWidgets": {},
       "aggData": [],
       "aggError": "",
       "aggOverflow": false,
       "aggSchema": [],
       "aggSeriesLimitReached": false,
       "aggType": "",
       "arguments": {},
       "columnCustomDisplayInfos": {},
       "data": [
        [
         2017,
         1,
         26260
        ],
        [
         2017,
         2,
         24234
        ],
        [
         2017,
         3,
         29882
        ],
        [
         2017,
         4,
         22028
        ],
        [
         2017,
         5,
         17304
        ],
        [
         2017,
         6,
         19388
        ],
        [
         2017,
         7,
         19156
        ],
        [
         2017,
         8,
         21538
        ],
        [
         2017,
         9,
         20472
        ],
        [
         2017,
         10,
         23623
        ],
        [
         2017,
         11,
         20144
        ],
        [
         2017,
         12,
         22663
        ],
        [
         2018,
         1,
         19299
        ],
        [
         2018,
         2,
         20003
        ],
        [
         2018,
         3,
         24047
        ],
        [
         2018,
         4,
         21506
        ],
        [
         2018,
         5,
         44862
        ],
        [
         2018,
         6,
         27996
        ],
        [
         2018,
         7,
         27368
        ],
        [
         2018,
         8,
         27782
        ],
        [
         2018,
         9,
         26267
        ],
        [
         2018,
         10,
         23977
        ],
        [
         2018,
         11,
         18522
        ],
        [
         2018,
         12,
         22547
        ],
        [
         2019,
         1,
         21804
        ],
        [
         2019,
         2,
         24656
        ],
        [
         2019,
         3,
         25298.532
        ],
        [
         2019,
         4,
         22937.615999999998
        ],
        [
         2019,
         5,
         22109.626000000004
        ],
        [
         2019,
         6,
         20334.656
        ],
        [
         2019,
         7,
         20239.722
        ],
        [
         2019,
         8,
         18347.532
        ],
        [
         2019,
         9,
         15392.563999999998
        ],
        [
         2019,
         10,
         13652.931999999999
        ]
       ],
       "datasetInfos": [],
       "dbfsResultPath": null,
       "isJsonSchema": true,
       "metadata": {
        "isDbfsCommandResult": false
       },
       "overflow": false,
       "plotOptions": {
        "customPlotOptions": {},
        "displayType": "table",
        "pivotAggregation": null,
        "pivotColumns": null,
        "xColumns": null,
        "yColumns": null
       },
       "removedWidgets": [],
       "schema": [
        {
         "metadata": "{}",
         "name": "year_id",
         "type": "\"integer\""
        },
        {
         "metadata": "{}",
         "name": "month_id",
         "type": "\"integer\""
        },
        {
         "metadata": "{}",
         "name": "total_sales",
         "type": "\"double\""
        }
       ],
       "type": "table"
      }
     },
     "output_type": "display_data"
    },
    {
     "data": {
      "text/plain": [
       "Databricks visualization. Run in Databricks to view."
      ]
     },
     "metadata": {
      "application/vnd.databricks.v1.subcommand+json": {
       "baseErrorDetails": null,
       "bindings": {},
       "collapsed": false,
       "command": "%sql WITH q AS (SELECT \n    year_id,\n    month_id,\n    SUM(sales) AS total_sales\nFROM sales_view\nGROUP BY year_id, month_id HAVING total_sales != 0 \nORDER BY year_id, month_id) SELECT `month_id`,SUM(`total_sales`) `column_a1e59530118`,`year_id` FROM q GROUP BY `month_id`,`year_id`",
       "commandTitle": "monthly sales",
       "commandType": "auto",
       "commandVersion": 0,
       "commentThread": [],
       "commentsVisible": false,
       "contentSha256Hex": null,
       "customPlotOptions": {
        "redashChart": [
         {
          "key": "type",
          "value": "CHART"
         },
         {
          "key": "options",
          "value": {
           "alignYAxesAtZero": true,
           "coefficient": 1,
           "columnConfigurationMap": {
            "series": {
             "column": "year_id",
             "id": "column_820e65c713"
            },
            "x": {
             "column": "month_id",
             "id": "column_820e65c711"
            },
            "y": [
             {
              "column": "total_sales",
              "id": "column_a1e59530118",
              "transform": "SUM"
             }
            ]
           },
           "dateTimeFormat": "DD/MM/YYYY HH:mm",
           "direction": {
            "type": "counterclockwise"
           },
           "error_y": {
            "type": "data",
            "visible": true
           },
           "globalSeriesType": "line",
           "isAggregationOn": true,
           "legend": {
            "traceorder": "normal"
           },
           "missingValuesAsZero": false,
           "numberFormat": "0,0.[00000]",
           "percentFormat": "0[.]00%",
           "series": {
            "error_y": {
             "type": "data",
             "visible": true
            },
            "stacking": null
           },
           "seriesOptions": {
            "2017": {
             "color": "#FCA4A1"
            },
            "2018": {
             "color": "#E3B76A"
            },
            "2019": {
             "color": "#EEECDA"
            },
            "column_a1e59530118": {
             "type": "line",
             "yAxis": 0
            }
           },
           "showDataLabels": false,
           "sizemode": "diameter",
           "sortX": true,
           "sortY": true,
           "swappedAxes": false,
           "textFormat": "",
           "useAggregationsUi": true,
           "valuesOptions": {},
           "version": 2,
           "xAxis": {
            "labels": {
             "enabled": true
            },
            "title": {
             "text": "Month"
            },
            "type": "-"
           },
           "yAxis": [
            {
             "title": {
              "text": "Total Sales"
             },
             "type": "-"
            },
            {
             "opposite": true,
             "type": "-"
            }
           ]
          }
         }
        ]
       },
       "datasetPreviewNameToCmdIdMap": {},
       "diffDeletes": [],
       "diffInserts": [],
       "displayType": "redashChart",
       "error": null,
       "errorDetails": null,
       "errorSummary": null,
       "errorTraceType": null,
       "finishTime": 0,
       "globalVars": {},
       "guid": "",
       "height": "auto",
       "hideCommandCode": false,
       "hideCommandResult": false,
       "iPythonMetadata": null,
       "inputWidgets": {},
       "isLockedInExamMode": false,
       "latestUser": "a user",
       "latestUserId": null,
       "listResultMetadata": null,
       "metadata": {
        "byteLimit": 2048000,
        "rowLimit": 10000
       },
       "nuid": "5c040b9c-8d60-4753-8a33-0bb8668b1bbc",
       "origId": 0,
       "parentHierarchy": [],
       "pivotAggregation": null,
       "pivotColumns": null,
       "position": 7.75,
       "resultDbfsErrorMessage": null,
       "resultDbfsStatus": "INLINED_IN_TREE",
       "results": null,
       "showCommandTitle": false,
       "startTime": 0,
       "state": "finished",
       "streamStates": {},
       "subcommandOptions": {
        "queryPlan": {
         "groups": [
          {
           "column": "month_id",
           "type": "column"
          },
          {
           "column": "year_id",
           "type": "column"
          }
         ],
         "selects": [
          {
           "column": "month_id",
           "type": "column"
          },
          {
           "alias": "column_a1e59530118",
           "args": [
            {
             "column": "total_sales",
             "type": "column"
            }
           ],
           "function": "SUM",
           "type": "function"
          },
          {
           "column": "year_id",
           "type": "column"
          }
         ]
        }
       },
       "submitTime": 0,
       "subtype": "tableResultSubCmd.visualization",
       "tableResultIndex": 0,
       "tableResultSettingsMap": null,
       "useConsistentColors": false,
       "version": "CommandV1",
       "width": "auto",
       "workflows": [],
       "xColumns": null,
       "yColumns": null
      }
     },
     "output_type": "display_data"
    }
   ],
   "source": [
    "%sql\n",
    "SELECT \n",
    "    year_id,\n",
    "    month_id,\n",
    "    SUM(sales) AS total_sales\n",
    "FROM sales_view\n",
    "GROUP BY year_id, month_id HAVING total_sales != 0 \n",
    "ORDER BY year_id, month_id;\n"
   ]
  },
  {
   "cell_type": "markdown",
   "metadata": {
    "application/vnd.databricks.v1+cell": {
     "cellMetadata": {},
     "inputWidgets": {},
     "nuid": "9e360c99-365a-4523-9092-605a0eee2334",
     "showTitle": false,
     "title": ""
    }
   },
   "source": [
    "### Sales Performance for each Day of Week"
   ]
  },
  {
   "cell_type": "code",
   "execution_count": null,
   "metadata": {
    "application/vnd.databricks.v1+cell": {
     "cellMetadata": {
      "byteLimit": 2048000,
      "rowLimit": 10000
     },
     "inputWidgets": {},
     "nuid": "5f9c532b-ca1d-42a0-a70a-949665bc7802",
     "showTitle": false,
     "title": ""
    }
   },
   "outputs": [
    {
     "data": {
      "text/html": [
       "<style scoped>\n",
       "  .table-result-container {\n",
       "    max-height: 300px;\n",
       "    overflow: auto;\n",
       "  }\n",
       "  table, th, td {\n",
       "    border: 1px solid black;\n",
       "    border-collapse: collapse;\n",
       "  }\n",
       "  th, td {\n",
       "    padding: 5px;\n",
       "  }\n",
       "  th {\n",
       "    text-align: left;\n",
       "  }\n",
       "</style><div class='table-result-container'><table class='table-result'><thead style='background-color: white'><tr><th>day_of_week</th><th>year_id</th><th>total_sales</th></tr></thead><tbody><tr><td>1</td><td>2017</td><td>46362.0</td></tr><tr><td>1</td><td>2018</td><td>49911.0</td></tr><tr><td>1</td><td>2019</td><td>33711.296</td></tr><tr><td>2</td><td>2017</td><td>34981.0</td></tr><tr><td>2</td><td>2018</td><td>43385.0</td></tr><tr><td>2</td><td>2019</td><td>29317.898</td></tr><tr><td>3</td><td>2017</td><td>35296.0</td></tr><tr><td>3</td><td>2018</td><td>40805.0</td></tr><tr><td>3</td><td>2019</td><td>27339.701999999997</td></tr><tr><td>4</td><td>2017</td><td>34446.0</td></tr><tr><td>4</td><td>2018</td><td>40768.0</td></tr><tr><td>4</td><td>2019</td><td>26329.214</td></tr><tr><td>5</td><td>2017</td><td>34541.0</td></tr><tr><td>5</td><td>2018</td><td>40902.0</td></tr><tr><td>5</td><td>2019</td><td>26633.562</td></tr><tr><td>6</td><td>2017</td><td>36901.0</td></tr><tr><td>6</td><td>2018</td><td>40495.0</td></tr><tr><td>6</td><td>2019</td><td>27997.056</td></tr><tr><td>7</td><td>2017</td><td>44165.0</td></tr><tr><td>7</td><td>2018</td><td>47910.0</td></tr><tr><td>7</td><td>2019</td><td>33444.452000000005</td></tr></tbody></table></div>"
      ]
     },
     "metadata": {
      "application/vnd.databricks.v1+output": {
       "addedWidgets": {},
       "aggData": [],
       "aggError": "",
       "aggOverflow": false,
       "aggSchema": [],
       "aggSeriesLimitReached": false,
       "aggType": "",
       "arguments": {},
       "columnCustomDisplayInfos": {},
       "data": [
        [
         1,
         2017,
         46362
        ],
        [
         1,
         2018,
         49911
        ],
        [
         1,
         2019,
         33711.296
        ],
        [
         2,
         2017,
         34981
        ],
        [
         2,
         2018,
         43385
        ],
        [
         2,
         2019,
         29317.898
        ],
        [
         3,
         2017,
         35296
        ],
        [
         3,
         2018,
         40805
        ],
        [
         3,
         2019,
         27339.701999999997
        ],
        [
         4,
         2017,
         34446
        ],
        [
         4,
         2018,
         40768
        ],
        [
         4,
         2019,
         26329.214
        ],
        [
         5,
         2017,
         34541
        ],
        [
         5,
         2018,
         40902
        ],
        [
         5,
         2019,
         26633.562
        ],
        [
         6,
         2017,
         36901
        ],
        [
         6,
         2018,
         40495
        ],
        [
         6,
         2019,
         27997.056
        ],
        [
         7,
         2017,
         44165
        ],
        [
         7,
         2018,
         47910
        ],
        [
         7,
         2019,
         33444.452000000005
        ]
       ],
       "datasetInfos": [],
       "dbfsResultPath": null,
       "isJsonSchema": true,
       "metadata": {
        "isDbfsCommandResult": false
       },
       "overflow": false,
       "plotOptions": {
        "customPlotOptions": {},
        "displayType": "table",
        "pivotAggregation": null,
        "pivotColumns": null,
        "xColumns": null,
        "yColumns": null
       },
       "removedWidgets": [],
       "schema": [
        {
         "metadata": "{}",
         "name": "day_of_week",
         "type": "\"integer\""
        },
        {
         "metadata": "{}",
         "name": "year_id",
         "type": "\"integer\""
        },
        {
         "metadata": "{}",
         "name": "total_sales",
         "type": "\"double\""
        }
       ],
       "type": "table"
      }
     },
     "output_type": "display_data"
    },
    {
     "data": {
      "text/plain": [
       "Databricks visualization. Run in Databricks to view."
      ]
     },
     "metadata": {
      "application/vnd.databricks.v1.subcommand+json": {
       "baseErrorDetails": null,
       "bindings": {},
       "collapsed": false,
       "command": "%sql WITH q AS (SELECT \n    day_of_week,year_id,\n    SUM(sales) AS total_sales\nFROM \n    sales_view\nGROUP BY \n    day_of_week,year_id\nORDER BY \n    day_of_week,year_id) SELECT `day_of_week`,SUM(`total_sales`) `column_820e65c7291`,`year_id` FROM q GROUP BY `day_of_week`,`year_id`",
       "commandTitle": "Visualization 1",
       "commandType": "auto",
       "commandVersion": 0,
       "commentThread": [],
       "commentsVisible": false,
       "contentSha256Hex": null,
       "customPlotOptions": {
        "redashChart": [
         {
          "key": "type",
          "value": "CHART"
         },
         {
          "key": "options",
          "value": {
           "alignYAxesAtZero": true,
           "coefficient": 1,
           "columnConfigurationMap": {
            "series": {
             "column": "year_id",
             "id": "column_820e65c7295"
            },
            "x": {
             "column": "day_of_week",
             "id": "column_820e65c7287"
            },
            "y": [
             {
              "column": "total_sales",
              "id": "column_820e65c7291",
              "transform": "SUM"
             }
            ]
           },
           "dateTimeFormat": "DD/MM/YYYY HH:mm",
           "direction": {
            "type": "counterclockwise"
           },
           "error_y": {
            "type": "data",
            "visible": true
           },
           "globalSeriesType": "line",
           "isAggregationOn": true,
           "legend": {
            "traceorder": "normal"
           },
           "missingValuesAsZero": false,
           "numBins": 10,
           "numberFormat": "0,0.[00000]",
           "percentFormat": "0[.]00%",
           "series": {
            "error_y": {
             "type": "data",
             "visible": true
            },
            "percentValues": false,
            "stacking": null
           },
           "seriesOptions": {
            "2017": {
             "color": "#FCA4A1"
            },
            "2018": {
             "color": "#E3B76A"
            },
            "2019": {
             "color": "#EEECDA"
            },
            "column_820e65c7288": {
             "name": "total_sales",
             "type": "line",
             "yAxis": 0
            },
            "column_820e65c7291": {
             "color": "#3BD973",
             "type": "line",
             "yAxis": 0
            }
           },
           "showDataLabels": false,
           "sizemode": "diameter",
           "sortX": true,
           "sortY": true,
           "swappedAxes": false,
           "textFormat": "",
           "useAggregationsUi": true,
           "valuesOptions": {},
           "version": 2,
           "xAxis": {
            "labels": {
             "enabled": true
            },
            "title": {
             "text": "Day of Week"
            },
            "type": "-"
           },
           "yAxis": [
            {
             "title": {
              "text": "Total Sales"
             },
             "type": "-"
            },
            {
             "opposite": true,
             "type": "-"
            }
           ]
          }
         }
        ]
       },
       "datasetPreviewNameToCmdIdMap": {},
       "diffDeletes": [],
       "diffInserts": [],
       "displayType": "redashChart",
       "error": null,
       "errorDetails": null,
       "errorSummary": null,
       "errorTraceType": null,
       "finishTime": 0,
       "globalVars": {},
       "guid": "",
       "height": "auto",
       "hideCommandCode": false,
       "hideCommandResult": false,
       "iPythonMetadata": null,
       "inputWidgets": {},
       "isLockedInExamMode": false,
       "latestUser": "a user",
       "latestUserId": null,
       "listResultMetadata": null,
       "metadata": {
        "byteLimit": 2048000,
        "rowLimit": 10000
       },
       "nuid": "16a73035-d9fc-4d6d-b782-c850fc5e8625",
       "origId": 0,
       "parentHierarchy": [],
       "pivotAggregation": null,
       "pivotColumns": null,
       "position": 7.8125,
       "resultDbfsErrorMessage": null,
       "resultDbfsStatus": "INLINED_IN_TREE",
       "results": null,
       "showCommandTitle": false,
       "startTime": 0,
       "state": "finished",
       "streamStates": {},
       "subcommandOptions": {
        "queryPlan": {
         "groups": [
          {
           "column": "day_of_week",
           "type": "column"
          },
          {
           "column": "year_id",
           "type": "column"
          }
         ],
         "selects": [
          {
           "column": "day_of_week",
           "type": "column"
          },
          {
           "alias": "column_820e65c7291",
           "args": [
            {
             "column": "total_sales",
             "type": "column"
            }
           ],
           "function": "SUM",
           "type": "function"
          },
          {
           "column": "year_id",
           "type": "column"
          }
         ]
        }
       },
       "submitTime": 0,
       "subtype": "tableResultSubCmd.visualization",
       "tableResultIndex": 0,
       "tableResultSettingsMap": null,
       "useConsistentColors": false,
       "version": "CommandV1",
       "width": "auto",
       "workflows": [],
       "xColumns": null,
       "yColumns": null
      }
     },
     "output_type": "display_data"
    }
   ],
   "source": [
    "%sql\n",
    "SELECT \n",
    "    day_of_week,year_id,\n",
    "    SUM(sales) AS total_sales\n",
    "FROM \n",
    "    sales_view\n",
    "GROUP BY \n",
    "    day_of_week,year_id\n",
    "ORDER BY \n",
    "    day_of_week,year_id;\n"
   ]
  },
  {
   "cell_type": "markdown",
   "metadata": {
    "application/vnd.databricks.v1+cell": {
     "cellMetadata": {},
     "inputWidgets": {},
     "nuid": "f29f8bb4-ab83-4a54-a037-9e28bf49ea9f",
     "showTitle": false,
     "title": ""
    }
   },
   "source": [
    "### Most Effective Promotion Type"
   ]
  },
  {
   "cell_type": "code",
   "execution_count": null,
   "metadata": {
    "application/vnd.databricks.v1+cell": {
     "cellMetadata": {
      "byteLimit": 2048000,
      "rowLimit": 10000
     },
     "inputWidgets": {},
     "nuid": "606909f2-fb3b-4969-91dd-b75d1312a637",
     "showTitle": false,
     "title": ""
    }
   },
   "outputs": [
    {
     "data": {
      "text/html": [
       "<style scoped>\n",
       "  .table-result-container {\n",
       "    max-height: 300px;\n",
       "    overflow: auto;\n",
       "  }\n",
       "  table, th, td {\n",
       "    border: 1px solid black;\n",
       "    border-collapse: collapse;\n",
       "  }\n",
       "  th, td {\n",
       "    padding: 5px;\n",
       "  }\n",
       "  th {\n",
       "    text-align: left;\n",
       "  }\n",
       "</style><div class='table-result-container'><table class='table-result'><thead style='background-color: white'><tr><th>promo_type_1</th><th>total_sales</th></tr></thead><tbody><tr><td>PR14</td><td>620901.1799999999</td></tr><tr><td>PR10</td><td>42165.0</td></tr><tr><td>PR03</td><td>35079.0</td></tr><tr><td>PR05</td><td>30921.0</td></tr><tr><td>PR06</td><td>13118.0</td></tr><tr><td>PR12</td><td>9723.0</td></tr><tr><td>PR11</td><td>6838.0</td></tr><tr><td>PR07</td><td>6239.0</td></tr><tr><td>PR17</td><td>5242.0</td></tr><tr><td>PR01</td><td>2536.0</td></tr><tr><td>PR09</td><td>1608.0</td></tr><tr><td>PR08</td><td>1237.0</td></tr><tr><td>PR13</td><td>34.0</td></tr></tbody></table></div>"
      ]
     },
     "metadata": {
      "application/vnd.databricks.v1+output": {
       "addedWidgets": {},
       "aggData": [],
       "aggError": "",
       "aggOverflow": false,
       "aggSchema": [],
       "aggSeriesLimitReached": false,
       "aggType": "",
       "arguments": {},
       "columnCustomDisplayInfos": {},
       "data": [
        [
         "PR14",
         620901.1799999999
        ],
        [
         "PR10",
         42165
        ],
        [
         "PR03",
         35079
        ],
        [
         "PR05",
         30921
        ],
        [
         "PR06",
         13118
        ],
        [
         "PR12",
         9723
        ],
        [
         "PR11",
         6838
        ],
        [
         "PR07",
         6239
        ],
        [
         "PR17",
         5242
        ],
        [
         "PR01",
         2536
        ],
        [
         "PR09",
         1608
        ],
        [
         "PR08",
         1237
        ],
        [
         "PR13",
         34
        ]
       ],
       "datasetInfos": [],
       "dbfsResultPath": null,
       "isJsonSchema": true,
       "metadata": {
        "isDbfsCommandResult": false
       },
       "overflow": false,
       "plotOptions": {
        "customPlotOptions": {},
        "displayType": "table",
        "pivotAggregation": null,
        "pivotColumns": null,
        "xColumns": null,
        "yColumns": null
       },
       "removedWidgets": [],
       "schema": [
        {
         "metadata": "{}",
         "name": "promo_type_1",
         "type": "\"string\""
        },
        {
         "metadata": "{}",
         "name": "total_sales",
         "type": "\"double\""
        }
       ],
       "type": "table"
      }
     },
     "output_type": "display_data"
    },
    {
     "data": {
      "text/plain": [
       "Databricks visualization. Run in Databricks to view."
      ]
     },
     "metadata": {
      "application/vnd.databricks.v1.subcommand+json": {
       "baseErrorDetails": null,
       "bindings": {},
       "collapsed": false,
       "command": "%sql WITH q AS (SELECT \n    promo_type_1,\n    SUM(sales) AS total_sales\nFROM sales_view\nGROUP BY promo_type_1\nORDER BY total_sales DESC) SELECT `promo_type_1`,SUM(`total_sales`) `column_820e65c725` FROM q GROUP BY `promo_type_1`",
       "commandTitle": "Sales by Promotion Type",
       "commandType": "auto",
       "commandVersion": 0,
       "commentThread": [],
       "commentsVisible": false,
       "contentSha256Hex": null,
       "customPlotOptions": {
        "redashChart": [
         {
          "key": "type",
          "value": "CHART"
         },
         {
          "key": "options",
          "value": {
           "alignYAxesAtZero": true,
           "coefficient": 1,
           "columnConfigurationMap": {
            "x": {
             "column": "promo_type_1",
             "id": "column_820e65c724"
            },
            "y": [
             {
              "column": "total_sales",
              "id": "column_820e65c725",
              "transform": "SUM"
             }
            ]
           },
           "dateTimeFormat": "DD/MM/YYYY HH:mm",
           "direction": {
            "type": "counterclockwise"
           },
           "error_y": {
            "type": "data",
            "visible": true
           },
           "globalSeriesType": "pie",
           "isAggregationOn": true,
           "legend": {
            "traceorder": "normal"
           },
           "missingValuesAsZero": true,
           "numberFormat": "0,0.[00000]",
           "percentFormat": "0[.]00%",
           "series": {
            "error_y": {
             "type": "data",
             "visible": true
            },
            "stacking": null
           },
           "seriesOptions": {
            "column_820e65c725": {
             "name": " ",
             "type": "pie",
             "yAxis": 0,
             "zIndex": 0
            },
            "column_820e65c732": {
             "type": "pie",
             "yAxis": 0
            },
            "column_820e65c735": {
             "type": "pie",
             "yAxis": 0
            }
           },
           "showDataLabels": true,
           "sizemode": "diameter",
           "sortX": true,
           "sortY": true,
           "swappedAxes": false,
           "textFormat": "",
           "useAggregationsUi": true,
           "valuesOptions": {
            "PR01": {
             "color": "#E3B76A"
            },
            "PR03": {
             "color": "#9E8472"
            },
            "PR05": {
             "color": "#A89D92"
            },
            "PR06": {
             "color": "#E3B76A"
            },
            "PR07": {
             "color": "#D5B195"
            },
            "PR08": {
             "color": "#DDDAD3"
            },
            "PR09": {
             "color": "#A89D92"
            },
            "PR10": {
             "color": "#735D42"
            },
            "PR11": {
             "color": "#8A6240"
            },
            "PR12": {
             "color": "#FDFCD4"
            },
            "PR13": {
             "color": "#F9F0EA"
            },
            "PR14": {
             "color": "#4C392D"
            },
            "PR17": {
             "color": "#FDFCD4"
            }
           },
           "version": 2,
           "xAxis": {
            "labels": {
             "enabled": true
            },
            "type": "-"
           },
           "yAxis": [
            {
             "type": "-"
            },
            {
             "opposite": true,
             "type": "-"
            }
           ]
          }
         }
        ]
       },
       "datasetPreviewNameToCmdIdMap": {},
       "diffDeletes": [],
       "diffInserts": [],
       "displayType": "redashChart",
       "error": null,
       "errorDetails": null,
       "errorSummary": null,
       "errorTraceType": null,
       "finishTime": 0,
       "globalVars": {},
       "guid": "",
       "height": "auto",
       "hideCommandCode": false,
       "hideCommandResult": false,
       "iPythonMetadata": null,
       "inputWidgets": {},
       "isLockedInExamMode": false,
       "latestUser": "a user",
       "latestUserId": null,
       "listResultMetadata": null,
       "metadata": {
        "byteLimit": 2048000,
        "rowLimit": 10000
       },
       "nuid": "cac0e310-56b7-40e1-a563-ce17ab20d1a9",
       "origId": 0,
       "parentHierarchy": [],
       "pivotAggregation": null,
       "pivotColumns": null,
       "position": 7.875,
       "resultDbfsErrorMessage": null,
       "resultDbfsStatus": "INLINED_IN_TREE",
       "results": null,
       "showCommandTitle": false,
       "startTime": 0,
       "state": "finished",
       "streamStates": {},
       "subcommandOptions": {
        "queryPlan": {
         "groups": [
          {
           "column": "promo_type_1",
           "type": "column"
          }
         ],
         "selects": [
          {
           "column": "promo_type_1",
           "type": "column"
          },
          {
           "alias": "column_820e65c725",
           "args": [
            {
             "column": "total_sales",
             "type": "column"
            }
           ],
           "function": "SUM",
           "type": "function"
          }
         ]
        }
       },
       "submitTime": 0,
       "subtype": "tableResultSubCmd.visualization",
       "tableResultIndex": 0,
       "tableResultSettingsMap": null,
       "useConsistentColors": false,
       "version": "CommandV1",
       "width": "auto",
       "workflows": [],
       "xColumns": null,
       "yColumns": null
      }
     },
     "output_type": "display_data"
    }
   ],
   "source": [
    "%sql\n",
    "SELECT \n",
    "    promo_type_1,\n",
    "    SUM(sales) AS total_sales\n",
    "FROM sales_view\n",
    "GROUP BY promo_type_1\n",
    "ORDER BY total_sales DESC;\n"
   ]
  },
  {
   "cell_type": "markdown",
   "metadata": {
    "application/vnd.databricks.v1+cell": {
     "cellMetadata": {},
     "inputWidgets": {},
     "nuid": "296c6575-872c-4019-80f8-634e9ca8648e",
     "showTitle": false,
     "title": ""
    }
   },
   "source": [
    "### Daily Revenue Performance"
   ]
  },
  {
   "cell_type": "code",
   "execution_count": null,
   "metadata": {
    "application/vnd.databricks.v1+cell": {
     "cellMetadata": {
      "byteLimit": 2048000,
      "rowLimit": 10000
     },
     "inputWidgets": {},
     "nuid": "ad8248da-2788-4dbf-9a83-2f98a5e98af4",
     "showTitle": false,
     "title": ""
    }
   },
   "outputs": [
    {
     "data": {
      "text/html": [
       "<style scoped>\n",
       "  .table-result-container {\n",
       "    max-height: 300px;\n",
       "    overflow: auto;\n",
       "  }\n",
       "  table, th, td {\n",
       "    border: 1px solid black;\n",
       "    border-collapse: collapse;\n",
       "  }\n",
       "  th, td {\n",
       "    padding: 5px;\n",
       "  }\n",
       "  th {\n",
       "    text-align: left;\n",
       "  }\n",
       "</style><div class='table-result-container'><table class='table-result'><thead style='background-color: white'><tr><th>date</th><th>(((total_revenue - lead(total_revenue, 1, 0) OVER (ORDER BY date DESC NULLS LAST ROWS BETWEEN 1 FOLLOWING AND 1 FOLLOWING)) * 100) / lead(total_revenue, 1, 0) OVER (ORDER BY date DESC NULLS LAST ROWS BETWEEN 1 FOLLOWING AND 1 FOLLOWING))</th></tr></thead><tbody><tr><td>2019-10-31</td><td>-4.200608130935854</td></tr></tbody></table></div>"
      ]
     },
     "metadata": {
      "application/vnd.databricks.v1+output": {
       "addedWidgets": {},
       "aggData": [],
       "aggError": "",
       "aggOverflow": false,
       "aggSchema": [],
       "aggSeriesLimitReached": false,
       "aggType": "",
       "arguments": {},
       "columnCustomDisplayInfos": {},
       "data": [
        [
         "2019-10-31",
         -4.200608130935854
        ]
       ],
       "datasetInfos": [],
       "dbfsResultPath": null,
       "isJsonSchema": true,
       "metadata": {
        "isDbfsCommandResult": false
       },
       "overflow": false,
       "plotOptions": {
        "customPlotOptions": {},
        "displayType": "table",
        "pivotAggregation": null,
        "pivotColumns": null,
        "xColumns": null,
        "yColumns": null
       },
       "removedWidgets": [],
       "schema": [
        {
         "metadata": "{}",
         "name": "date",
         "type": "\"date\""
        },
        {
         "metadata": "{\"__autoGeneratedAlias\":\"true\"}",
         "name": "(((total_revenue - lead(total_revenue, 1, 0) OVER (ORDER BY date DESC NULLS LAST ROWS BETWEEN 1 FOLLOWING AND 1 FOLLOWING)) * 100) / lead(total_revenue, 1, 0) OVER (ORDER BY date DESC NULLS LAST ROWS BETWEEN 1 FOLLOWING AND 1 FOLLOWING))",
         "type": "\"double\""
        }
       ],
       "type": "table"
      }
     },
     "output_type": "display_data"
    },
    {
     "data": {
      "text/plain": [
       "Databricks visualization. Run in Databricks to view."
      ]
     },
     "metadata": {
      "application/vnd.databricks.v1.subcommand+json": {
       "baseErrorDetails": null,
       "bindings": {},
       "collapsed": false,
       "command": "WITH DailyRevenue AS (\n    SELECT \n        date,\n        SUM(revenue) AS total_revenue\n    FROM sales_view\n    GROUP BY date\n)\n\nSELECT \n    date,\n    (total_revenue-LEAD(total_revenue, 1, 0) OVER (ORDER BY date DESC))*100/LEAD(total_revenue, 1, 0) OVER (ORDER BY date DESC)\nFROM DailyRevenue WHERE total_revenue != 0\nORDER BY date DESC LIMIT 1;\n\n\n",
       "commandTitle": "Latest revenue growth",
       "commandType": "auto",
       "commandVersion": 0,
       "commentThread": [],
       "commentsVisible": false,
       "contentSha256Hex": null,
       "customPlotOptions": {
        "redashChart": [
         {
          "key": "type",
          "value": "COUNTER"
         },
         {
          "key": "options",
          "value": {
           "countRow": false,
           "counterColName": "(((total_revenue - lead(total_revenue, 1, 0) OVER (ORDER BY date DESC NULLS LAST ROWS BETWEEN 1 FOLLOWING AND 1 FOLLOWING)) * 100) / lead(total_revenue, 1, 0) OVER (ORDER BY date DESC NULLS LAST ROWS BETWEEN 1 FOLLOWING AND 1 FOLLOWING))",
           "counterLabel": "Daily Revenue Performance",
           "rowNumber": 1,
           "stringDecChar": ".",
           "stringDecimal": 0,
           "stringSuffix": " %",
           "stringThouSep": ",",
           "targetRowNumber": 1,
           "tooltipFormat": "0,0.000"
          }
         }
        ]
       },
       "datasetPreviewNameToCmdIdMap": {},
       "diffDeletes": [],
       "diffInserts": [],
       "displayType": "redashChart",
       "error": null,
       "errorDetails": null,
       "errorSummary": null,
       "errorTraceType": null,
       "finishTime": 0,
       "globalVars": {},
       "guid": "",
       "height": "auto",
       "hideCommandCode": false,
       "hideCommandResult": false,
       "iPythonMetadata": null,
       "inputWidgets": {},
       "isLockedInExamMode": false,
       "latestUser": "a user",
       "latestUserId": null,
       "listResultMetadata": null,
       "metadata": {
        "byteLimit": 2048000,
        "rowLimit": 10000
       },
       "nuid": "554d7a72-4b08-4fdd-8385-2326925c33d4",
       "origId": 0,
       "parentHierarchy": [],
       "pivotAggregation": null,
       "pivotColumns": null,
       "position": 7.90625,
       "resultDbfsErrorMessage": null,
       "resultDbfsStatus": "INLINED_IN_TREE",
       "results": null,
       "showCommandTitle": false,
       "startTime": 0,
       "state": "finished",
       "streamStates": {},
       "subcommandOptions": {},
       "submitTime": 0,
       "subtype": "tableResultSubCmd.visualization",
       "tableResultIndex": 0,
       "tableResultSettingsMap": null,
       "useConsistentColors": false,
       "version": "CommandV1",
       "width": "auto",
       "workflows": [],
       "xColumns": null,
       "yColumns": null
      }
     },
     "output_type": "display_data"
    }
   ],
   "source": [
    "%sql\n",
    "WITH DailyRevenue AS (\n",
    "    SELECT \n",
    "        date,\n",
    "        SUM(revenue) AS total_revenue\n",
    "    FROM sales_view\n",
    "    GROUP BY date\n",
    ")\n",
    "\n",
    "SELECT \n",
    "    date,\n",
    "    (total_revenue-LEAD(total_revenue, 1, 0) OVER (ORDER BY date DESC))*100/LEAD(total_revenue, 1, 0) OVER (ORDER BY date DESC)\n",
    "FROM DailyRevenue WHERE total_revenue != 0\n",
    "ORDER BY date DESC LIMIT 1;\n",
    "\n",
    "\n"
   ]
  },
  {
   "cell_type": "markdown",
   "metadata": {
    "application/vnd.databricks.v1+cell": {
     "cellMetadata": {},
     "inputWidgets": {},
     "nuid": "33b087f9-cb21-4a33-862f-bda545393652",
     "showTitle": false,
     "title": ""
    }
   },
   "source": [
    "### Quarterly Sales Performance of each year"
   ]
  },
  {
   "cell_type": "code",
   "execution_count": null,
   "metadata": {
    "application/vnd.databricks.v1+cell": {
     "cellMetadata": {
      "byteLimit": 2048000,
      "rowLimit": 10000
     },
     "inputWidgets": {},
     "nuid": "2a1d1b2b-2f6c-4ee1-8e62-188eab2976b7",
     "showTitle": false,
     "title": ""
    }
   },
   "outputs": [
    {
     "data": {
      "text/html": [
       "<style scoped>\n",
       "  .table-result-container {\n",
       "    max-height: 300px;\n",
       "    overflow: auto;\n",
       "  }\n",
       "  table, th, td {\n",
       "    border: 1px solid black;\n",
       "    border-collapse: collapse;\n",
       "  }\n",
       "  th, td {\n",
       "    padding: 5px;\n",
       "  }\n",
       "  th {\n",
       "    text-align: left;\n",
       "  }\n",
       "</style><div class='table-result-container'><table class='table-result'><thead style='background-color: white'><tr><th>year</th><th>quarter</th><th>total_sales</th></tr></thead><tbody><tr><td>2017</td><td>1</td><td>80376.0</td></tr><tr><td>2017</td><td>2</td><td>58720.0</td></tr><tr><td>2017</td><td>3</td><td>61166.0</td></tr><tr><td>2017</td><td>4</td><td>66430.0</td></tr><tr><td>2018</td><td>1</td><td>63349.0</td></tr><tr><td>2018</td><td>2</td><td>94364.0</td></tr><tr><td>2018</td><td>3</td><td>81417.0</td></tr><tr><td>2018</td><td>4</td><td>65046.0</td></tr><tr><td>2019</td><td>1</td><td>71758.53199999999</td></tr><tr><td>2019</td><td>2</td><td>65381.898</td></tr><tr><td>2019</td><td>3</td><td>53979.818</td></tr><tr><td>2019</td><td>4</td><td>13652.931999999999</td></tr></tbody></table></div>"
      ]
     },
     "metadata": {
      "application/vnd.databricks.v1+output": {
       "addedWidgets": {},
       "aggData": [],
       "aggError": "",
       "aggOverflow": false,
       "aggSchema": [],
       "aggSeriesLimitReached": false,
       "aggType": "",
       "arguments": {},
       "columnCustomDisplayInfos": {},
       "data": [
        [
         2017,
         1,
         80376
        ],
        [
         2017,
         2,
         58720
        ],
        [
         2017,
         3,
         61166
        ],
        [
         2017,
         4,
         66430
        ],
        [
         2018,
         1,
         63349
        ],
        [
         2018,
         2,
         94364
        ],
        [
         2018,
         3,
         81417
        ],
        [
         2018,
         4,
         65046
        ],
        [
         2019,
         1,
         71758.53199999999
        ],
        [
         2019,
         2,
         65381.898
        ],
        [
         2019,
         3,
         53979.818
        ],
        [
         2019,
         4,
         13652.931999999999
        ]
       ],
       "datasetInfos": [],
       "dbfsResultPath": null,
       "isJsonSchema": true,
       "metadata": {
        "isDbfsCommandResult": false
       },
       "overflow": false,
       "plotOptions": {
        "customPlotOptions": {},
        "displayType": "table",
        "pivotAggregation": null,
        "pivotColumns": null,
        "xColumns": null,
        "yColumns": null
       },
       "removedWidgets": [],
       "schema": [
        {
         "metadata": "{}",
         "name": "year",
         "type": "\"integer\""
        },
        {
         "metadata": "{}",
         "name": "quarter",
         "type": "\"integer\""
        },
        {
         "metadata": "{}",
         "name": "total_sales",
         "type": "\"double\""
        }
       ],
       "type": "table"
      }
     },
     "output_type": "display_data"
    },
    {
     "data": {
      "text/plain": [
       "Databricks visualization. Run in Databricks to view."
      ]
     },
     "metadata": {
      "application/vnd.databricks.v1.subcommand+json": {
       "baseErrorDetails": null,
       "bindings": {},
       "collapsed": false,
       "command": "%sql WITH q AS (SELECT \n    YEAR(date) AS year,\n    QUARTER(date) AS quarter,\n    SUM(sales) AS total_sales\nFROM sales_view\nGROUP BY year, quarter\nORDER BY year, quarter) SELECT `quarter`,SUM(`total_sales`) `column_820e65c774`,`year` FROM q GROUP BY `quarter`,`year`",
       "commandTitle": "Sales By Quarter",
       "commandType": "auto",
       "commandVersion": 0,
       "commentThread": [],
       "commentsVisible": false,
       "contentSha256Hex": null,
       "customPlotOptions": {
        "redashChart": [
         {
          "key": "type",
          "value": "CHART"
         },
         {
          "key": "options",
          "value": {
           "alignYAxesAtZero": true,
           "coefficient": 1,
           "columnConfigurationMap": {
            "series": {
             "column": "year",
             "id": "column_820e65c776"
            },
            "x": {
             "column": "quarter",
             "id": "column_820e65c772"
            },
            "y": [
             {
              "column": "total_sales",
              "id": "column_820e65c774",
              "transform": "SUM"
             }
            ]
           },
           "dateTimeFormat": "DD/MM/YYYY HH:mm",
           "direction": {
            "type": "counterclockwise"
           },
           "error_y": {
            "type": "data",
            "visible": true
           },
           "globalSeriesType": "column",
           "isAggregationOn": true,
           "legend": {
            "traceorder": "normal"
           },
           "missingValuesAsZero": true,
           "numberFormat": "0,0.[00000]",
           "percentFormat": "0[.]00%",
           "series": {
            "error_y": {
             "type": "data",
             "visible": true
            },
            "stacking": null
           },
           "seriesOptions": {
            "2017": {
             "color": "#4C392D"
            },
            "2018": {
             "color": "#9E8472"
            },
            "2019": {
             "color": "#A89D92"
            },
            "column_820e65c774": {
             "type": "column",
             "yAxis": 0
            }
           },
           "showDataLabels": false,
           "sizemode": "diameter",
           "sortX": true,
           "sortY": true,
           "swappedAxes": false,
           "textFormat": "",
           "useAggregationsUi": true,
           "valuesOptions": {},
           "version": 2,
           "xAxis": {
            "labels": {
             "enabled": true
            },
            "title": {
             "text": "Business Quarter"
            },
            "type": "-"
           },
           "yAxis": [
            {
             "title": {
              "text": "Total Sales"
             },
             "type": "-"
            },
            {
             "opposite": true,
             "type": "-"
            }
           ]
          }
         }
        ]
       },
       "datasetPreviewNameToCmdIdMap": {},
       "diffDeletes": [],
       "diffInserts": [],
       "displayType": "redashChart",
       "error": null,
       "errorDetails": null,
       "errorSummary": null,
       "errorTraceType": null,
       "finishTime": 0,
       "globalVars": {},
       "guid": "",
       "height": "auto",
       "hideCommandCode": false,
       "hideCommandResult": false,
       "iPythonMetadata": null,
       "inputWidgets": {},
       "isLockedInExamMode": false,
       "latestUser": "a user",
       "latestUserId": null,
       "listResultMetadata": null,
       "metadata": {
        "byteLimit": 2048000,
        "rowLimit": 10000
       },
       "nuid": "044b4fac-ad16-4036-afc0-a234b1dfd78d",
       "origId": 0,
       "parentHierarchy": [],
       "pivotAggregation": null,
       "pivotColumns": null,
       "position": 7.9375,
       "resultDbfsErrorMessage": null,
       "resultDbfsStatus": "INLINED_IN_TREE",
       "results": null,
       "showCommandTitle": false,
       "startTime": 0,
       "state": "finished",
       "streamStates": {},
       "subcommandOptions": {
        "queryPlan": {
         "groups": [
          {
           "column": "quarter",
           "type": "column"
          },
          {
           "column": "year",
           "type": "column"
          }
         ],
         "selects": [
          {
           "column": "quarter",
           "type": "column"
          },
          {
           "alias": "column_820e65c774",
           "args": [
            {
             "column": "total_sales",
             "type": "column"
            }
           ],
           "function": "SUM",
           "type": "function"
          },
          {
           "column": "year",
           "type": "column"
          }
         ]
        }
       },
       "submitTime": 0,
       "subtype": "tableResultSubCmd.visualization",
       "tableResultIndex": 0,
       "tableResultSettingsMap": null,
       "useConsistentColors": false,
       "version": "CommandV1",
       "width": "auto",
       "workflows": [],
       "xColumns": null,
       "yColumns": null
      }
     },
     "output_type": "display_data"
    }
   ],
   "source": [
    "%sql\n",
    "SELECT \n",
    "    YEAR(date) AS year,\n",
    "    QUARTER(date) AS quarter,\n",
    "    SUM(sales) AS total_sales\n",
    "FROM sales_view\n",
    "GROUP BY year, quarter\n",
    "ORDER BY year, quarter;\n",
    "\n"
   ]
  },
  {
   "cell_type": "markdown",
   "metadata": {
    "application/vnd.databricks.v1+cell": {
     "cellMetadata": {
      "byteLimit": 2048000,
      "rowLimit": 10000
     },
     "inputWidgets": {},
     "nuid": "36a40f2d-929c-40d7-832e-e29bbaf6bd06",
     "showTitle": false,
     "title": ""
    }
   },
   "source": [
    "### Distribution of stores across city with their store types"
   ]
  },
  {
   "cell_type": "code",
   "execution_count": null,
   "metadata": {
    "application/vnd.databricks.v1+cell": {
     "cellMetadata": {
      "byteLimit": 2048000,
      "rowLimit": 10000
     },
     "inputWidgets": {},
     "nuid": "18be92b7-7771-4563-8f87-d55b26bb6907",
     "showTitle": false,
     "title": ""
    }
   },
   "outputs": [
    {
     "data": {
      "text/html": [
       "<style scoped>\n",
       "  .table-result-container {\n",
       "    max-height: 300px;\n",
       "    overflow: auto;\n",
       "  }\n",
       "  table, th, td {\n",
       "    border: 1px solid black;\n",
       "    border-collapse: collapse;\n",
       "  }\n",
       "  th, td {\n",
       "    padding: 5px;\n",
       "  }\n",
       "  th {\n",
       "    text-align: left;\n",
       "  }\n",
       "</style><div class='table-result-container'><table class='table-result'><thead style='background-color: white'><tr><th>city_id</th><th>storetype_id</th><th>total_stores</th></tr></thead><tbody><tr><td>C014</td><td>ST04</td><td>17</td></tr><tr><td>C014</td><td>ST03</td><td>13</td></tr><tr><td>C022</td><td>ST04</td><td>11</td></tr><tr><td>C022</td><td>ST03</td><td>11</td></tr><tr><td>C031</td><td>ST04</td><td>6</td></tr><tr><td>C031</td><td>ST03</td><td>5</td></tr><tr><td>C024</td><td>ST04</td><td>4</td></tr><tr><td>C008</td><td>ST04</td><td>3</td></tr><tr><td>C030</td><td>ST03</td><td>3</td></tr><tr><td>C005</td><td>ST04</td><td>3</td></tr><tr><td>C020</td><td>ST03</td><td>3</td></tr><tr><td>C029</td><td>ST04</td><td>3</td></tr><tr><td>C024</td><td>ST03</td><td>3</td></tr><tr><td>C026</td><td>ST04</td><td>2</td></tr><tr><td>C035</td><td>ST04</td><td>2</td></tr><tr><td>C033</td><td>ST04</td><td>2</td></tr><tr><td>C020</td><td>ST04</td><td>2</td></tr><tr><td>C003</td><td>ST03</td><td>2</td></tr><tr><td>C036</td><td>ST04</td><td>2</td></tr><tr><td>C006</td><td>ST04</td><td>2</td></tr><tr><td>C030</td><td>ST04</td><td>2</td></tr><tr><td>C017</td><td>ST04</td><td>2</td></tr><tr><td>C036</td><td>ST02</td><td>2</td></tr><tr><td>C025</td><td>ST04</td><td>2</td></tr><tr><td>C001</td><td>ST04</td><td>2</td></tr><tr><td>C005</td><td>ST03</td><td>2</td></tr><tr><td>C021</td><td>ST04</td><td>2</td></tr><tr><td>C031</td><td>ST01</td><td>1</td></tr><tr><td>C015</td><td>ST04</td><td>1</td></tr><tr><td>C019</td><td>ST04</td><td>1</td></tr><tr><td>C019</td><td>ST03</td><td>1</td></tr><tr><td>C027</td><td>ST04</td><td>1</td></tr><tr><td>C016</td><td>ST04</td><td>1</td></tr><tr><td>C004</td><td>ST01</td><td>1</td></tr><tr><td>C011</td><td>ST04</td><td>1</td></tr><tr><td>C028</td><td>ST03</td><td>1</td></tr><tr><td>C032</td><td>ST04</td><td>1</td></tr><tr><td>C035</td><td>ST03</td><td>1</td></tr><tr><td>C010</td><td>ST04</td><td>1</td></tr><tr><td>C014</td><td>ST02</td><td>1</td></tr><tr><td>C025</td><td>ST03</td><td>1</td></tr><tr><td>C012</td><td>ST04</td><td>1</td></tr><tr><td>C036</td><td>ST01</td><td>1</td></tr><tr><td>C013</td><td>ST03</td><td>1</td></tr><tr><td>C023</td><td>ST03</td><td>1</td></tr><tr><td>C026</td><td>ST03</td><td>1</td></tr><tr><td>C037</td><td>ST03</td><td>1</td></tr><tr><td>C013</td><td>ST04</td><td>1</td></tr><tr><td>C014</td><td>ST01</td><td>1</td></tr><tr><td>C031</td><td>ST02</td><td>1</td></tr><tr><td>C018</td><td>ST04</td><td>1</td></tr><tr><td>C002</td><td>ST04</td><td>1</td></tr><tr><td>C029</td><td>ST03</td><td>1</td></tr><tr><td>C034</td><td>ST03</td><td>1</td></tr><tr><td>C007</td><td>ST04</td><td>1</td></tr><tr><td>C006</td><td>ST03</td><td>1</td></tr><tr><td>C009</td><td>ST04</td><td>1</td></tr><tr><td>C028</td><td>ST04</td><td>1</td></tr></tbody></table></div>"
      ]
     },
     "metadata": {
      "application/vnd.databricks.v1+output": {
       "addedWidgets": {},
       "aggData": [],
       "aggError": "",
       "aggOverflow": false,
       "aggSchema": [],
       "aggSeriesLimitReached": false,
       "aggType": "",
       "arguments": {},
       "columnCustomDisplayInfos": {},
       "data": [
        [
         "C014",
         "ST04",
         17
        ],
        [
         "C014",
         "ST03",
         13
        ],
        [
         "C022",
         "ST04",
         11
        ],
        [
         "C022",
         "ST03",
         11
        ],
        [
         "C031",
         "ST04",
         6
        ],
        [
         "C031",
         "ST03",
         5
        ],
        [
         "C024",
         "ST04",
         4
        ],
        [
         "C008",
         "ST04",
         3
        ],
        [
         "C030",
         "ST03",
         3
        ],
        [
         "C005",
         "ST04",
         3
        ],
        [
         "C020",
         "ST03",
         3
        ],
        [
         "C029",
         "ST04",
         3
        ],
        [
         "C024",
         "ST03",
         3
        ],
        [
         "C026",
         "ST04",
         2
        ],
        [
         "C035",
         "ST04",
         2
        ],
        [
         "C033",
         "ST04",
         2
        ],
        [
         "C020",
         "ST04",
         2
        ],
        [
         "C003",
         "ST03",
         2
        ],
        [
         "C036",
         "ST04",
         2
        ],
        [
         "C006",
         "ST04",
         2
        ],
        [
         "C030",
         "ST04",
         2
        ],
        [
         "C017",
         "ST04",
         2
        ],
        [
         "C036",
         "ST02",
         2
        ],
        [
         "C025",
         "ST04",
         2
        ],
        [
         "C001",
         "ST04",
         2
        ],
        [
         "C005",
         "ST03",
         2
        ],
        [
         "C021",
         "ST04",
         2
        ],
        [
         "C031",
         "ST01",
         1
        ],
        [
         "C015",
         "ST04",
         1
        ],
        [
         "C019",
         "ST04",
         1
        ],
        [
         "C019",
         "ST03",
         1
        ],
        [
         "C027",
         "ST04",
         1
        ],
        [
         "C016",
         "ST04",
         1
        ],
        [
         "C004",
         "ST01",
         1
        ],
        [
         "C011",
         "ST04",
         1
        ],
        [
         "C028",
         "ST03",
         1
        ],
        [
         "C032",
         "ST04",
         1
        ],
        [
         "C035",
         "ST03",
         1
        ],
        [
         "C010",
         "ST04",
         1
        ],
        [
         "C014",
         "ST02",
         1
        ],
        [
         "C025",
         "ST03",
         1
        ],
        [
         "C012",
         "ST04",
         1
        ],
        [
         "C036",
         "ST01",
         1
        ],
        [
         "C013",
         "ST03",
         1
        ],
        [
         "C023",
         "ST03",
         1
        ],
        [
         "C026",
         "ST03",
         1
        ],
        [
         "C037",
         "ST03",
         1
        ],
        [
         "C013",
         "ST04",
         1
        ],
        [
         "C014",
         "ST01",
         1
        ],
        [
         "C031",
         "ST02",
         1
        ],
        [
         "C018",
         "ST04",
         1
        ],
        [
         "C002",
         "ST04",
         1
        ],
        [
         "C029",
         "ST03",
         1
        ],
        [
         "C034",
         "ST03",
         1
        ],
        [
         "C007",
         "ST04",
         1
        ],
        [
         "C006",
         "ST03",
         1
        ],
        [
         "C009",
         "ST04",
         1
        ],
        [
         "C028",
         "ST04",
         1
        ]
       ],
       "datasetInfos": [],
       "dbfsResultPath": null,
       "isJsonSchema": true,
       "metadata": {
        "isDbfsCommandResult": false
       },
       "overflow": false,
       "plotOptions": {
        "customPlotOptions": {},
        "displayType": "table",
        "pivotAggregation": null,
        "pivotColumns": null,
        "xColumns": null,
        "yColumns": null
       },
       "removedWidgets": [],
       "schema": [
        {
         "metadata": "{}",
         "name": "city_id",
         "type": "\"string\""
        },
        {
         "metadata": "{}",
         "name": "storetype_id",
         "type": "\"string\""
        },
        {
         "metadata": "{}",
         "name": "total_stores",
         "type": "\"long\""
        }
       ],
       "type": "table"
      }
     },
     "output_type": "display_data"
    },
    {
     "data": {
      "text/plain": [
       "Databricks visualization. Run in Databricks to view."
      ]
     },
     "metadata": {
      "application/vnd.databricks.v1.subcommand+json": {
       "baseErrorDetails": null,
       "bindings": {},
       "collapsed": false,
       "command": "%sql WITH q AS (SELECT \n    city_id,\n    storetype_id,\n    COUNT(DISTINCT store_id) AS total_stores\nFROM \n    stores_view\nGROUP BY \n    city_id, storetype_id\nORDER BY \n    total_stores DESC) SELECT `city_id`,SUM(`total_stores`) `column_820e65c783`,`storetype_id` FROM q GROUP BY `city_id`,`storetype_id`",
       "commandTitle": "Visualization 1",
       "commandType": "auto",
       "commandVersion": 0,
       "commentThread": [],
       "commentsVisible": false,
       "contentSha256Hex": null,
       "customPlotOptions": {
        "redashChart": [
         {
          "key": "type",
          "value": "CHART"
         },
         {
          "key": "options",
          "value": {
           "alignYAxesAtZero": true,
           "coefficient": 1,
           "columnConfigurationMap": {
            "series": {
             "column": "storetype_id",
             "id": "column_820e65c7309"
            },
            "x": {
             "column": "city_id",
             "id": "column_820e65c782"
            },
            "y": [
             {
              "column": "total_stores",
              "id": "column_820e65c783",
              "transform": "SUM"
             }
            ]
           },
           "dateTimeFormat": "DD/MM/YYYY HH:mm",
           "direction": {
            "type": "counterclockwise"
           },
           "error_y": {
            "type": "data",
            "visible": true
           },
           "globalSeriesType": "column",
           "isAggregationOn": true,
           "legend": {
            "traceorder": "normal"
           },
           "missingValuesAsZero": true,
           "numberFormat": "0,0.[00000]",
           "percentFormat": "0[.]00%",
           "reverseX": false,
           "series": {
            "error_y": {
             "type": "data",
             "visible": true
            },
            "stacking": "stack"
           },
           "seriesOptions": {
            "ST01": {
             "color": "#4C392D"
            },
            "ST02": {
             "color": "#9E8472"
            },
            "ST03": {
             "color": "#A89D92"
            },
            "ST04": {
             "color": "#DDDAD3"
            },
            "column_820e65c7307": {
             "type": "column",
             "yAxis": 0
            },
            "column_820e65c783": {
             "color": "#E92828",
             "name": "total_stores",
             "type": "column",
             "yAxis": 0
            }
           },
           "showDataLabels": false,
           "sizemode": "diameter",
           "sortX": true,
           "sortY": true,
           "swappedAxes": true,
           "textFormat": "",
           "useAggregationsUi": true,
           "valuesOptions": {},
           "version": 2,
           "xAxis": {
            "labels": {
             "enabled": true
            },
            "title": {
             "text": "City"
            },
            "type": "-"
           },
           "yAxis": [
            {
             "title": {
              "text": "Total Stores"
             },
             "type": "-"
            },
            {
             "opposite": true,
             "type": "-"
            }
           ]
          }
         }
        ]
       },
       "datasetPreviewNameToCmdIdMap": {},
       "diffDeletes": [],
       "diffInserts": [],
       "displayType": "redashChart",
       "error": null,
       "errorDetails": null,
       "errorSummary": null,
       "errorTraceType": null,
       "finishTime": 0,
       "globalVars": {},
       "guid": "",
       "height": "auto",
       "hideCommandCode": false,
       "hideCommandResult": false,
       "iPythonMetadata": null,
       "inputWidgets": {},
       "isLockedInExamMode": false,
       "latestUser": "a user",
       "latestUserId": null,
       "listResultMetadata": null,
       "metadata": {
        "byteLimit": 2048000,
        "rowLimit": 10000
       },
       "nuid": "c738a2bb-1113-403c-93ac-41f010a0e462",
       "origId": 0,
       "parentHierarchy": [],
       "pivotAggregation": null,
       "pivotColumns": null,
       "position": 10.9375,
       "resultDbfsErrorMessage": null,
       "resultDbfsStatus": "INLINED_IN_TREE",
       "results": null,
       "showCommandTitle": false,
       "startTime": 0,
       "state": "finished",
       "streamStates": {},
       "subcommandOptions": {
        "queryPlan": {
         "groups": [
          {
           "column": "city_id",
           "type": "column"
          },
          {
           "column": "storetype_id",
           "type": "column"
          }
         ],
         "selects": [
          {
           "column": "city_id",
           "type": "column"
          },
          {
           "alias": "column_820e65c783",
           "args": [
            {
             "column": "total_stores",
             "type": "column"
            }
           ],
           "function": "SUM",
           "type": "function"
          },
          {
           "column": "storetype_id",
           "type": "column"
          }
         ]
        }
       },
       "submitTime": 0,
       "subtype": "tableResultSubCmd.visualization",
       "tableResultIndex": 0,
       "tableResultSettingsMap": null,
       "useConsistentColors": false,
       "version": "CommandV1",
       "width": "auto",
       "workflows": [],
       "xColumns": null,
       "yColumns": null
      }
     },
     "output_type": "display_data"
    }
   ],
   "source": [
    "%sql\n",
    "SELECT \n",
    "    city_id,\n",
    "    storetype_id,\n",
    "    COUNT(DISTINCT store_id) AS total_stores\n",
    "FROM \n",
    "    stores_view\n",
    "GROUP BY \n",
    "    city_id, storetype_id\n",
    "ORDER BY \n",
    "    total_stores DESC \n"
   ]
  },
  {
   "cell_type": "markdown",
   "metadata": {
    "application/vnd.databricks.v1+cell": {
     "cellMetadata": {},
     "inputWidgets": {},
     "nuid": "39cc6a4d-553d-40e4-be5c-9cf180c76a53",
     "showTitle": false,
     "title": ""
    }
   },
   "source": [
    "### distribution of stores with their size/Area"
   ]
  },
  {
   "cell_type": "code",
   "execution_count": null,
   "metadata": {
    "application/vnd.databricks.v1+cell": {
     "cellMetadata": {
      "byteLimit": 2048000,
      "rowLimit": 10000
     },
     "inputWidgets": {},
     "nuid": "4e2a9105-c1d6-4e8a-b8fc-406b50f94de8",
     "showTitle": false,
     "title": ""
    }
   },
   "outputs": [
    {
     "data": {
      "text/html": [
       "<style scoped>\n",
       "  .table-result-container {\n",
       "    max-height: 300px;\n",
       "    overflow: auto;\n",
       "  }\n",
       "  table, th, td {\n",
       "    border: 1px solid black;\n",
       "    border-collapse: collapse;\n",
       "  }\n",
       "  th, td {\n",
       "    padding: 5px;\n",
       "  }\n",
       "  th {\n",
       "    text-align: left;\n",
       "  }\n",
       "</style><div class='table-result-container'><table class='table-result'><thead style='background-color: white'><tr><th>store_size</th><th>storetype_id</th><th>count(1)</th></tr></thead><tbody><tr><td>8</td><td>ST03</td><td>8623</td></tr><tr><td>15</td><td>ST03</td><td>75800</td></tr><tr><td>23</td><td>ST04</td><td>105894</td></tr><tr><td>16</td><td>ST03</td><td>32444</td></tr><tr><td>20</td><td>ST04</td><td>69823</td></tr><tr><td>44</td><td>ST02</td><td>16862</td></tr><tr><td>35</td><td>ST04</td><td>45588</td></tr><tr><td>41</td><td>ST04</td><td>94004</td></tr><tr><td>34</td><td>ST04</td><td>28682</td></tr><tr><td>14</td><td>ST03</td><td>42251</td></tr><tr><td>33</td><td>ST04</td><td>25523</td></tr><tr><td>30</td><td>ST04</td><td>59638</td></tr><tr><td>45</td><td>ST04</td><td>98263</td></tr><tr><td>47</td><td>ST04</td><td>92485</td></tr><tr><td>63</td><td>ST01</td><td>42984</td></tr><tr><td>11</td><td>ST03</td><td>16276</td></tr><tr><td>31</td><td>ST04</td><td>106382</td></tr><tr><td>18</td><td>ST03</td><td>15000</td></tr><tr><td>22</td><td>ST04</td><td>33458</td></tr><tr><td>17</td><td>ST04</td><td>90073</td></tr><tr><td>27</td><td>ST04</td><td>71875</td></tr><tr><td>21</td><td>ST04</td><td>42234</td></tr><tr><td>83</td><td>ST01</td><td>31948</td></tr><tr><td>24</td><td>ST04</td><td>94486</td></tr><tr><td>60</td><td>ST01</td><td>41494</td></tr><tr><td>19</td><td>ST04</td><td>107445</td></tr><tr><td>26</td><td>ST04</td><td>33324</td></tr><tr><td>18</td><td>ST04</td><td>11171</td></tr><tr><td>42</td><td>ST04</td><td>59547</td></tr><tr><td>28</td><td>ST04</td><td>22660</td></tr><tr><td>41</td><td>ST02</td><td>16083</td></tr><tr><td>25</td><td>ST04</td><td>107848</td></tr><tr><td>17</td><td>ST03</td><td>24794</td></tr><tr><td>18</td><td>ST02</td><td>8592</td></tr><tr><td>29</td><td>ST04</td><td>18079</td></tr><tr><td>15</td><td>ST04</td><td>13940</td></tr><tr><td>20</td><td>ST03</td><td>3310</td></tr><tr><td>40</td><td>ST04</td><td>32806</td></tr><tr><td>28</td><td>ST02</td><td>14122</td></tr><tr><td>12</td><td>ST03</td><td>37949</td></tr><tr><td>16</td><td>ST04</td><td>40988</td></tr><tr><td>37</td><td>ST04</td><td>30548</td></tr><tr><td>13</td><td>ST03</td><td>26534</td></tr><tr><td>39</td><td>ST04</td><td>56335</td></tr><tr><td>86</td><td>ST01</td><td>29480</td></tr><tr><td>46</td><td>ST04</td><td>23025</td></tr><tr><td>32</td><td>ST04</td><td>11093</td></tr><tr><td>36</td><td>ST04</td><td>29261</td></tr><tr><td>6</td><td>ST03</td><td>2496</td></tr></tbody></table></div>"
      ]
     },
     "metadata": {
      "application/vnd.databricks.v1+output": {
       "addedWidgets": {},
       "aggData": [],
       "aggError": "",
       "aggOverflow": false,
       "aggSchema": [],
       "aggSeriesLimitReached": false,
       "aggType": "",
       "arguments": {},
       "columnCustomDisplayInfos": {},
       "data": [
        [
         8,
         "ST03",
         8623
        ],
        [
         15,
         "ST03",
         75800
        ],
        [
         23,
         "ST04",
         105894
        ],
        [
         16,
         "ST03",
         32444
        ],
        [
         20,
         "ST04",
         69823
        ],
        [
         44,
         "ST02",
         16862
        ],
        [
         35,
         "ST04",
         45588
        ],
        [
         41,
         "ST04",
         94004
        ],
        [
         34,
         "ST04",
         28682
        ],
        [
         14,
         "ST03",
         42251
        ],
        [
         33,
         "ST04",
         25523
        ],
        [
         30,
         "ST04",
         59638
        ],
        [
         45,
         "ST04",
         98263
        ],
        [
         47,
         "ST04",
         92485
        ],
        [
         63,
         "ST01",
         42984
        ],
        [
         11,
         "ST03",
         16276
        ],
        [
         31,
         "ST04",
         106382
        ],
        [
         18,
         "ST03",
         15000
        ],
        [
         22,
         "ST04",
         33458
        ],
        [
         17,
         "ST04",
         90073
        ],
        [
         27,
         "ST04",
         71875
        ],
        [
         21,
         "ST04",
         42234
        ],
        [
         83,
         "ST01",
         31948
        ],
        [
         24,
         "ST04",
         94486
        ],
        [
         60,
         "ST01",
         41494
        ],
        [
         19,
         "ST04",
         107445
        ],
        [
         26,
         "ST04",
         33324
        ],
        [
         18,
         "ST04",
         11171
        ],
        [
         42,
         "ST04",
         59547
        ],
        [
         28,
         "ST04",
         22660
        ],
        [
         41,
         "ST02",
         16083
        ],
        [
         25,
         "ST04",
         107848
        ],
        [
         17,
         "ST03",
         24794
        ],
        [
         18,
         "ST02",
         8592
        ],
        [
         29,
         "ST04",
         18079
        ],
        [
         15,
         "ST04",
         13940
        ],
        [
         20,
         "ST03",
         3310
        ],
        [
         40,
         "ST04",
         32806
        ],
        [
         28,
         "ST02",
         14122
        ],
        [
         12,
         "ST03",
         37949
        ],
        [
         16,
         "ST04",
         40988
        ],
        [
         37,
         "ST04",
         30548
        ],
        [
         13,
         "ST03",
         26534
        ],
        [
         39,
         "ST04",
         56335
        ],
        [
         86,
         "ST01",
         29480
        ],
        [
         46,
         "ST04",
         23025
        ],
        [
         32,
         "ST04",
         11093
        ],
        [
         36,
         "ST04",
         29261
        ],
        [
         6,
         "ST03",
         2496
        ]
       ],
       "datasetInfos": [],
       "dbfsResultPath": null,
       "isJsonSchema": true,
       "metadata": {
        "isDbfsCommandResult": false
       },
       "overflow": false,
       "plotOptions": {
        "customPlotOptions": {},
        "displayType": "table",
        "pivotAggregation": null,
        "pivotColumns": null,
        "xColumns": null,
        "yColumns": null
       },
       "removedWidgets": [],
       "schema": [
        {
         "metadata": "{}",
         "name": "store_size",
         "type": "\"integer\""
        },
        {
         "metadata": "{}",
         "name": "storetype_id",
         "type": "\"string\""
        },
        {
         "metadata": "{\"__autoGeneratedAlias\":\"true\"}",
         "name": "count(1)",
         "type": "\"long\""
        }
       ],
       "type": "table"
      }
     },
     "output_type": "display_data"
    },
    {
     "data": {
      "text/plain": [
       "Databricks visualization. Run in Databricks to view."
      ]
     },
     "metadata": {
      "application/vnd.databricks.v1.subcommand+json": {
       "baseErrorDetails": null,
       "bindings": {},
       "collapsed": false,
       "command": "%sql WITH q AS (SELECT \n    store_size,storetype_id,COUNT(1)\nFROM \n    stores_view \nGROUP BY\n     store_size,storetype_id) ,min_max AS (SELECT `store_size`,(SELECT MAX(`store_size`) FROM q) `target_column_max`,(SELECT MIN(`store_size`) FROM q) `target_column_min` FROM q) ,histogram_meta AS (SELECT `store_size`,`target_column_min` `min_value`,IF(`target_column_max` = `target_column_min`,`target_column_max` + 1,`target_column_max`) `max_value`,(`target_column_max` - `target_column_min`) / 10 `step` FROM min_max) SELECT IF(ISNULL(`store_size`),NULL,LEAST(WIDTH_BUCKET(`store_size`,`min_value`,`max_value`,10),10)) `store_size_BIN`,FIRST(`min_value` + ((IF(ISNULL(`store_size`),NULL,LEAST(WIDTH_BUCKET(`store_size`,`min_value`,`max_value`,10),10)) - 1) * `step`)) `store_size_BIN_LOWER_BOUND`,FIRST(`step`) `store_size_BIN_STEP`,COUNT(`store_size`) `COUNT` FROM histogram_meta GROUP BY `store_size_BIN`",
       "commandTitle": "distribution of store size",
       "commandType": "auto",
       "commandVersion": 0,
       "commentThread": [],
       "commentsVisible": false,
       "contentSha256Hex": null,
       "customPlotOptions": {
        "redashChart": [
         {
          "key": "type",
          "value": "CHART"
         },
         {
          "key": "options",
          "value": {
           "alignYAxesAtZero": true,
           "coefficient": 1,
           "columnConfigurationMap": {
            "x": {
             "column": "store_size",
             "id": "column_820e65c7192"
            }
           },
           "dateTimeFormat": "DD/MM/YYYY HH:mm",
           "direction": {
            "type": "counterclockwise"
           },
           "error_y": {
            "type": "data",
            "visible": true
           },
           "globalSeriesType": "histogram",
           "isAggregationOn": true,
           "legend": {
            "traceorder": "normal"
           },
           "missingValuesAsZero": true,
           "numBins": 10,
           "numberFormat": "0,0.[00000]",
           "percentFormat": "0[.]00%",
           "series": {
            "error_y": {
             "type": "data",
             "visible": true
            },
            "stacking": null
           },
           "seriesOptions": {
            "COUNT": {
             "color": "#6B5B51",
             "type": "histogram"
            },
            "column_820e65c7193": {
             "name": "count(1)",
             "type": "histogram",
             "yAxis": 0
            },
            "column_820e65c7246": {
             "type": "histogram",
             "yAxis": 0
            },
            "column_820e65c7255": {
             "type": "histogram",
             "yAxis": 0
            }
           },
           "showDataLabels": false,
           "sizemode": "diameter",
           "sortX": true,
           "sortY": true,
           "swappedAxes": false,
           "textFormat": "",
           "useAggregationsUi": true,
           "valuesOptions": {},
           "version": 2,
           "xAxis": {
            "labels": {
             "enabled": true
            },
            "title": {
             "text": "Store Size"
            },
            "type": "-"
           },
           "yAxis": [
            {
             "type": "-"
            },
            {
             "opposite": true,
             "type": "-"
            }
           ]
          }
         }
        ]
       },
       "datasetPreviewNameToCmdIdMap": {},
       "diffDeletes": [],
       "diffInserts": [],
       "displayType": "redashChart",
       "error": null,
       "errorDetails": null,
       "errorSummary": null,
       "errorTraceType": null,
       "finishTime": 0,
       "globalVars": {},
       "guid": "",
       "height": "auto",
       "hideCommandCode": false,
       "hideCommandResult": false,
       "iPythonMetadata": null,
       "inputWidgets": {},
       "isLockedInExamMode": false,
       "latestUser": "a user",
       "latestUserId": null,
       "listResultMetadata": null,
       "metadata": {
        "byteLimit": 2048000,
        "rowLimit": 10000
       },
       "nuid": "acfc2082-ac06-45e9-93cd-8f7cfe8960e5",
       "origId": 0,
       "parentHierarchy": [],
       "pivotAggregation": null,
       "pivotColumns": null,
       "position": 12.9375,
       "resultDbfsErrorMessage": null,
       "resultDbfsStatus": "INLINED_IN_TREE",
       "results": null,
       "showCommandTitle": false,
       "startTime": 0,
       "state": "finished",
       "streamStates": {},
       "subcommandOptions": {
        "queryPlan": {
         "groups": [
          {
           "column": "store_size_BIN",
           "type": "column"
          }
         ],
         "selects": [
          {
           "alias": "store_size_BIN",
           "args": [
            {
             "column": "store_size",
             "type": "column"
            },
            {
             "number": 10,
             "type": "number"
            }
           ],
           "function": "BIN",
           "type": "function"
          },
          {
           "alias": "store_size_BIN_LOWER_BOUND",
           "args": [
            {
             "column": "store_size",
             "type": "column"
            },
            {
             "number": 10,
             "type": "number"
            }
           ],
           "function": "BIN_LOWER_BOUND",
           "type": "function"
          },
          {
           "alias": "store_size_BIN_STEP",
           "args": [
            {
             "column": "store_size",
             "type": "column"
            },
            {
             "number": 10,
             "type": "number"
            }
           ],
           "function": "BIN_STEP",
           "type": "function"
          },
          {
           "alias": "COUNT",
           "args": [
            {
             "column": "store_size",
             "type": "column"
            }
           ],
           "function": "COUNT",
           "type": "function"
          }
         ]
        }
       },
       "submitTime": 0,
       "subtype": "tableResultSubCmd.visualization",
       "tableResultIndex": 0,
       "tableResultSettingsMap": null,
       "useConsistentColors": false,
       "version": "CommandV1",
       "width": "auto",
       "workflows": [],
       "xColumns": null,
       "yColumns": null
      }
     },
     "output_type": "display_data"
    }
   ],
   "source": [
    "%sql\n",
    "SELECT \n",
    "    store_size,storetype_id,COUNT(1)\n",
    "FROM \n",
    "    stores_view \n",
    "GROUP BY\n",
    "     store_size,storetype_id"
   ]
  },
  {
   "cell_type": "markdown",
   "metadata": {
    "application/vnd.databricks.v1+cell": {
     "cellMetadata": {},
     "inputWidgets": {},
     "nuid": "6f319d09-5cc3-4dbe-b36a-4c788c6a26ea",
     "showTitle": false,
     "title": ""
    }
   },
   "source": [
    "### Stock Level Information"
   ]
  },
  {
   "cell_type": "code",
   "execution_count": null,
   "metadata": {
    "application/vnd.databricks.v1+cell": {
     "cellMetadata": {
      "byteLimit": 2048000,
      "rowLimit": 10000
     },
     "inputWidgets": {},
     "nuid": "c9fa923b-ccb0-4f4f-9dd6-222ca6559e40",
     "showTitle": false,
     "title": ""
    }
   },
   "outputs": [
    {
     "data": {
      "text/html": [
       "<style scoped>\n",
       "  .table-result-container {\n",
       "    max-height: 300px;\n",
       "    overflow: auto;\n",
       "  }\n",
       "  table, th, td {\n",
       "    border: 1px solid black;\n",
       "    border-collapse: collapse;\n",
       "  }\n",
       "  th, td {\n",
       "    padding: 5px;\n",
       "  }\n",
       "  th {\n",
       "    text-align: left;\n",
       "  }\n",
       "</style><div class='table-result-container'><table class='table-result'><thead style='background-color: white'><tr><th>cluster_id</th><th>storetype_id</th><th>total_stock</th></tr></thead><tbody><tr><td>cluster_0</td><td>ST04</td><td>106340.192</td></tr><tr><td>cluster_5</td><td>ST01</td><td>8110.0</td></tr><tr><td>cluster_5</td><td>ST03</td><td>1915.0</td></tr><tr><td>cluster_9</td><td>ST02</td><td>158.0</td></tr><tr><td>cluster_8</td><td>ST04</td><td>2896.0</td></tr><tr><td>cluster_5</td><td>ST02</td><td>433.0</td></tr><tr><td>cluster_1</td><td>ST03</td><td>15403.0</td></tr><tr><td>cluster_0</td><td>ST02</td><td>2576.0</td></tr><tr><td>cluster_0</td><td>ST01</td><td>18541.988</td></tr><tr><td>cluster_1</td><td>ST04</td><td>15514.0</td></tr><tr><td>cluster_9</td><td>ST04</td><td>34908.0</td></tr><tr><td>cluster_2</td><td>ST04</td><td>3870.0</td></tr><tr><td>cluster_5</td><td>ST04</td><td>36854.0</td></tr><tr><td>cluster_3</td><td>ST03</td><td>12.0</td></tr><tr><td>cluster_8</td><td>ST02</td><td>67.0</td></tr><tr><td>cluster_3</td><td>ST04</td><td>582.0</td></tr><tr><td>cluster_9</td><td>ST03</td><td>2132.0</td></tr><tr><td>cluster_3</td><td>ST01</td><td>496.0</td></tr><tr><td>cluster_6</td><td>ST04</td><td>120040.0</td></tr><tr><td>cluster_4</td><td>ST04</td><td>46275.0</td></tr><tr><td>cluster_6</td><td>ST01</td><td>17939.0</td></tr><tr><td>cluster_4</td><td>ST03</td><td>771.0</td></tr><tr><td>cluster_4</td><td>ST01</td><td>9471.0</td></tr><tr><td>cluster_2</td><td>ST02</td><td>88.0</td></tr><tr><td>cluster_8</td><td>ST01</td><td>631.0</td></tr><tr><td>cluster_6</td><td>ST03</td><td>10074.0</td></tr><tr><td>cluster_3</td><td>ST02</td><td>16.0</td></tr><tr><td>cluster_4</td><td>ST02</td><td>3209.0</td></tr><tr><td>cluster_7</td><td>ST04</td><td>188896.0</td></tr><tr><td>cluster_0</td><td>ST03</td><td>14156.0</td></tr><tr><td>cluster_9</td><td>ST01</td><td>4772.0</td></tr><tr><td>cluster_1</td><td>ST01</td><td>2635.0</td></tr><tr><td>cluster_7</td><td>ST01</td><td>38061.0</td></tr><tr><td>cluster_2</td><td>ST01</td><td>753.0</td></tr><tr><td>cluster_6</td><td>ST02</td><td>1275.0</td></tr><tr><td>cluster_1</td><td>ST02</td><td>36.0</td></tr><tr><td>cluster_7</td><td>ST03</td><td>63541.0</td></tr><tr><td>cluster_7</td><td>ST02</td><td>2162.0</td></tr><tr><td>cluster_2</td><td>ST03</td><td>32.0</td></tr></tbody></table></div>"
      ]
     },
     "metadata": {
      "application/vnd.databricks.v1+output": {
       "addedWidgets": {},
       "aggData": [],
       "aggError": "",
       "aggOverflow": false,
       "aggSchema": [],
       "aggSeriesLimitReached": false,
       "aggType": "",
       "arguments": {},
       "columnCustomDisplayInfos": {},
       "data": [
        [
         "cluster_0",
         "ST04",
         106340.192
        ],
        [
         "cluster_5",
         "ST01",
         8110
        ],
        [
         "cluster_5",
         "ST03",
         1915
        ],
        [
         "cluster_9",
         "ST02",
         158
        ],
        [
         "cluster_8",
         "ST04",
         2896
        ],
        [
         "cluster_5",
         "ST02",
         433
        ],
        [
         "cluster_1",
         "ST03",
         15403
        ],
        [
         "cluster_0",
         "ST02",
         2576
        ],
        [
         "cluster_0",
         "ST01",
         18541.988
        ],
        [
         "cluster_1",
         "ST04",
         15514
        ],
        [
         "cluster_9",
         "ST04",
         34908
        ],
        [
         "cluster_2",
         "ST04",
         3870
        ],
        [
         "cluster_5",
         "ST04",
         36854
        ],
        [
         "cluster_3",
         "ST03",
         12
        ],
        [
         "cluster_8",
         "ST02",
         67
        ],
        [
         "cluster_3",
         "ST04",
         582
        ],
        [
         "cluster_9",
         "ST03",
         2132
        ],
        [
         "cluster_3",
         "ST01",
         496
        ],
        [
         "cluster_6",
         "ST04",
         120040
        ],
        [
         "cluster_4",
         "ST04",
         46275
        ],
        [
         "cluster_6",
         "ST01",
         17939
        ],
        [
         "cluster_4",
         "ST03",
         771
        ],
        [
         "cluster_4",
         "ST01",
         9471
        ],
        [
         "cluster_2",
         "ST02",
         88
        ],
        [
         "cluster_8",
         "ST01",
         631
        ],
        [
         "cluster_6",
         "ST03",
         10074
        ],
        [
         "cluster_3",
         "ST02",
         16
        ],
        [
         "cluster_4",
         "ST02",
         3209
        ],
        [
         "cluster_7",
         "ST04",
         188896
        ],
        [
         "cluster_0",
         "ST03",
         14156
        ],
        [
         "cluster_9",
         "ST01",
         4772
        ],
        [
         "cluster_1",
         "ST01",
         2635
        ],
        [
         "cluster_7",
         "ST01",
         38061
        ],
        [
         "cluster_2",
         "ST01",
         753
        ],
        [
         "cluster_6",
         "ST02",
         1275
        ],
        [
         "cluster_1",
         "ST02",
         36
        ],
        [
         "cluster_7",
         "ST03",
         63541
        ],
        [
         "cluster_7",
         "ST02",
         2162
        ],
        [
         "cluster_2",
         "ST03",
         32
        ]
       ],
       "datasetInfos": [],
       "dbfsResultPath": null,
       "isJsonSchema": true,
       "metadata": {
        "isDbfsCommandResult": false
       },
       "overflow": false,
       "plotOptions": {
        "customPlotOptions": {},
        "displayType": "table",
        "pivotAggregation": null,
        "pivotColumns": null,
        "xColumns": null,
        "yColumns": null
       },
       "removedWidgets": [],
       "schema": [
        {
         "metadata": "{}",
         "name": "cluster_id",
         "type": "\"string\""
        },
        {
         "metadata": "{}",
         "name": "storetype_id",
         "type": "\"string\""
        },
        {
         "metadata": "{}",
         "name": "total_stock",
         "type": "\"double\""
        }
       ],
       "type": "table"
      }
     },
     "output_type": "display_data"
    },
    {
     "data": {
      "text/plain": [
       "Databricks visualization. Run in Databricks to view."
      ]
     },
     "metadata": {
      "application/vnd.databricks.v1.subcommand+json": {
       "baseErrorDetails": null,
       "bindings": {},
       "collapsed": false,
       "command": "%sql WITH q AS (SELECT \n    cluster_id,\n    storetype_id,\n    SUM(sales) AS total_stock\nFROM \n    overview\nGROUP BY cluster_id,storetype_id) SELECT `cluster_id`,`storetype_id`,SUM(`total_stock`) `column_820e65c7224` FROM q GROUP BY `cluster_id`,`storetype_id`",
       "commandTitle": "Visualization 1",
       "commandType": "auto",
       "commandVersion": 0,
       "commentThread": [],
       "commentsVisible": false,
       "contentSha256Hex": null,
       "customPlotOptions": {
        "redashChart": [
         {
          "key": "type",
          "value": "CHART"
         },
         {
          "key": "options",
          "value": {
           "alignYAxesAtZero": true,
           "coefficient": 1,
           "colorScheme": "Custom...",
           "columnConfigurationMap": {
            "x": {
             "column": "cluster_id",
             "id": "column_820e65c7219"
            },
            "y": [
             {
              "column": "storetype_id",
              "id": "column_820e65c7226"
             }
            ],
            "zVal": {
             "column": "total_stock",
             "id": "column_820e65c7224",
             "transform": "SUM"
            }
           },
           "dateTimeFormat": "DD/MM/YYYY HH:mm",
           "direction": {
            "type": "counterclockwise"
           },
           "error_y": {
            "type": "data",
            "visible": true
           },
           "globalSeriesType": "heatmap",
           "heatMaxColor": "#654B38",
           "heatMinColor": "#EEECDA",
           "isAggregationOn": true,
           "legend": {
            "title": "Total Sales",
            "traceorder": "normal"
           },
           "missingValuesAsZero": true,
           "numberFormat": "0,0.0",
           "percentFormat": "0[.]00%",
           "series": {
            "error_y": {
             "type": "data",
             "visible": true
            },
            "stacking": null
           },
           "seriesOptions": {
            "column_820e65c7221": {
             "name": "total_sales",
             "type": "heatmap",
             "yAxis": 0
            },
            "column_820e65c7226": {
             "type": "heatmap",
             "yAxis": 0
            }
           },
           "showDataLabels": true,
           "sizemode": "diameter",
           "sortX": true,
           "sortY": true,
           "swappedAxes": false,
           "textFormat": "",
           "useAggregationsUi": true,
           "valuesOptions": {},
           "version": 2,
           "xAxis": {
            "labels": {
             "enabled": true
            },
            "title": {
             "text": "Cluster"
            },
            "type": "-"
           },
           "yAxis": [
            {
             "title": {
              "text": "Store Type"
             },
             "type": "-"
            },
            {
             "opposite": true,
             "type": "-"
            }
           ]
          }
         }
        ]
       },
       "datasetPreviewNameToCmdIdMap": {},
       "diffDeletes": [],
       "diffInserts": [],
       "displayType": "redashChart",
       "error": null,
       "errorDetails": null,
       "errorSummary": null,
       "errorTraceType": null,
       "finishTime": 0,
       "globalVars": {},
       "guid": "",
       "height": "auto",
       "hideCommandCode": false,
       "hideCommandResult": false,
       "iPythonMetadata": null,
       "inputWidgets": {},
       "isLockedInExamMode": false,
       "latestUser": "a user",
       "latestUserId": null,
       "listResultMetadata": null,
       "metadata": {
        "byteLimit": 2048000,
        "rowLimit": 10000
       },
       "nuid": "5add2ac7-1a4b-4a02-be59-6266ce1ce363",
       "origId": 0,
       "parentHierarchy": [],
       "pivotAggregation": null,
       "pivotColumns": null,
       "position": 14.9375,
       "resultDbfsErrorMessage": null,
       "resultDbfsStatus": "INLINED_IN_TREE",
       "results": null,
       "showCommandTitle": false,
       "startTime": 0,
       "state": "finished",
       "streamStates": {},
       "subcommandOptions": {
        "queryPlan": {
         "groups": [
          {
           "column": "cluster_id",
           "type": "column"
          },
          {
           "column": "storetype_id",
           "type": "column"
          }
         ],
         "selects": [
          {
           "column": "cluster_id",
           "type": "column"
          },
          {
           "column": "storetype_id",
           "type": "column"
          },
          {
           "alias": "column_820e65c7224",
           "args": [
            {
             "column": "total_stock",
             "type": "column"
            }
           ],
           "function": "SUM",
           "type": "function"
          }
         ]
        }
       },
       "submitTime": 0,
       "subtype": "tableResultSubCmd.visualization",
       "tableResultIndex": 0,
       "tableResultSettingsMap": null,
       "useConsistentColors": false,
       "version": "CommandV1",
       "width": "auto",
       "workflows": [],
       "xColumns": null,
       "yColumns": null
      }
     },
     "output_type": "display_data"
    }
   ],
   "source": [
    "%sql\n",
    "SELECT \n",
    "    cluster_id,\n",
    "    storetype_id,\n",
    "    SUM(sales) AS total_stock\n",
    "FROM \n",
    "    overview\n",
    "GROUP BY cluster_id,storetype_id\n"
   ]
  },
  {
   "cell_type": "markdown",
   "metadata": {
    "application/vnd.databricks.v1+cell": {
     "cellMetadata": {},
     "inputWidgets": {},
     "nuid": "8404661b-e36d-49fd-9c35-d46320189da1",
     "showTitle": false,
     "title": ""
    }
   },
   "source": [
    "### Volume of Product sold and Store Area"
   ]
  },
  {
   "cell_type": "code",
   "execution_count": null,
   "metadata": {
    "application/vnd.databricks.v1+cell": {
     "cellMetadata": {
      "byteLimit": 2048000,
      "rowLimit": 10000
     },
     "inputWidgets": {},
     "nuid": "8df66bcf-60e0-406d-b62c-2b1ae9d77d04",
     "showTitle": false,
     "title": ""
    }
   },
   "outputs": [],
   "source": [
    "%sql\n",
    "SELECT \n",
    "    store_size,\n",
    "    (product_length * product_depth * product_width) AS volume,\n",
    "    SUM(sales) AS total_sales\n",
    "FROM \n",
    "    overview\n",
    "GROUP BY \n",
    "    store_size, volume"
   ]
  },
  {
   "cell_type": "markdown",
   "metadata": {
    "application/vnd.databricks.v1+cell": {
     "cellMetadata": {},
     "inputWidgets": {},
     "nuid": "7f3900fe-944b-420f-a243-3c45c75c87b7",
     "showTitle": false,
     "title": ""
    }
   },
   "source": [
    "### Sales and Store Type"
   ]
  },
  {
   "cell_type": "code",
   "execution_count": null,
   "metadata": {
    "application/vnd.databricks.v1+cell": {
     "cellMetadata": {
      "byteLimit": 2048000,
      "rowLimit": 10000
     },
     "inputWidgets": {},
     "nuid": "11b9de19-5b86-481a-b8f0-3c915a13ff3b",
     "showTitle": false,
     "title": ""
    }
   },
   "outputs": [
    {
     "data": {
      "text/html": [
       "<style scoped>\n",
       "  .table-result-container {\n",
       "    max-height: 300px;\n",
       "    overflow: auto;\n",
       "  }\n",
       "  table, th, td {\n",
       "    border: 1px solid black;\n",
       "    border-collapse: collapse;\n",
       "  }\n",
       "  th, td {\n",
       "    padding: 5px;\n",
       "  }\n",
       "  th {\n",
       "    text-align: left;\n",
       "  }\n",
       "</style><div class='table-result-container'><table class='table-result'><thead style='background-color: white'><tr><th>storetype_id</th><th>total_sales</th></tr></thead><tbody><tr><td>ST04</td><td>556175.192</td></tr><tr><td>ST03</td><td>108036.0</td></tr><tr><td>ST01</td><td>101409.98799999998</td></tr><tr><td>ST02</td><td>10020.0</td></tr></tbody></table></div>"
      ]
     },
     "metadata": {
      "application/vnd.databricks.v1+output": {
       "addedWidgets": {},
       "aggData": [],
       "aggError": "",
       "aggOverflow": false,
       "aggSchema": [],
       "aggSeriesLimitReached": false,
       "aggType": "",
       "arguments": {},
       "columnCustomDisplayInfos": {},
       "data": [
        [
         "ST04",
         556175.192
        ],
        [
         "ST03",
         108036
        ],
        [
         "ST01",
         101409.98799999998
        ],
        [
         "ST02",
         10020
        ]
       ],
       "datasetInfos": [],
       "dbfsResultPath": null,
       "isJsonSchema": true,
       "metadata": {
        "isDbfsCommandResult": false
       },
       "overflow": false,
       "plotOptions": {
        "customPlotOptions": {},
        "displayType": "table",
        "pivotAggregation": null,
        "pivotColumns": null,
        "xColumns": null,
        "yColumns": null
       },
       "removedWidgets": [],
       "schema": [
        {
         "metadata": "{}",
         "name": "storetype_id",
         "type": "\"string\""
        },
        {
         "metadata": "{}",
         "name": "total_sales",
         "type": "\"double\""
        }
       ],
       "type": "table"
      }
     },
     "output_type": "display_data"
    },
    {
     "data": {
      "text/plain": [
       "Databricks visualization. Run in Databricks to view."
      ]
     },
     "metadata": {
      "application/vnd.databricks.v1.subcommand+json": {
       "baseErrorDetails": null,
       "bindings": {},
       "collapsed": false,
       "command": "%sql WITH q AS (SELECT \n    storetype_id,\n    SUM(sales) AS total_sales\nFROM \n    overview\nGROUP BY \n    storetype_id\nORDER BY \n    total_sales DESC) SELECT `storetype_id`,SUM(`total_sales`) `column_820e65c7313` FROM q GROUP BY `storetype_id`",
       "commandTitle": "Visualization 1",
       "commandType": "auto",
       "commandVersion": 0,
       "commentThread": [],
       "commentsVisible": false,
       "contentSha256Hex": null,
       "customPlotOptions": {
        "redashChart": [
         {
          "key": "type",
          "value": "CHART"
         },
         {
          "key": "options",
          "value": {
           "alignYAxesAtZero": true,
           "coefficient": 1,
           "columnConfigurationMap": {
            "x": {
             "column": "storetype_id",
             "id": "column_820e65c7312"
            },
            "y": [
             {
              "column": "total_sales",
              "id": "column_820e65c7313",
              "transform": "SUM"
             }
            ]
           },
           "dateTimeFormat": "DD/MM/YYYY HH:mm",
           "direction": {
            "type": "counterclockwise"
           },
           "error_y": {
            "type": "data",
            "visible": true
           },
           "globalSeriesType": "pie",
           "isAggregationOn": true,
           "legend": {
            "traceorder": "normal"
           },
           "missingValuesAsZero": true,
           "numberFormat": "0,0.[00000]",
           "percentFormat": "0[.]00%",
           "series": {
            "error_y": {
             "type": "data",
             "visible": true
            },
            "stacking": null
           },
           "seriesOptions": {
            "column_820e65c7313": {
             "name": " ",
             "type": "pie",
             "yAxis": 0
            }
           },
           "showDataLabels": true,
           "sizemode": "diameter",
           "sortX": true,
           "sortY": true,
           "swappedAxes": false,
           "textFormat": "",
           "useAggregationsUi": true,
           "valuesOptions": {
            "ST01": {
             "color": "#A89D92"
            },
            "ST02": {
             "color": "#F9F0EA"
            },
            "ST03": {
             "color": "#9E8472"
            },
            "ST04": {
             "color": "#4C392D"
            }
           },
           "version": 2,
           "xAxis": {
            "labels": {
             "enabled": true
            },
            "type": "-"
           },
           "yAxis": [
            {
             "type": "-"
            },
            {
             "opposite": true,
             "type": "-"
            }
           ]
          }
         }
        ]
       },
       "datasetPreviewNameToCmdIdMap": {},
       "diffDeletes": [],
       "diffInserts": [],
       "displayType": "redashChart",
       "error": null,
       "errorDetails": null,
       "errorSummary": null,
       "errorTraceType": null,
       "finishTime": 0,
       "globalVars": {},
       "guid": "",
       "height": "auto",
       "hideCommandCode": false,
       "hideCommandResult": false,
       "iPythonMetadata": null,
       "inputWidgets": {},
       "isLockedInExamMode": false,
       "latestUser": "a user",
       "latestUserId": null,
       "listResultMetadata": null,
       "metadata": {
        "byteLimit": 2048000,
        "rowLimit": 10000
       },
       "nuid": "8edade1d-45cf-4046-9795-e39653d9e146",
       "origId": 0,
       "parentHierarchy": [],
       "pivotAggregation": null,
       "pivotColumns": null,
       "position": 16.9375,
       "resultDbfsErrorMessage": null,
       "resultDbfsStatus": "INLINED_IN_TREE",
       "results": null,
       "showCommandTitle": false,
       "startTime": 0,
       "state": "finished",
       "streamStates": {},
       "subcommandOptions": {
        "queryPlan": {
         "groups": [
          {
           "column": "storetype_id",
           "type": "column"
          }
         ],
         "selects": [
          {
           "column": "storetype_id",
           "type": "column"
          },
          {
           "alias": "column_820e65c7313",
           "args": [
            {
             "column": "total_sales",
             "type": "column"
            }
           ],
           "function": "SUM",
           "type": "function"
          }
         ]
        }
       },
       "submitTime": 0,
       "subtype": "tableResultSubCmd.visualization",
       "tableResultIndex": 0,
       "tableResultSettingsMap": null,
       "useConsistentColors": false,
       "version": "CommandV1",
       "width": "auto",
       "workflows": [],
       "xColumns": null,
       "yColumns": null
      }
     },
     "output_type": "display_data"
    }
   ],
   "source": [
    "%sql\n",
    "SELECT \n",
    "    storetype_id,\n",
    "    SUM(sales) AS total_sales\n",
    "FROM \n",
    "    overview\n",
    "GROUP BY \n",
    "    storetype_id\n",
    "ORDER BY \n",
    "    total_sales DESC;\n"
   ]
  },
  {
   "cell_type": "markdown",
   "metadata": {
    "application/vnd.databricks.v1+cell": {
     "cellMetadata": {},
     "inputWidgets": {},
     "nuid": "91562b39-cc91-471a-bad2-087e699d96ac",
     "showTitle": false,
     "title": ""
    }
   },
   "source": [
    "### Sales And Stock "
   ]
  },
  {
   "cell_type": "code",
   "execution_count": null,
   "metadata": {
    "application/vnd.databricks.v1+cell": {
     "cellMetadata": {
      "byteLimit": 2048000,
      "rowLimit": 10000
     },
     "inputWidgets": {},
     "nuid": "065f9e63-df71-49e2-8f17-e17453e3daf3",
     "showTitle": false,
     "title": ""
    }
   },
   "outputs": [],
   "source": [
    "%sql\n",
    "SELECT \n",
    "    date,\n",
    "    AVG(sales) AS total_sales,\n",
    "    AVG(stock) AS average_stock\n",
    "FROM \n",
    "    sales_view\n",
    "GROUP BY \n",
    "    date\n",
    "ORDER BY \n",
    "    date\n"
   ]
  }
 ],
 "metadata": {
  "application/vnd.databricks.v1+notebook": {
   "dashboards": [
    {
     "elements": [
      {
       "dashboardResultIndex": null,
       "elementNUID": "e4d84986-b975-435a-a7d4-8cbf5290e560",
       "elementType": "command",
       "guid": "1bf49c11-480f-4937-9f2b-51677876bf1e",
       "options": {
        "autoScaleImg": false,
        "scale": 0,
        "showTitle": true,
        "title": "Stock Level and Sales",
        "titleAlign": "center"
       },
       "position": {
        "height": 5,
        "width": 6,
        "x": 10,
        "y": 10,
        "z": null
       },
       "resultIndex": null
      },
      {
       "dashboardResultIndex": null,
       "elementNUID": "4b9a849b-760a-498b-83a9-48f202218433",
       "elementType": "command",
       "guid": "27d61e51-2923-46fa-b9bc-79894f40dec2",
       "options": null,
       "position": {
        "height": 2,
        "width": 3,
        "x": 4,
        "y": 0,
        "z": null
       },
       "resultIndex": null
      },
      {
       "dashboardResultIndex": null,
       "elementNUID": "4f597bc0-5b1c-44a9-baf3-875a1b1fdb67",
       "elementType": "command",
       "guid": "2966c7b0-8144-4116-a16e-856fb61c8d84",
       "options": {
        "autoScaleImg": false,
        "scale": 0,
        "showTitle": true,
        "title": "Volume  of Product by Store size",
        "titleAlign": "center"
       },
       "position": {
        "height": 4,
        "width": 7,
        "x": 4,
        "y": 6,
        "z": null
       },
       "resultIndex": null
      },
      {
       "dashboardResultIndex": null,
       "elementNUID": "acfc2082-ac06-45e9-93cd-8f7cfe8960e5",
       "elementType": "command",
       "guid": "2a966f0f-a47a-45d5-8539-600081840cbc",
       "options": {
        "autoScaleImg": false,
        "scale": 0,
        "showTitle": false,
        "titleAlign": "center"
       },
       "position": {
        "height": 3,
        "width": 4,
        "x": 0,
        "y": 4,
        "z": null
       },
       "resultIndex": null
      },
      {
       "dashboardResultIndex": null,
       "elementNUID": "5add2ac7-1a4b-4a02-be59-6266ce1ce363",
       "elementType": "command",
       "guid": "3676a0f6-62de-4ea9-b5f9-68b52a7e5b95",
       "options": {
        "autoScaleImg": false,
        "scale": 0,
        "showTitle": true,
        "title": "Stock Level",
        "titleAlign": "center"
       },
       "position": {
        "height": 5,
        "width": 8,
        "x": 16,
        "y": 10,
        "z": null
       },
       "resultIndex": null
      },
      {
       "dashboardResultIndex": null,
       "elementNUID": "554d7a72-4b08-4fdd-8385-2326925c33d4",
       "elementType": "command",
       "guid": "76c8fd8c-cda6-4e6c-9ebc-282fdc97043a",
       "options": {
        "autoScaleImg": false,
        "scale": 0,
        "showTitle": false,
        "title": "Daily Revenue Performance",
        "titleAlign": "center"
       },
       "position": {
        "height": 2,
        "width": 3,
        "x": 15,
        "y": 0,
        "z": null
       },
       "resultIndex": null
      },
      {
       "dashboardResultIndex": null,
       "elementNUID": "c738a2bb-1113-403c-93ac-41f010a0e462",
       "elementType": "command",
       "guid": "8f55d9da-43c1-43af-a326-827b680fda34",
       "options": {
        "autoScaleImg": false,
        "scale": 0,
        "showTitle": true,
        "title": "Stores in top cities",
        "titleAlign": "center"
       },
       "position": {
        "height": 5,
        "width": 6,
        "x": 4,
        "y": 10,
        "z": null
       },
       "resultIndex": null
      },
      {
       "dashboardResultIndex": null,
       "elementNUID": "905f572d-ce97-4027-ba54-bde3bea728c6",
       "elementType": "command",
       "guid": "949e37f1-c821-4f6d-b269-a9c67a2842c6",
       "options": {
        "autoScaleImg": false,
        "scale": 0,
        "showTitle": true,
        "title": "Business Growth Timeline",
        "titleAlign": "center"
       },
       "position": {
        "height": 4,
        "width": 5,
        "x": 4,
        "y": 2,
        "z": null
       },
       "resultIndex": null
      },
      {
       "dashboardResultIndex": null,
       "elementNUID": "e1561b7a-2343-4bbf-8798-1677ae42f1f6",
       "elementType": "command",
       "guid": "9b1a6911-f6b3-43d9-bd7b-2a4e287f439b",
       "options": {
        "autoScaleImg": false,
        "scale": 0,
        "showRunButton": false,
        "showTitle": true,
        "title": "Top Sellers",
        "titleAlign": "center"
       },
       "position": {
        "height": 4,
        "width": 6,
        "x": 18,
        "y": 6,
        "z": null
       },
       "resultIndex": null
      },
      {
       "dashboardResultIndex": null,
       "elementNUID": "16a73035-d9fc-4d6d-b782-c850fc5e8625",
       "elementType": "command",
       "guid": "a1d85ff1-0723-4629-a81a-ecf0d3a8b85c",
       "options": null,
       "position": {
        "height": 4,
        "width": 5,
        "x": 13,
        "y": 2,
        "z": null
       },
       "resultIndex": null
      },
      {
       "dashboardResultIndex": null,
       "elementNUID": "8ce5ad22-63dc-4566-8c97-d57765f6019f",
       "elementType": "command",
       "guid": "a22d5229-e670-4493-8aa2-6bcac1a0c558",
       "options": null,
       "position": {
        "height": 2,
        "width": 3,
        "x": 12,
        "y": 0,
        "z": null
       },
       "resultIndex": null
      },
      {
       "dashboardResultIndex": null,
       "elementNUID": "554e10dd-fb5a-4a4b-81c6-a14e04b6b21b",
       "elementType": "command",
       "guid": "a4b740cb-87d0-466d-9bde-fbbd2aef1f91",
       "options": {
        "autoScaleImg": false,
        "scale": 0,
        "showTitle": true,
        "title": "Top Products",
        "titleAlign": "center"
       },
       "position": {
        "height": 4,
        "width": 4,
        "x": 0,
        "y": 0,
        "z": null
       },
       "resultIndex": null
      },
      {
       "dashboardResultIndex": null,
       "elementNUID": "de33a0d6-eed0-47f4-9408-a0da970024cc",
       "elementType": "command",
       "guid": "ac506904-f1f1-4d93-9ce7-6044c27de114",
       "options": {
        "autoScaleImg": false,
        "scale": 0,
        "showTitle": false,
        "titleAlign": "center"
       },
       "position": {
        "height": 2,
        "width": 2,
        "x": 7,
        "y": 0,
        "z": null
       },
       "resultIndex": null
      },
      {
       "dashboardResultIndex": null,
       "elementNUID": "cac0e310-56b7-40e1-a563-ce17ab20d1a9",
       "elementType": "command",
       "guid": "ba13ca43-4641-4f26-8932-7673e618119e",
       "options": {
        "autoScaleImg": false,
        "scale": 0,
        "showTitle": true,
        "title": "Sales by Promo Type",
        "titleAlign": "center"
       },
       "position": {
        "height": 5,
        "width": 4,
        "x": 0,
        "y": 10,
        "z": null
       },
       "resultIndex": null
      },
      {
       "dashboardResultIndex": null,
       "elementNUID": "8edade1d-45cf-4046-9795-e39653d9e146",
       "elementType": "command",
       "guid": "c1b54f8d-fc98-49dd-bf8a-91a3968e95ba",
       "options": {
        "autoScaleImg": false,
        "scale": 0,
        "showTitle": true,
        "title": "Sales by Store Type",
        "titleAlign": "center"
       },
       "position": {
        "height": 3,
        "width": 4,
        "x": 0,
        "y": 7,
        "z": null
       },
       "resultIndex": null
      },
      {
       "dashboardResultIndex": null,
       "elementNUID": "044b4fac-ad16-4036-afc0-a234b1dfd78d",
       "elementType": "command",
       "guid": "c3e0fa08-813c-402a-9f3c-1a0ea1d0412e",
       "options": null,
       "position": {
        "height": 6,
        "width": 6,
        "x": 18,
        "y": 0,
        "z": null
       },
       "resultIndex": null
      },
      {
       "dashboardResultIndex": null,
       "elementNUID": "5c040b9c-8d60-4753-8a33-0bb8668b1bbc",
       "elementType": "command",
       "guid": "d97fd07a-2663-4b9c-a144-be93f5a4b475",
       "options": {
        "autoScaleImg": false,
        "scale": 0,
        "showTitle": true,
        "title": "Yearly Sales",
        "titleAlign": "center"
       },
       "position": {
        "height": 4,
        "width": 7,
        "x": 11,
        "y": 6,
        "z": null
       },
       "resultIndex": null
      },
      {
       "dashboardResultIndex": null,
       "elementNUID": "72999cf3-6733-4693-8aca-bb8001070099",
       "elementType": "command",
       "guid": "dac9f625-c4e4-473f-bec6-0f6c19f1425f",
       "options": null,
       "position": {
        "height": 4,
        "width": 4,
        "x": 9,
        "y": 2,
        "z": null
       },
       "resultIndex": null
      }
     ],
     "globalVars": {},
     "guid": "",
     "layoutOption": {
      "grid": true,
      "stack": true
     },
     "nuid": "ac76eadb-e39a-43be-8b47-f535d7d04257",
     "origId": 2927556791647173,
     "title": "Retail Sales and Inventory Management",
     "version": "DashboardViewV1",
     "width": 1920
    }
   ],
   "environmentMetadata": null,
   "language": "python",
   "notebookMetadata": {
    "mostRecentlyExecutedCommandWithImplicitDF": {
     "commandId": -1,
     "dataframes": [
      "_sqldf"
     ]
    },
    "pythonIndentUnit": 4
   },
   "notebookName": "Capstone Visualiazation",
   "widgets": {}
  },
  "language_info": {
   "name": "python"
  }
 },
 "nbformat": 4,
 "nbformat_minor": 0
}
