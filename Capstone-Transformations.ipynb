{
 "cells": [
  {
   "cell_type": "code",
   "execution_count": null,
   "metadata": {
    "application/vnd.databricks.v1+cell": {
     "cellMetadata": {
      "byteLimit": 2048000,
      "rowLimit": 10000
     },
     "inputWidgets": {},
     "nuid": "fc7d52bd-5c73-4054-9a37-dcabb1267e3e",
     "showTitle": false,
     "title": ""
    }
   },
   "outputs": [],
   "source": [
    "from pyspark.storagelevel import StorageLevel\n",
    "from pyspark.sql.functions import *\n",
    "from pyspark.sql.types import *"
   ]
  },
  {
   "cell_type": "markdown",
   "metadata": {
    "application/vnd.databricks.v1+cell": {
     "cellMetadata": {
      "byteLimit": 2048000,
      "rowLimit": 10000
     },
     "inputWidgets": {},
     "nuid": "22d14cdd-72e2-496b-83eb-89d6e8b5bee5",
     "showTitle": false,
     "title": ""
    }
   },
   "source": [
    "### Reading the Sales data from cosmos landing zone."
   ]
  },
  {
   "cell_type": "code",
   "execution_count": null,
   "metadata": {
    "application/vnd.databricks.v1+cell": {
     "cellMetadata": {
      "byteLimit": 2048000,
      "rowLimit": 10000
     },
     "inputWidgets": {},
     "nuid": "086bea64-0e1b-4126-b8d7-c0286d38a5c9",
     "showTitle": false,
     "title": ""
    }
   },
   "outputs": [
    {
     "name": "stdout",
     "output_type": "stream",
     "text": [
      "+-----+--------+-----+------------+--------------------+-------------+-----+-------+----------+\n",
      "|stock|store_id|price|promo_type_1|                  id|         date|sales|revenue|product_id|\n",
      "+-----+--------+-----+------------+--------------------+-------------+-----+-------+----------+\n",
      "|  3.0|   S0020| 33.9|        PR14|5546b31e-e931-48c...|1483315200000|  0.0|    0.0|     P0005|\n",
      "|  5.0|   S0050| 33.9|        PR14|51b90b77-3e5b-44c...|1483315200000|  0.0|    0.0|     P0005|\n",
      "|  5.0|   S0050| 6.25|        PR14|b73ba1a1-aec5-42d...|1483315200000|  0.0|    0.0|     P0001|\n",
      "|  4.0|   S0102| 33.9|        PR14|50944570-f72c-412...|1483315200000|  0.0|    0.0|     P0005|\n",
      "|  7.0|   S0102| 6.25|        PR14|d0e233f8-281a-421...|1483315200000|  0.0|    0.0|     P0001|\n",
      "|  5.0|   S0050|  2.6|        PR14|bd4f4b5f-818a-470...|1483315200000|  0.0|    0.0|     P0015|\n",
      "| 45.0|   S0020| 1.95|        PR14|8c478eb0-e80a-4da...|1483315200000|  0.0|    0.0|     P0024|\n",
      "|  5.0|   S0086| 2.45|        PR14|50fd25c2-fcbe-4b7...|1483315200000|  0.0|    0.0|     P0035|\n",
      "|  3.0|   S0119| 2.45|        PR14|d3f0db81-d4e3-4b5...|1483315200000|  0.0|    0.0|     P0035|\n",
      "| 10.0|   S0135| 2.45|        PR14|9b1822ef-8b28-469...|1483315200000|  1.0|   2.27|     P0035|\n",
      "|  6.0|   S0141| 2.45|        PR14|b5575254-74ca-4b1...|1483315200000|  0.0|    0.0|     P0035|\n",
      "|  3.0|   S0020| 34.5|        PR14|73c0a114-3458-4c7...|1483315200000|  0.0|    0.0|     P0046|\n",
      "|  4.0|   S0022| 34.5|        PR14|2e9df749-2f15-487...|1483315200000|  0.0|    0.0|     P0046|\n",
      "|  5.0|   S0050| 34.5|        PR14|fad25e2a-ea10-47a...|1483315200000|  0.0|    0.0|     P0046|\n",
      "|  7.0|   S0102| 34.5|        PR14|c52e81c4-f546-4e0...|1483315200000|  0.0|    0.0|     P0046|\n",
      "| 21.0|   S0050| 5.95|        PR05|28e7a851-8427-4d4...|1483315200000|  0.0|    0.0|     P0050|\n",
      "|148.0|   S0020|  0.7|        PR14|32385ca3-5c51-4e0...|1483315200000| 10.0|   6.48|     P0051|\n",
      "|  5.0|   S0022|  0.7|        PR14|fb14a88d-690d-4dd...|1483315200000|  0.0|    0.0|     P0051|\n",
      "|  4.0|   S0050|  0.7|        PR14|18a76334-a7e5-4dd...|1483315200000|  0.0|    0.0|     P0051|\n",
      "| 52.0|   S0068|  0.7|        PR14|c7a83057-2f8e-4c8...|1483315200000|  0.0|    0.0|     P0051|\n",
      "+-----+--------+-----+------------+--------------------+-------------+-----+-------+----------+\n",
      "only showing top 20 rows\n",
      "\n"
     ]
    }
   ],
   "source": [
    "df = spark.read.format(\"cosmos.oltp\") \\\n",
    "    .option(\"spark.cosmos.accountEndpoint\", \"<accountURL>\") \\\n",
    "    .option(\"spark.cosmos.accountKey\", \"<accountkey>\") \\\n",
    "    .option(\"spark.cosmos.database\", \"DF\") \\\n",
    "    .option(\"spark.cosmos.container\", \"Sales\") \\\n",
    "    .load()\n",
    " \n",
    "df.show()"
   ]
  },
  {
   "cell_type": "markdown",
   "metadata": {
    "application/vnd.databricks.v1+cell": {
     "cellMetadata": {
      "byteLimit": 2048000,
      "rowLimit": 10000
     },
     "inputWidgets": {},
     "nuid": "c9eca0aa-b621-462a-9738-459635afd940",
     "showTitle": false,
     "title": ""
    }
   },
   "source": [
    "### Checking inferred datatypes and making necessary typecasting"
   ]
  },
  {
   "cell_type": "code",
   "execution_count": null,
   "metadata": {
    "application/vnd.databricks.v1+cell": {
     "cellMetadata": {
      "byteLimit": 2048000,
      "rowLimit": 10000
     },
     "inputWidgets": {},
     "nuid": "3dc221e1-eea5-421d-86c2-761aeb8cf95e",
     "showTitle": false,
     "title": ""
    }
   },
   "outputs": [
    {
     "name": "stdout",
     "output_type": "stream",
     "text": [
      "root\n",
      " |-- stock: double (nullable = true)\n",
      " |-- store_id: string (nullable = true)\n",
      " |-- price: double (nullable = true)\n",
      " |-- promo_type_1: string (nullable = true)\n",
      " |-- id: string (nullable = false)\n",
      " |-- date: long (nullable = true)\n",
      " |-- sales: double (nullable = true)\n",
      " |-- revenue: double (nullable = true)\n",
      " |-- product_id: string (nullable = true)\n",
      "\n"
     ]
    }
   ],
   "source": [
    "df.printSchema()"
   ]
  },
  {
   "cell_type": "code",
   "execution_count": null,
   "metadata": {
    "application/vnd.databricks.v1+cell": {
     "cellMetadata": {
      "byteLimit": 2048000,
      "rowLimit": 10000
     },
     "inputWidgets": {},
     "nuid": "a46cdd57-ca1c-43d2-82cb-5743c5fc36b9",
     "showTitle": false,
     "title": ""
    }
   },
   "outputs": [],
   "source": [
    "df_converted = df.withColumn(\"date\", from_unixtime(col(\"date\") / 1000).cast(\"date\"))\n",
    "df_final = df_converted.drop(\"id\")\n"
   ]
  },
  {
   "cell_type": "markdown",
   "metadata": {
    "application/vnd.databricks.v1+cell": {
     "cellMetadata": {
      "byteLimit": 2048000,
      "rowLimit": 10000
     },
     "inputWidgets": {},
     "nuid": "5447d3cc-4079-44a7-b4fb-87573327d725",
     "showTitle": false,
     "title": ""
    }
   },
   "source": [
    "### Optimisations"
   ]
  },
  {
   "cell_type": "code",
   "execution_count": null,
   "metadata": {
    "application/vnd.databricks.v1+cell": {
     "cellMetadata": {
      "byteLimit": 2048000,
      "rowLimit": 10000
     },
     "inputWidgets": {},
     "nuid": "6a8cfe06-c762-40ef-adc5-ccb5ee1ef99f",
     "showTitle": false,
     "title": ""
    }
   },
   "outputs": [
    {
     "name": "stdout",
     "output_type": "stream",
     "text": [
      "Out[5]: DataFrame[stock: double, store_id: string, price: double, promo_type_1: string, date: date, sales: double, revenue: double, product_id: string]"
     ]
    }
   ],
   "source": [
    "df_final.repartition('product_id')\n",
    "df_final.persist(StorageLevel.MEMORY_ONLY)"
   ]
  },
  {
   "cell_type": "markdown",
   "metadata": {
    "application/vnd.databricks.v1+cell": {
     "cellMetadata": {
      "byteLimit": 2048000,
      "rowLimit": 10000
     },
     "inputWidgets": {},
     "nuid": "c6f5b61c-2bf5-4c65-9713-ca47460b7cc3",
     "showTitle": false,
     "title": ""
    }
   },
   "source": [
    "### Checking Duplicates."
   ]
  },
  {
   "cell_type": "code",
   "execution_count": null,
   "metadata": {
    "application/vnd.databricks.v1+cell": {
     "cellMetadata": {
      "byteLimit": 2048000,
      "rowLimit": 10000
     },
     "inputWidgets": {},
     "nuid": "3dd424f2-b783-4b5c-9429-3014d674ddd3",
     "showTitle": false,
     "title": ""
    }
   },
   "outputs": [
    {
     "name": "stdout",
     "output_type": "stream",
     "text": [
      "Out[6]: 0"
     ]
    }
   ],
   "source": [
    "duplicates = df_final.groupBy(df_final.columns).count().filter(\"count > 1\")\n",
    "duplicates.count()"
   ]
  },
  {
   "cell_type": "markdown",
   "metadata": {
    "application/vnd.databricks.v1+cell": {
     "cellMetadata": {
      "byteLimit": 2048000,
      "rowLimit": 10000
     },
     "inputWidgets": {},
     "nuid": "d65dcef8-5980-4d93-9767-129d733809e9",
     "showTitle": false,
     "title": ""
    }
   },
   "source": [
    "### Count of Records"
   ]
  },
  {
   "cell_type": "code",
   "execution_count": null,
   "metadata": {
    "application/vnd.databricks.v1+cell": {
     "cellMetadata": {
      "byteLimit": 2048000,
      "rowLimit": 10000
     },
     "inputWidgets": {},
     "nuid": "ac9ae1c0-8405-42c3-b13d-2e74c36c1c44",
     "showTitle": false,
     "title": ""
    }
   },
   "outputs": [
    {
     "name": "stdout",
     "output_type": "stream",
     "text": [
      "Out[7]: 2143520"
     ]
    }
   ],
   "source": [
    "df_final.count()"
   ]
  },
  {
   "cell_type": "markdown",
   "metadata": {
    "application/vnd.databricks.v1+cell": {
     "cellMetadata": {
      "byteLimit": 2048000,
      "rowLimit": 10000
     },
     "inputWidgets": {},
     "nuid": "f8d29e3b-9294-489b-9565-f1ea4caf5418",
     "showTitle": false,
     "title": ""
    }
   },
   "source": [
    "### Checking for nulls and handling them"
   ]
  },
  {
   "cell_type": "code",
   "execution_count": null,
   "metadata": {
    "application/vnd.databricks.v1+cell": {
     "cellMetadata": {
      "byteLimit": 2048000,
      "rowLimit": 10000
     },
     "inputWidgets": {},
     "nuid": "e3a065d5-86fd-49fc-9a34-ceacb8ecef13",
     "showTitle": false,
     "title": ""
    }
   },
   "outputs": [
    {
     "name": "stdout",
     "output_type": "stream",
     "text": [
      "+-----+--------+-----+------------+----+-----+-------+----------+\n",
      "|stock|store_id|price|promo_type_1|date|sales|revenue|product_id|\n",
      "+-----+--------+-----+------------+----+-----+-------+----------+\n",
      "|19005|       0|62705|           0|   0|19005|  19005|         0|\n",
      "+-----+--------+-----+------------+----+-----+-------+----------+\n",
      "\n"
     ]
    }
   ],
   "source": [
    "null_counts = df_final.select([sum(col(c).isNull().cast(\"int\")).alias(c) for c in df_final.columns])\n",
    "null_counts.show()"
   ]
  },
  {
   "cell_type": "code",
   "execution_count": null,
   "metadata": {
    "application/vnd.databricks.v1+cell": {
     "cellMetadata": {
      "byteLimit": 2048000,
      "rowLimit": 10000
     },
     "inputWidgets": {},
     "nuid": "4d992097-45e3-4465-beda-18b9e1ebab27",
     "showTitle": false,
     "title": ""
    }
   },
   "outputs": [
    {
     "name": "stdout",
     "output_type": "stream",
     "text": [
      "+-----+--------+-----+------------+----------+-----+-------+----------+\n",
      "|stock|store_id|price|promo_type_1|      date|sales|revenue|product_id|\n",
      "+-----+--------+-----+------------+----------+-----+-------+----------+\n",
      "|  9.0|   S0020| 49.9|        PR14|2019-11-08|  0.0|    0.0|     P0005|\n",
      "|  9.0|   S0040|10.95|        PR14|2019-11-08|  0.0|    0.0|     P0001|\n",
      "|  9.0|   S0031| 13.9|        PR14|2019-11-08|  0.0|    0.0|     P0007|\n",
      "|  9.0|   S0110|119.9|        PR14|2019-11-08|  0.0|    0.0|     P0012|\n",
      "|  9.0|   S0048|10.95|        PR14|2019-11-08|  0.0|    0.0|     P0001|\n",
      "|  9.0|   S0090| 49.9|        PR14|2019-11-08|  0.0|    0.0|     P0005|\n",
      "|  9.0|   S0071| 3.25|        PR14|2019-11-08|  0.0|    0.0|     P0018|\n",
      "|  9.0|   S0110| 49.9|        PR14|2019-11-08|  0.0|    0.0|     P0005|\n",
      "|  9.0|   S0023|10.95|        PR14|2019-11-08|  0.0|    0.0|     P0001|\n",
      "|  9.0|   S0024| 13.9|        PR14|2019-11-08|  0.0|    0.0|     P0007|\n",
      "|  9.0|   S0031|119.9|        PR14|2019-11-08|  0.0|    0.0|     P0012|\n",
      "|  9.0|   S0040| 13.9|        PR14|2019-11-08|  0.0|    0.0|     P0007|\n",
      "|  9.0|   S0007| 4.95|        PR14|2019-11-08|  0.0|    0.0|     P0015|\n",
      "|  9.0|   S0072| 13.9|        PR14|2019-11-08|  0.0|    0.0|     P0007|\n",
      "|  9.0|   S0042|119.9|        PR14|2019-11-08|  0.0|    0.0|     P0012|\n",
      "|  9.0|   S0108| 13.9|        PR14|2019-11-08|  0.0|    0.0|     P0007|\n",
      "|  9.0|   S0057|10.95|        PR14|2019-11-08|  0.0|    0.0|     P0001|\n",
      "|  9.0|   S0090| 5.95|        PR14|2019-11-08|  0.0|    0.0|     P0008|\n",
      "|  9.0|   S0071|119.9|        PR14|2019-11-08|  0.0|    0.0|     P0012|\n",
      "|  9.0|   S0024| 5.95|        PR14|2019-11-08|  0.0|    0.0|     P0009|\n",
      "+-----+--------+-----+------------+----------+-----+-------+----------+\n",
      "only showing top 20 rows\n",
      "\n"
     ]
    }
   ],
   "source": [
    "median_dict = {\n",
    "    c: df_final.approxQuantile(c, [0.5], 0.01)[0] \n",
    "    for c in df_final.columns \n",
    "    if isinstance(df_final.schema[c].dataType, (DoubleType, FloatType, IntegerType))\n",
    "}\n",
    "\n",
    "df_cleaned = df_final.fillna(median_dict)\n",
    "\n",
    "df_cleaned.orderBy(col('date').desc()).show()\n"
   ]
  },
  {
   "cell_type": "code",
   "execution_count": null,
   "metadata": {
    "application/vnd.databricks.v1+cell": {
     "cellMetadata": {
      "byteLimit": 2048000,
      "rowLimit": 10000
     },
     "inputWidgets": {},
     "nuid": "03090cbc-957a-407f-a804-50428bd7e665",
     "showTitle": false,
     "title": ""
    }
   },
   "outputs": [
    {
     "name": "stdout",
     "output_type": "stream",
     "text": [
      "Out[10]: DataFrame[stock: double, store_id: string, price: double, promo_type_1: string, date: date, sales: double, revenue: double, product_id: string]"
     ]
    }
   ],
   "source": [
    "df_cleaned.repartition('product_id')\n",
    "df_cleaned.persist(StorageLevel.MEMORY_ONLY)"
   ]
  },
  {
   "cell_type": "code",
   "execution_count": null,
   "metadata": {
    "application/vnd.databricks.v1+cell": {
     "cellMetadata": {
      "byteLimit": 2048000,
      "rowLimit": 10000
     },
     "inputWidgets": {},
     "nuid": "aecc7dbb-801c-4c43-b954-908f32dd7529",
     "showTitle": false,
     "title": ""
    }
   },
   "outputs": [
    {
     "name": "stdout",
     "output_type": "stream",
     "text": [
      "+-----+-----+-----+-------+\n",
      "|stock|price|sales|revenue|\n",
      "+-----+-----+-----+-------+\n",
      "|    0|    0|    0|      0|\n",
      "+-----+-----+-----+-------+\n",
      "\n"
     ]
    }
   ],
   "source": [
    "null_counts = df_cleaned.select([sum(col(c).isNull().cast(\"int\")).alias(c) for c in df_final.columns if isinstance(df_final.schema[c].dataType, (DoubleType, FloatType, IntegerType))])\n",
    "null_counts.show()"
   ]
  },
  {
   "cell_type": "code",
   "execution_count": null,
   "metadata": {
    "application/vnd.databricks.v1+cell": {
     "cellMetadata": {
      "byteLimit": 2048000,
      "rowLimit": 10000
     },
     "inputWidgets": {},
     "nuid": "be53eaf4-8624-4cfe-a7ba-9b7e893df2c4",
     "showTitle": false,
     "title": ""
    }
   },
   "outputs": [],
   "source": [
    "df_cleaned = df_cleaned.select(\n",
    "    col(\"product_id\"),\n",
    "    col(\"store_id\"),\n",
    "    col(\"date\"),\n",
    "    col(\"sales\"),\n",
    "    col(\"revenue\"),\n",
    "    col(\"stock\"),\n",
    "    col(\"price\"),\n",
    "    col(\"promo_type_1\")\n",
    ")"
   ]
  },
  {
   "cell_type": "markdown",
   "metadata": {
    "application/vnd.databricks.v1+cell": {
     "cellMetadata": {
      "byteLimit": 2048000,
      "rowLimit": 10000
     },
     "inputWidgets": {},
     "nuid": "c71e31cd-59d2-4778-b79c-09df9ab5afa4",
     "showTitle": false,
     "title": ""
    }
   },
   "source": [
    "### creating new columns from date "
   ]
  },
  {
   "cell_type": "code",
   "execution_count": null,
   "metadata": {
    "application/vnd.databricks.v1+cell": {
     "cellMetadata": {
      "byteLimit": 2048000,
      "rowLimit": 10000
     },
     "inputWidgets": {},
     "nuid": "75be66fa-5971-49b9-abcc-b3f4e4bb6276",
     "showTitle": false,
     "title": ""
    }
   },
   "outputs": [],
   "source": [
    "df_cleaned = df_cleaned.select(\n",
    "    \"*\",\n",
    "    dayofmonth(col(\"date\")).alias(\"day_id\"),\n",
    "    month(col(\"date\")).alias(\"month_id\"),\n",
    "    year(col(\"date\")).alias(\"year_id\"),\n",
    "    dayofweek(col(\"date\")).alias(\"day_of_week\"),\n",
    "    quarter(col(\"date\")).alias(\"business_quarter\")\n",
    ")"
   ]
  },
  {
   "cell_type": "code",
   "execution_count": null,
   "metadata": {
    "application/vnd.databricks.v1+cell": {
     "cellMetadata": {
      "byteLimit": 2048000,
      "rowLimit": 10000
     },
     "inputWidgets": {},
     "nuid": "b6fc88d9-8320-4ca1-85f7-873612f469c9",
     "showTitle": false,
     "title": ""
    }
   },
   "outputs": [
    {
     "name": "stdout",
     "output_type": "stream",
     "text": [
      "+----------+--------+----------+-----+-------+-----+-----+------------+------+--------+-------+-----------+----------------+\n",
      "|product_id|store_id|      date|sales|revenue|stock|price|promo_type_1|day_id|month_id|year_id|day_of_week|business_quarter|\n",
      "+----------+--------+----------+-----+-------+-----+-----+------------+------+--------+-------+-----------+----------------+\n",
      "|     P0005|   S0020|2017-01-02|  0.0|    0.0|  3.0| 33.9|        PR14|     2|       1|   2017|          2|               1|\n",
      "|     P0005|   S0050|2017-01-02|  0.0|    0.0|  5.0| 33.9|        PR14|     2|       1|   2017|          2|               1|\n",
      "|     P0001|   S0050|2017-01-02|  0.0|    0.0|  5.0| 6.25|        PR14|     2|       1|   2017|          2|               1|\n",
      "|     P0005|   S0102|2017-01-02|  0.0|    0.0|  4.0| 33.9|        PR14|     2|       1|   2017|          2|               1|\n",
      "|     P0001|   S0102|2017-01-02|  0.0|    0.0|  7.0| 6.25|        PR14|     2|       1|   2017|          2|               1|\n",
      "|     P0015|   S0050|2017-01-02|  0.0|    0.0|  5.0|  2.6|        PR14|     2|       1|   2017|          2|               1|\n",
      "|     P0024|   S0020|2017-01-02|  0.0|    0.0| 45.0| 1.95|        PR14|     2|       1|   2017|          2|               1|\n",
      "|     P0035|   S0086|2017-01-02|  0.0|    0.0|  5.0| 2.45|        PR14|     2|       1|   2017|          2|               1|\n",
      "|     P0035|   S0119|2017-01-02|  0.0|    0.0|  3.0| 2.45|        PR14|     2|       1|   2017|          2|               1|\n",
      "|     P0035|   S0135|2017-01-02|  1.0|   2.27| 10.0| 2.45|        PR14|     2|       1|   2017|          2|               1|\n",
      "|     P0035|   S0141|2017-01-02|  0.0|    0.0|  6.0| 2.45|        PR14|     2|       1|   2017|          2|               1|\n",
      "|     P0046|   S0020|2017-01-02|  0.0|    0.0|  3.0| 34.5|        PR14|     2|       1|   2017|          2|               1|\n",
      "|     P0046|   S0022|2017-01-02|  0.0|    0.0|  4.0| 34.5|        PR14|     2|       1|   2017|          2|               1|\n",
      "|     P0046|   S0050|2017-01-02|  0.0|    0.0|  5.0| 34.5|        PR14|     2|       1|   2017|          2|               1|\n",
      "|     P0046|   S0102|2017-01-02|  0.0|    0.0|  7.0| 34.5|        PR14|     2|       1|   2017|          2|               1|\n",
      "|     P0050|   S0050|2017-01-02|  0.0|    0.0| 21.0| 5.95|        PR05|     2|       1|   2017|          2|               1|\n",
      "|     P0051|   S0020|2017-01-02| 10.0|   6.48|148.0|  0.7|        PR14|     2|       1|   2017|          2|               1|\n",
      "|     P0051|   S0022|2017-01-02|  0.0|    0.0|  5.0|  0.7|        PR14|     2|       1|   2017|          2|               1|\n",
      "|     P0051|   S0050|2017-01-02|  0.0|    0.0|  4.0|  0.7|        PR14|     2|       1|   2017|          2|               1|\n",
      "|     P0051|   S0068|2017-01-02|  0.0|    0.0| 52.0|  0.7|        PR14|     2|       1|   2017|          2|               1|\n",
      "+----------+--------+----------+-----+-------+-----+-----+------------+------+--------+-------+-----------+----------------+\n",
      "only showing top 20 rows\n",
      "\n"
     ]
    }
   ],
   "source": [
    "df_cleaned.show()"
   ]
  },
  {
   "cell_type": "markdown",
   "metadata": {
    "application/vnd.databricks.v1+cell": {
     "cellMetadata": {
      "byteLimit": 2048000,
      "rowLimit": 10000
     },
     "inputWidgets": {},
     "nuid": "2e385eaa-d5bb-4edd-8aea-28a479d8f7b0",
     "showTitle": false,
     "title": ""
    }
   },
   "source": [
    "### Reading Product Data from Landing Zone"
   ]
  },
  {
   "cell_type": "code",
   "execution_count": null,
   "metadata": {
    "application/vnd.databricks.v1+cell": {
     "cellMetadata": {
      "byteLimit": 2048000,
      "rowLimit": 10000
     },
     "inputWidgets": {},
     "nuid": "ae063121-6f6b-469b-b4b8-5ef82f1ae634",
     "showTitle": false,
     "title": ""
    }
   },
   "outputs": [
    {
     "name": "stdout",
     "output_type": "stream",
     "text": [
      "root\n",
      " |-- hierarchy5_id: string (nullable = true)\n",
      " |-- product_depth: string (nullable = true)\n",
      " |-- hierarchy1_id: string (nullable = true)\n",
      " |-- id: string (nullable = false)\n",
      " |-- product_id: string (nullable = true)\n",
      " |-- product_length: string (nullable = true)\n",
      " |-- hierarchy4_id: string (nullable = true)\n",
      " |-- product_width: string (nullable = true)\n",
      " |-- cluster_id: string (nullable = true)\n",
      " |-- hierarchy2_id: string (nullable = true)\n",
      " |-- hierarchy3_id: string (nullable = true)\n",
      "\n"
     ]
    }
   ],
   "source": [
    "product_df = spark.read.format(\"cosmos.oltp\") \\\n",
    "    .option(\"spark.cosmos.accountEndpoint\", \"<endpointURL>\") \\\n",
    "    .option(\"spark.cosmos.accountKey\", \"<accountkey>\") \\\n",
    "    .option(\"spark.cosmos.database\", \"DF\") \\\n",
    "    .option(\"spark.cosmos.container\", \"Product\") \\\n",
    "    .load()\n",
    "product_df.printSchema()"
   ]
  },
  {
   "cell_type": "code",
   "execution_count": null,
   "metadata": {
    "application/vnd.databricks.v1+cell": {
     "cellMetadata": {
      "byteLimit": 2048000,
      "rowLimit": 10000
     },
     "inputWidgets": {},
     "nuid": "53dc5565-080c-486a-8761-e6b98107f446",
     "showTitle": false,
     "title": ""
    }
   },
   "outputs": [],
   "source": [
    "product_df = product_df.select(\n",
    "    col(\"product_id\"),\n",
    "    col(\"product_length\").cast(\"double\").alias(\"product_length\"),\n",
    "    col(\"product_depth\").cast(\"double\").alias(\"product_depth\"),\n",
    "    col(\"product_width\").cast(\"double\").alias(\"product_width\"),\n",
    "    col(\"cluster_id\"),\n",
    "    col(\"hierarchy1_id\"),\n",
    "    col(\"hierarchy2_id\"),\n",
    "    col(\"hierarchy3_id\"),\n",
    "    col(\"hierarchy4_id\"),\n",
    "    col(\"hierarchy5_id\")\n",
    ")"
   ]
  },
  {
   "cell_type": "markdown",
   "metadata": {
    "application/vnd.databricks.v1+cell": {
     "cellMetadata": {
      "byteLimit": 2048000,
      "rowLimit": 10000
     },
     "inputWidgets": {},
     "nuid": "9d07e8f9-1d65-4e52-8657-dc830ff4bdb2",
     "showTitle": false,
     "title": ""
    }
   },
   "source": [
    "### checking nulls and handling them"
   ]
  },
  {
   "cell_type": "code",
   "execution_count": null,
   "metadata": {
    "application/vnd.databricks.v1+cell": {
     "cellMetadata": {
      "byteLimit": 2048000,
      "rowLimit": 10000
     },
     "inputWidgets": {},
     "nuid": "31455e56-88f6-4917-af08-95e91ff1c58a",
     "showTitle": false,
     "title": ""
    }
   },
   "outputs": [
    {
     "name": "stdout",
     "output_type": "stream",
     "text": [
      "+----------+--------------+-------------+-------------+----------+-------------+-------------+-------------+-------------+-------------+\n",
      "|product_id|product_length|product_depth|product_width|cluster_id|hierarchy1_id|hierarchy2_id|hierarchy3_id|hierarchy4_id|hierarchy5_id|\n",
      "+----------+--------------+-------------+-------------+----------+-------------+-------------+-------------+-------------+-------------+\n",
      "|         0|            18|           16|           16|        50|            0|            0|            0|            0|            0|\n",
      "+----------+--------------+-------------+-------------+----------+-------------+-------------+-------------+-------------+-------------+\n",
      "\n"
     ]
    }
   ],
   "source": [
    "null_counts = product_df.select([sum(col(c).isNull().cast(\"int\")).alias(c) for c in product_df.columns])\n",
    "null_counts.show()"
   ]
  },
  {
   "cell_type": "code",
   "execution_count": null,
   "metadata": {
    "application/vnd.databricks.v1+cell": {
     "cellMetadata": {
      "byteLimit": 2048000,
      "rowLimit": 10000
     },
     "inputWidgets": {},
     "nuid": "591bb169-e429-4cbf-a416-615dc8ecaddd",
     "showTitle": false,
     "title": ""
    }
   },
   "outputs": [],
   "source": [
    "median_length = product_df.approxQuantile('product_length', [0.5], 0.01)[0]\n",
    "median_depth = product_df.approxQuantile('product_depth', [0.5], 0.01)[0]\n",
    "median_width = product_df.approxQuantile('product_width', [0.5], 0.01)[0]\n",
    "\n",
    "product_df = product_df.fillna({\n",
    "    'product_length': median_length,\n",
    "    'product_depth': median_depth,\n",
    "    'product_width': median_width,\n",
    "    'cluster_id' : 'NaN'\n",
    "})\n"
   ]
  },
  {
   "cell_type": "code",
   "execution_count": null,
   "metadata": {
    "application/vnd.databricks.v1+cell": {
     "cellMetadata": {
      "byteLimit": 2048000,
      "rowLimit": 10000
     },
     "inputWidgets": {},
     "nuid": "98d09c29-5d3b-408e-8e7c-0ac5fd7edc1b",
     "showTitle": false,
     "title": ""
    }
   },
   "outputs": [
    {
     "name": "stdout",
     "output_type": "stream",
     "text": [
      "+----------+--------------+-------------+-------------+----------+-------------+-------------+-------------+-------------+-------------+\n",
      "|product_id|product_length|product_depth|product_width|cluster_id|hierarchy1_id|hierarchy2_id|hierarchy3_id|hierarchy4_id|hierarchy5_id|\n",
      "+----------+--------------+-------------+-------------+----------+-------------+-------------+-------------+-------------+-------------+\n",
      "|         0|             0|            0|            0|         0|            0|            0|            0|            0|            0|\n",
      "+----------+--------------+-------------+-------------+----------+-------------+-------------+-------------+-------------+-------------+\n",
      "\n"
     ]
    }
   ],
   "source": [
    "null_counts = product_df.select([sum(col(c).isNull().cast(\"int\")).alias(c) for c in product_df.columns])\n",
    "null_counts.show()"
   ]
  },
  {
   "cell_type": "markdown",
   "metadata": {
    "application/vnd.databricks.v1+cell": {
     "cellMetadata": {
      "byteLimit": 2048000,
      "rowLimit": 10000
     },
     "inputWidgets": {},
     "nuid": "0e1b5ee2-627e-4a27-b373-8a60d999fb7b",
     "showTitle": false,
     "title": ""
    }
   },
   "source": [
    "### Reading Store Data from the Landing Zone"
   ]
  },
  {
   "cell_type": "code",
   "execution_count": null,
   "metadata": {
    "application/vnd.databricks.v1+cell": {
     "cellMetadata": {
      "byteLimit": 2048000,
      "rowLimit": 10000
     },
     "inputWidgets": {},
     "nuid": "06cf65e1-c078-4744-8778-7811d0d5737a",
     "showTitle": false,
     "title": ""
    }
   },
   "outputs": [],
   "source": [
    "store_df = spark.read.format(\"cosmos.oltp\") \\\n",
    "    .option(\"spark.cosmos.accountEndpoint\", \"<endpointURL>\") \\\n",
    "    .option(\"spark.cosmos.accountKey\", \"<accountkey>\") \\\n",
    "    .option(\"spark.cosmos.database\", \"DF\") \\\n",
    "    .option(\"spark.cosmos.container\", \"Store\") \\\n",
    "    .load()"
   ]
  },
  {
   "cell_type": "code",
   "execution_count": null,
   "metadata": {
    "application/vnd.databricks.v1+cell": {
     "cellMetadata": {
      "byteLimit": 2048000,
      "rowLimit": 10000
     },
     "inputWidgets": {},
     "nuid": "b4342c01-82ba-4a70-8fd7-d08667aee63e",
     "showTitle": false,
     "title": ""
    }
   },
   "outputs": [],
   "source": [
    "store_df = store_df.select(\n",
    "    col(\"store_id\"),\n",
    "    col(\"storetype_id\"),\n",
    "    col(\"store_size\"),\n",
    "    col(\"city_id\")\n",
    ")"
   ]
  },
  {
   "cell_type": "code",
   "execution_count": null,
   "metadata": {
    "application/vnd.databricks.v1+cell": {
     "cellMetadata": {
      "byteLimit": 2048000,
      "rowLimit": 10000
     },
     "inputWidgets": {},
     "nuid": "152d68ec-da64-48a9-999e-3dd62210fe03",
     "showTitle": false,
     "title": ""
    }
   },
   "outputs": [
    {
     "name": "stdout",
     "output_type": "stream",
     "text": [
      "+--------+------------+----------+-------+\n",
      "|store_id|storetype_id|store_size|city_id|\n",
      "+--------+------------+----------+-------+\n",
      "|       0|           0|         0|      0|\n",
      "+--------+------------+----------+-------+\n",
      "\n"
     ]
    }
   ],
   "source": [
    "null_counts = store_df.select([sum(col(c).isNull().cast(\"int\")).alias(c) for c in store_df.columns])\n",
    "null_counts.show()"
   ]
  },
  {
   "cell_type": "markdown",
   "metadata": {
    "application/vnd.databricks.v1+cell": {
     "cellMetadata": {
      "byteLimit": 2048000,
      "rowLimit": 10000
     },
     "inputWidgets": {},
     "nuid": "5693b8f8-1402-475b-b187-e31233598f4f",
     "showTitle": false,
     "title": ""
    }
   },
   "source": [
    "### Joining 3 Datasets into a single dataframe"
   ]
  },
  {
   "cell_type": "code",
   "execution_count": null,
   "metadata": {
    "application/vnd.databricks.v1+cell": {
     "cellMetadata": {
      "byteLimit": 2048000,
      "rowLimit": 10000
     },
     "inputWidgets": {},
     "nuid": "c989fdd3-4290-4579-bacd-dcd5a9796e1b",
     "showTitle": false,
     "title": ""
    }
   },
   "outputs": [],
   "source": [
    "product_sales_df = df_cleaned.join(broadcast(product_df), on='product_id', how='inner')\n",
    "joined_df = product_sales_df.join(broadcast(store_df), on='store_id', how='inner')\n",
    "\n",
    "joined_df.toPandas()"
   ]
  },
  {
   "cell_type": "markdown",
   "metadata": {
    "application/vnd.databricks.v1+cell": {
     "cellMetadata": {
      "byteLimit": 2048000,
      "rowLimit": 10000
     },
     "inputWidgets": {},
     "nuid": "cb5af027-e313-4eaf-95db-aff493faa2fe",
     "showTitle": false,
     "title": ""
    }
   },
   "source": [
    "### Writing the Cleaned Data to Azure Blob Storage"
   ]
  },
  {
   "cell_type": "code",
   "execution_count": null,
   "metadata": {
    "application/vnd.databricks.v1+cell": {
     "cellMetadata": {
      "byteLimit": 2048000,
      "rowLimit": 10000
     },
     "inputWidgets": {},
     "nuid": "961b2778-4771-4e54-bb7e-dba077956449",
     "showTitle": false,
     "title": ""
    }
   },
   "outputs": [],
   "source": [
    "spark.conf.set(\"fs.azure.account.key.cs0storage0acc.blob.core.windows.net\", \"<accountkey>\")"
   ]
  },
  {
   "cell_type": "code",
   "execution_count": null,
   "metadata": {
    "application/vnd.databricks.v1+cell": {
     "cellMetadata": {
      "byteLimit": 2048000,
      "rowLimit": 10000
     },
     "inputWidgets": {},
     "nuid": "27500b39-e8f0-4557-b6a6-13419aea1f8f",
     "showTitle": false,
     "title": ""
    }
   },
   "outputs": [],
   "source": [
    "output_path = \"wasbs://transformationoutput@cs0storage0acc.blob.core.windows.net/output.parquet\""
   ]
  },
  {
   "cell_type": "code",
   "execution_count": null,
   "metadata": {
    "application/vnd.databricks.v1+cell": {
     "cellMetadata": {
      "byteLimit": 2048000,
      "rowLimit": 10000
     },
     "inputWidgets": {},
     "nuid": "01c66ec2-173a-4f4a-a6a7-514e85106a12",
     "showTitle": false,
     "title": ""
    }
   },
   "outputs": [],
   "source": [
    "joined_df.write.parquet(output_path, mode='overwrite')"
   ]
  }
 ],
 "metadata": {
  "application/vnd.databricks.v1+notebook": {
   "dashboards": [],
   "environmentMetadata": null,
   "language": "python",
   "notebookMetadata": {
    "pythonIndentUnit": 4
   },
   "notebookName": "Capstone-Transformations",
   "widgets": {}
  },
  "language_info": {
   "name": "python"
  }
 },
 "nbformat": 4,
 "nbformat_minor": 0
}
